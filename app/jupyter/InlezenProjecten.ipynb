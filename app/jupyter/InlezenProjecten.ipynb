{
 "cells": [
  {
   "cell_type": "code",
   "execution_count": 2,
   "metadata": {},
   "outputs": [],
   "source": [
    "import pymongo\n",
    "import pandas as pd\n",
    "\n",
    "import plotly.figure_factory as ff\n",
    "\n",
    "from flaskapp import config"
   ]
  },
  {
   "cell_type": "code",
   "execution_count": 3,
   "metadata": {},
   "outputs": [],
   "source": [
    "myclient = pymongo.MongoClient(str(config.MONGO_URI))\n",
    "stagingDb = myclient[str(config.DB_STAGING)]"
   ]
  },
  {
   "cell_type": "code",
   "execution_count": 10,
   "metadata": {},
   "outputs": [],
   "source": [
    "pipeline = [ \n",
    "            { '$group':{'_id': {\"projectcd\" : \"$project\", 'table': \"$table\"}}},\n",
    "            { '$unwind': \"$_id\"},\n",
    "            { '$project': {'_id': 0, 'projectcd': { '$ifNull': [ \"$_id.projectcd\", \"Unspecified\" ] }, 'table': \"$_id.table\"}},\n",
    "            { '$addFields': {'type':'Alleen Data'}}\n",
    "        ]\n",
    "dfIngelezenTabellenOud = pd.DataFrame(list(stagingDb[config.COLL_STAGING_OUD].aggregate(pipeline)))\n",
    "dfIngelezenTabellenNieuw = pd.DataFrame(list(stagingDb[config.COLL_STAGING_NIEUW].aggregate(pipeline)))\n",
    "dfIngelezenTabellenDelfIT = pd.DataFrame(list(stagingDb[config.COLL_STAGING_DELFIT].aggregate(pipeline)))\n",
    "dfIngelezenTabellenMagazijn = pd.DataFrame(list(stagingDb[config.COLL_STAGING_MAGAZIJNLIJST].aggregate(pipeline)))\n",
    "\n",
    "dfIngelezenTabellen = result = pd.concat([dfIngelezenTabellenOud, dfIngelezenTabellenNieuw, dfIngelezenTabellenDelfIT, dfIngelezenTabellenMagazijn])\n",
    "\n",
    "pipeline = [ \n",
    "            { '$group':{'_id': {\"projectcd\" : \"$project\", 'table': \"$table\"}}},\n",
    "            { '$unwind': \"$_id\"},\n",
    "            { '$project': {'_id': 0, 'projectcd': { '$ifNull': [ \"$_id.projectcd\", \"Unspecified\" ] }, 'table': \"$_id.table\"}},\n",
    "            { '$addFields': {'type':'Alleen Meta'}}\n",
    "        ]\n",
    "ingelezenMetadata = stagingDb['Kolominformatie'].aggregate(pipeline)\n",
    "dfIngelezenMetadata = pd.DataFrame(list(ingelezenMetadata))\n"
   ]
  },
  {
   "cell_type": "code",
   "execution_count": 11,
   "metadata": {},
   "outputs": [],
   "source": [
    "\n",
    "df = pd.merge(dfIngelezenTabellen, dfIngelezenMetadata, how='outer', on=['projectcd', 'table'])\n",
    "df['ingelezen'] = df.apply(lambda x: \"Data en Meta\" if pd.notna(x['type_y']) & pd.notna(x['type_x']) else \n",
    "    (x['type_x'] if pd.notna(x['type_x']) else\n",
    "    (x['type_y'] if pd.notna(x['type_y']) \n",
    "    else \"Niets\")),axis=1)\n",
    "df['teller'] = 1\n",
    "df = df.sort_values(by='projectcd', ascending=True, na_position='last')"
   ]
  },
  {
   "cell_type": "code",
   "execution_count": 12,
   "metadata": {},
   "outputs": [
    {
     "data": {
      "application/vnd.plotly.v1+json": {
       "config": {
        "plotlyServerURL": "https://plot.ly"
       },
       "data": [
        {
         "alignmentgroup": "True",
         "customdata": [
          [
           "KLEIPIJPEN"
          ]
         ],
         "hoverlabel": {
          "namelength": 0
         },
         "hovertemplate": "projectcd=DB08<br>ingelezen=%{x}<br>teller=%{y}<br>table=%{customdata[0]}",
         "legendgroup": "projectcd=DB08",
         "marker": {
          "color": "#636efa"
         },
         "name": "projectcd=DB08",
         "offsetgroup": "projectcd=DB08",
         "orientation": "v",
         "showlegend": true,
         "textposition": "auto",
         "type": "bar",
         "x": [
          "Data en Meta"
         ],
         "xaxis": "x",
         "y": [
          1
         ],
         "yaxis": "y"
        },
        {
         "alignmentgroup": "True",
         "customdata": [
          [
           "Huismerken op aardewerk"
          ],
          [
           "LEER"
          ],
          [
           "METAAL"
          ],
          [
           "AARDEWERK 1 BAKSEL"
          ],
          [
           "LIJST VONDSTEN  URGENTE CONSERVERING"
          ],
          [
           "DIAOPGRAVING"
          ],
          [
           "VULLINGEN"
          ],
          [
           "HOUT"
          ],
          [
           "backupHOUT"
          ],
          [
           "Spijkers"
          ],
          [
           "AARDEWERK 1&2 VOORWERP"
          ],
          [
           "SkeletKV4"
          ],
          [
           "ROMEINS AARDEWERK"
          ],
          [
           "SPOREN"
          ],
          [
           "AARDEWERK 1"
          ],
          [
           "STEEN"
          ],
          [
           "AW1DeterminatiesJohan"
          ],
          [
           "TEKENINGEN"
          ],
          [
           "Controle vondsten"
          ],
          [
           "Aardewerk 1 backup"
          ],
          [
           "CATALOGUS AW1"
          ],
          [
           "Buikmonsters KV-IV"
          ],
          [
           "VONDSTENLIJST"
          ],
          [
           "MUNTEN EN PENNINGEN"
          ],
          [
           "GLAS"
          ]
         ],
         "hoverlabel": {
          "namelength": 0
         },
         "hovertemplate": "projectcd=DB34<br>ingelezen=%{x}<br>teller=%{y}<br>table=%{customdata[0]}",
         "legendgroup": "projectcd=DB34",
         "marker": {
          "color": "#EF553B"
         },
         "name": "projectcd=DB34",
         "offsetgroup": "projectcd=DB34",
         "orientation": "v",
         "showlegend": true,
         "textposition": "auto",
         "type": "bar",
         "x": [
          "Data en Meta",
          "Data en Meta",
          "Data en Meta",
          "Data en Meta",
          "Data en Meta",
          "Data en Meta",
          "Data en Meta",
          "Data en Meta",
          "Data en Meta",
          "Data en Meta",
          "Alleen Meta",
          "Data en Meta",
          "Data en Meta",
          "Data en Meta",
          "Data en Meta",
          "Data en Meta",
          "Data en Meta",
          "Data en Meta",
          "Data en Meta",
          "Data en Meta",
          "Data en Meta",
          "Data en Meta",
          "Data en Meta",
          "Data en Meta",
          "Data en Meta"
         ],
         "xaxis": "x",
         "y": [
          1,
          1,
          1,
          1,
          1,
          1,
          1,
          1,
          1,
          1,
          1,
          1,
          1,
          1,
          1,
          1,
          1,
          1,
          1,
          1,
          1,
          1,
          1,
          1,
          1
         ],
         "yaxis": "y"
        },
        {
         "alignmentgroup": "True",
         "customdata": [
          [
           "TEKENINGEN"
          ],
          [
           "VONDSTENLIJST"
          ],
          [
           "HOUT"
          ]
         ],
         "hoverlabel": {
          "namelength": 0
         },
         "hovertemplate": "projectcd=DC11<br>ingelezen=%{x}<br>teller=%{y}<br>table=%{customdata[0]}",
         "legendgroup": "projectcd=DC11",
         "marker": {
          "color": "#00cc96"
         },
         "name": "projectcd=DC11",
         "offsetgroup": "projectcd=DC11",
         "orientation": "v",
         "showlegend": true,
         "textposition": "auto",
         "type": "bar",
         "x": [
          "Data en Meta",
          "Data en Meta",
          "Data en Meta"
         ],
         "xaxis": "x",
         "y": [
          1,
          1,
          1
         ],
         "yaxis": "y"
        },
        {
         "alignmentgroup": "True",
         "customdata": [
          [
           "SPOREN"
          ],
          [
           "VULLINGEN"
          ],
          [
           "KLEIPIJPEN"
          ],
          [
           "Fotolijst"
          ],
          [
           "VONDSTENLIJST"
          ],
          [
           "AARDEWERK2"
          ],
          [
           "REF_SPOORAARD"
          ],
          [
           "HOUT"
          ],
          [
           "TEKENINGEN"
          ],
          [
           "LEER"
          ]
         ],
         "hoverlabel": {
          "namelength": 0
         },
         "hovertemplate": "projectcd=DC112<br>ingelezen=%{x}<br>teller=%{y}<br>table=%{customdata[0]}",
         "legendgroup": "projectcd=DC112",
         "marker": {
          "color": "#ab63fa"
         },
         "name": "projectcd=DC112",
         "offsetgroup": "projectcd=DC112",
         "orientation": "v",
         "showlegend": true,
         "textposition": "auto",
         "type": "bar",
         "x": [
          "Data en Meta",
          "Data en Meta",
          "Data en Meta",
          "Data en Meta",
          "Data en Meta",
          "Data en Meta",
          "Data en Meta",
          "Data en Meta",
          "Data en Meta",
          "Data en Meta"
         ],
         "xaxis": "x",
         "y": [
          1,
          1,
          1,
          1,
          1,
          1,
          1,
          1,
          1,
          1
         ],
         "yaxis": "y"
        },
        {
         "alignmentgroup": "True",
         "customdata": [
          [
           "SYS_VARS"
          ],
          [
           "SYS_LOOKUP"
          ],
          [
           "PUT"
          ],
          [
           "SPOOR"
          ],
          [
           "ARTF_KER"
          ],
          [
           "ARTF_MET"
          ],
          [
           "SYS_USERS"
          ],
          [
           "SYS_SCRIPT"
          ],
          [
           "VLAK"
          ],
          [
           "SYS_STRUCT"
          ],
          [
           "ARTF_OPH"
          ],
          [
           "SYS_OBJLOC"
          ],
          [
           "ARTEFACT"
          ],
          [
           "SYS_FIELDS"
          ],
          [
           "VULLING"
          ],
          [
           "VONDST"
          ],
          [
           "SYS_GISTAB"
          ],
          [
           "SYS_RELTYP"
          ],
          [
           "ARTF_PIJP"
          ],
          [
           "PROJECT"
          ],
          [
           "ARTF_GLS"
          ],
          [
           "SYS_LOG"
          ],
          [
           "FOTO"
          ],
          [
           "VONDSTINHD"
          ]
         ],
         "hoverlabel": {
          "namelength": 0
         },
         "hovertemplate": "projectcd=DC154<br>ingelezen=%{x}<br>teller=%{y}<br>table=%{customdata[0]}",
         "legendgroup": "projectcd=DC154",
         "marker": {
          "color": "#FFA15A"
         },
         "name": "projectcd=DC154",
         "offsetgroup": "projectcd=DC154",
         "orientation": "v",
         "showlegend": true,
         "textposition": "auto",
         "type": "bar",
         "x": [
          "Data en Meta",
          "Data en Meta",
          "Data en Meta",
          "Data en Meta",
          "Data en Meta",
          "Data en Meta",
          "Alleen Data",
          "Data en Meta",
          "Data en Meta",
          "Data en Meta",
          "Data en Meta",
          "Data en Meta",
          "Data en Meta",
          "Data en Meta",
          "Data en Meta",
          "Alleen Data",
          "Data en Meta",
          "Data en Meta",
          "Data en Meta",
          "Data en Meta",
          "Data en Meta",
          "Alleen Data",
          "Alleen Data",
          "Data en Meta"
         ],
         "xaxis": "x",
         "y": [
          1,
          1,
          1,
          1,
          1,
          1,
          1,
          1,
          1,
          1,
          1,
          1,
          1,
          1,
          1,
          1,
          1,
          1,
          1,
          1,
          1,
          1,
          1,
          1
         ],
         "yaxis": "y"
        },
        {
         "alignmentgroup": "True",
         "customdata": [
          [
           "VULLING"
          ],
          [
           "SPOOR"
          ],
          [
           "SPOOR_INHOUD"
          ],
          [
           "MUUR"
          ],
          [
           "KERAMIEK_VAK_gesplitst"
          ],
          [
           "VONDSTINHD"
          ],
          [
           "ARTF_BOT"
          ],
          [
           "ARTF_OPH"
          ],
          [
           "SYS_LOOKUP"
          ],
          [
           "PUT_VAK"
          ],
          [
           "SYS_USERS"
          ],
          [
           "SYS_SCRIPT"
          ],
          [
           "VONDST"
          ],
          [
           "ARTF_PIJP"
          ],
          [
           "SYS_OBJREL"
          ],
          [
           "VAK_VONDST"
          ],
          [
           "SYS_FIELDS"
          ],
          [
           "ARTEFACT"
          ],
          [
           "SYS_STRUCT"
          ],
          [
           "PROJECT"
          ],
          [
           "SYS_GISTAB"
          ],
          [
           "PUT"
          ],
          [
           "SYS_RELTYP"
          ],
          [
           "Palen_lakenramen2"
          ],
          [
           "SYS_VARS"
          ],
          [
           "GIS_SPOOR_STRUCTOBJ"
          ],
          [
           "TEKENING"
          ],
          [
           "Tellijst_Vondstmateriaal"
          ],
          [
           "SYS_LOG"
          ],
          [
           "VLAK"
          ],
          [
           "ARTF_KER"
          ],
          [
           "FOTO"
          ],
          [
           "SYS_OBJLOC"
          ],
          [
           "GIS_STRUCTOBJ_STRUCTOBJ"
          ],
          [
           "ARTF_MET"
          ]
         ],
         "hoverlabel": {
          "namelength": 0
         },
         "hovertemplate": "projectcd=DC179<br>ingelezen=%{x}<br>teller=%{y}<br>table=%{customdata[0]}",
         "legendgroup": "projectcd=DC179",
         "marker": {
          "color": "#19d3f3"
         },
         "name": "projectcd=DC179",
         "offsetgroup": "projectcd=DC179",
         "orientation": "v",
         "showlegend": true,
         "textposition": "auto",
         "type": "bar",
         "x": [
          "Data en Meta",
          "Data en Meta",
          "Data en Meta",
          "Data en Meta",
          "Data en Meta",
          "Data en Meta",
          "Alleen Data",
          "Data en Meta",
          "Data en Meta",
          "Data en Meta",
          "Data en Meta",
          "Data en Meta",
          "Data en Meta",
          "Data en Meta",
          "Data en Meta",
          "Alleen Data",
          "Data en Meta",
          "Data en Meta",
          "Data en Meta",
          "Data en Meta",
          "Data en Meta",
          "Data en Meta",
          "Data en Meta",
          "Data en Meta",
          "Data en Meta",
          "Data en Meta",
          "Data en Meta",
          "Data en Meta",
          "Alleen Data",
          "Data en Meta",
          "Data en Meta",
          "Alleen Data",
          "Data en Meta",
          "Data en Meta",
          "Data en Meta"
         ],
         "xaxis": "x",
         "y": [
          1,
          1,
          1,
          1,
          1,
          1,
          1,
          1,
          1,
          1,
          1,
          1,
          1,
          1,
          1,
          1,
          1,
          1,
          1,
          1,
          1,
          1,
          1,
          1,
          1,
          1,
          1,
          1,
          1,
          1,
          1,
          1,
          1,
          1,
          1
         ],
         "yaxis": "y"
        },
        {
         "alignmentgroup": "True",
         "customdata": [
          [
           "DIAVOORWERP"
          ],
          [
           "KLEIPIJPEN"
          ],
          [
           "HOUT"
          ],
          [
           "AARDEWERK 2"
          ],
          [
           "TEKENINGEN"
          ],
          [
           "backupHOUT"
          ]
         ],
         "hoverlabel": {
          "namelength": 0
         },
         "hovertemplate": "projectcd=DC36<br>ingelezen=%{x}<br>teller=%{y}<br>table=%{customdata[0]}",
         "legendgroup": "projectcd=DC36",
         "marker": {
          "color": "#FF6692"
         },
         "name": "projectcd=DC36",
         "offsetgroup": "projectcd=DC36",
         "orientation": "v",
         "showlegend": true,
         "textposition": "auto",
         "type": "bar",
         "x": [
          "Data en Meta",
          "Data en Meta",
          "Alleen Data",
          "Data en Meta",
          "Data en Meta",
          "Data en Meta"
         ],
         "xaxis": "x",
         "y": [
          1,
          1,
          1,
          1,
          1,
          1
         ],
         "yaxis": "y"
        },
        {
         "alignmentgroup": "True",
         "customdata": [
          [
           "TEKENINGEN"
          ]
         ],
         "hoverlabel": {
          "namelength": 0
         },
         "hovertemplate": "projectcd=DC56<br>ingelezen=%{x}<br>teller=%{y}<br>table=%{customdata[0]}",
         "legendgroup": "projectcd=DC56",
         "marker": {
          "color": "#B6E880"
         },
         "name": "projectcd=DC56",
         "offsetgroup": "projectcd=DC56",
         "orientation": "v",
         "showlegend": true,
         "textposition": "auto",
         "type": "bar",
         "x": [
          "Data en Meta"
         ],
         "xaxis": "x",
         "y": [
          1
         ],
         "yaxis": "y"
        },
        {
         "alignmentgroup": "True",
         "customdata": [
          [
           "METAAL"
          ],
          [
           "AARDEWERK 2"
          ]
         ],
         "hoverlabel": {
          "namelength": 0
         },
         "hovertemplate": "projectcd=DC72<br>ingelezen=%{x}<br>teller=%{y}<br>table=%{customdata[0]}",
         "legendgroup": "projectcd=DC72",
         "marker": {
          "color": "#FF97FF"
         },
         "name": "projectcd=DC72",
         "offsetgroup": "projectcd=DC72",
         "orientation": "v",
         "showlegend": true,
         "textposition": "auto",
         "type": "bar",
         "x": [
          "Data en Meta",
          "Data en Meta"
         ],
         "xaxis": "x",
         "y": [
          1,
          1
         ],
         "yaxis": "y"
        },
        {
         "alignmentgroup": "True",
         "customdata": [
          [
           "GLAS"
          ],
          [
           "HOUT"
          ],
          [
           "STEEN"
          ],
          [
           "VULLINGEN"
          ],
          [
           "LEER"
          ],
          [
           "SPOREN"
          ],
          [
           "VONDSTENLIJST"
          ],
          [
           "backupHOUT"
          ],
          [
           "DIAOPGRAVING"
          ],
          [
           "KLEIPIJPEN"
          ],
          [
           "TEKENINGEN"
          ]
         ],
         "hoverlabel": {
          "namelength": 0
         },
         "hovertemplate": "projectcd=DC93<br>ingelezen=%{x}<br>teller=%{y}<br>table=%{customdata[0]}",
         "legendgroup": "projectcd=DC93",
         "marker": {
          "color": "#FECB52"
         },
         "name": "projectcd=DC93",
         "offsetgroup": "projectcd=DC93",
         "orientation": "v",
         "showlegend": true,
         "textposition": "auto",
         "type": "bar",
         "x": [
          "Data en Meta",
          "Data en Meta",
          "Data en Meta",
          "Data en Meta",
          "Data en Meta",
          "Data en Meta",
          "Data en Meta",
          "Data en Meta",
          "Data en Meta",
          "Data en Meta",
          "Data en Meta"
         ],
         "xaxis": "x",
         "y": [
          1,
          1,
          1,
          1,
          1,
          1,
          1,
          1,
          1,
          1,
          1
         ],
         "yaxis": "y"
        },
        {
         "alignmentgroup": "True",
         "customdata": [
          [
           "GLAS"
          ],
          [
           "backupHOUT"
          ],
          [
           "TEKENINGEN"
          ],
          [
           "AARDEWERK 1"
          ],
          [
           "HOUT"
          ],
          [
           "DIAOPGRAVING"
          ],
          [
           "MUNTEN EN PENNINGEN"
          ],
          [
           "Kopie van AARDEWERK 1"
          ],
          [
           "SPOREN"
          ],
          [
           "LEER"
          ],
          [
           "METAAL"
          ],
          [
           "VONDSTENLIJST"
          ],
          [
           "VULLINGEN"
          ],
          [
           "STEEN"
          ]
         ],
         "hoverlabel": {
          "namelength": 0
         },
         "hovertemplate": "projectcd=DC97<br>ingelezen=%{x}<br>teller=%{y}<br>table=%{customdata[0]}",
         "legendgroup": "projectcd=DC97",
         "marker": {
          "color": "#636efa"
         },
         "name": "projectcd=DC97",
         "offsetgroup": "projectcd=DC97",
         "orientation": "v",
         "showlegend": true,
         "textposition": "auto",
         "type": "bar",
         "x": [
          "Data en Meta",
          "Data en Meta",
          "Data en Meta",
          "Data en Meta",
          "Data en Meta",
          "Data en Meta",
          "Alleen Meta",
          "Alleen Data",
          "Data en Meta",
          "Data en Meta",
          "Data en Meta",
          "Data en Meta",
          "Data en Meta",
          "Data en Meta"
         ],
         "xaxis": "x",
         "y": [
          1,
          1,
          1,
          1,
          1,
          1,
          1,
          1,
          1,
          1,
          1,
          1,
          1,
          1
         ],
         "yaxis": "y"
        },
        {
         "alignmentgroup": "True",
         "customdata": [
          [
           "BOT CODE SPECIE"
          ],
          [
           "BEENTOTAAL"
          ],
          [
           "oude tabel AARDEWERK1TOTAAL"
          ],
          [
           "SPORENTOTAAL"
          ],
          [
           "HOUTTOTAAL"
          ],
          [
           "BEEN FUNCTIE"
          ],
          [
           "MUNTENTOTAAL"
          ],
          [
           "GDB_Items"
          ],
          [
           "METAALTOTAAL"
          ],
          [
           "DIAOPGRAVINGTOTAAL"
          ],
          [
           "GDB_GeomColumns"
          ],
          [
           "AARDEWERK2TOTAAL"
          ],
          [
           "GDB_SpatialRefs"
          ],
          [
           "backup STEENTOTAAL"
          ],
          [
           "METAAL BEWERKING"
          ],
          [
           "GDB_ItemRelationshipTypes"
          ],
          [
           "backup HOUTTOTAAL"
          ],
          [
           "METAAL FUNCTIE"
          ],
          [
           "DIGIFOTOVOORWERPTOTAAL"
          ],
          [
           "oude tabel HOUT HOUTSOORT"
          ],
          [
           "AARDEWERK 2 BAKSEL"
          ],
          [
           "METAAL GROEP"
          ],
          [
           "STEEN FUNCTIE"
          ],
          [
           "Plakfouten"
          ],
          [
           "VULLINGENTOTAAL"
          ],
          [
           "AARDEWERK 2 VOORWERP"
          ],
          [
           "GLAS GLASSOORT"
          ],
          [
           "STEEN SOORT"
          ],
          [
           "GDB_ColumnInfo"
          ],
          [
           "BOTTOTAAL"
          ],
          [
           "REF_SPOORAARD"
          ],
          [
           "backup BOTTOTAAL 12-7-2004"
          ],
          [
           "AARDEWERK 2 FUNCTIE"
          ],
          [
           "AARDEWERK 1 BAKSEL"
          ],
          [
           "BOTTOTAALoude tabel"
          ],
          [
           "BOT CODE ELEMENT"
          ],
          [
           "DIAVOORWERPTOTAAL"
          ],
          [
           "HOUT FUNCTIE"
          ],
          [
           "Ontbrekende vondstenlijsten"
          ],
          [
           "HOUT HOUTSOORT"
          ],
          [
           "DIGIFOTOOPGRAVINGTOTAAL"
          ],
          [
           "Dialijst uit ACDC"
          ],
          [
           "RURBIEKEN MUNTEN EN PENNINGEN"
          ],
          [
           "KLEIPIJPEN backup 30-11-2001"
          ],
          [
           "KLEIPIJPEN MAKER"
          ],
          [
           "OPGRAVINGEN"
          ],
          [
           "METAAL SOORT"
          ],
          [
           "GLAS FUNCTIE"
          ],
          [
           "STEEN PRODUCTIECENTRUM"
          ],
          [
           "AARDEWERK 1 SUBBAKSEL"
          ],
          [
           "METAAL OPPERVLAK"
          ],
          [
           "Tabel1"
          ],
          [
           "VONDSTENLIJSTTOTAAL"
          ],
          [
           "STEENTOTAAL"
          ],
          [
           "METAAL VOORWERP"
          ],
          [
           "Blad2"
          ],
          [
           "backup HOUTTOTAAL 2-2-2004"
          ],
          [
           "KLEIPIJPENTOTAAL"
          ],
          [
           "STEEN VOORWERP"
          ],
          [
           "DIAOPGRAVING TE BESCHRIJVEN DIA'S"
          ],
          [
           "LEERTOTAAL"
          ],
          [
           "VINDPLAATSEN"
          ],
          [
           "ROMEINSAARDEWERKTOTAAL"
          ],
          [
           "GLAS VOORWERP"
          ],
          [
           "AARDEWERK 1 FRAGMENT"
          ],
          [
           "GDB_ItemTypes"
          ],
          [
           "GLASTOTAAL"
          ],
          [
           "AARDEWERK1TOTAAL"
          ],
          [
           "AARDEWERK 1 GLAZUUR"
          ],
          [
           "TREFWOORDENLIJST"
          ],
          [
           "Blad1$_Importfouten"
          ],
          [
           "OVERZICHT VERVANGING HOUTSOORTEN"
          ]
         ],
         "hoverlabel": {
          "namelength": 0
         },
         "hovertemplate": "projectcd=DELF-IT<br>ingelezen=%{x}<br>teller=%{y}<br>table=%{customdata[0]}",
         "legendgroup": "projectcd=DELF-IT",
         "marker": {
          "color": "#EF553B"
         },
         "name": "projectcd=DELF-IT",
         "offsetgroup": "projectcd=DELF-IT",
         "orientation": "v",
         "showlegend": true,
         "textposition": "auto",
         "type": "bar",
         "x": [
          "Data en Meta",
          "Data en Meta",
          "Data en Meta",
          "Data en Meta",
          "Data en Meta",
          "Data en Meta",
          "Data en Meta",
          "Data en Meta",
          "Data en Meta",
          "Data en Meta",
          "Data en Meta",
          "Data en Meta",
          "Data en Meta",
          "Data en Meta",
          "Data en Meta",
          "Data en Meta",
          "Data en Meta",
          "Data en Meta",
          "Data en Meta",
          "Data en Meta",
          "Data en Meta",
          "Data en Meta",
          "Data en Meta",
          "Data en Meta",
          "Data en Meta",
          "Data en Meta",
          "Data en Meta",
          "Data en Meta",
          "Data en Meta",
          "Data en Meta",
          "Data en Meta",
          "Data en Meta",
          "Data en Meta",
          "Alleen Data",
          "Data en Meta",
          "Data en Meta",
          "Data en Meta",
          "Data en Meta",
          "Data en Meta",
          "Data en Meta",
          "Data en Meta",
          "Data en Meta",
          "Data en Meta",
          "Data en Meta",
          "Data en Meta",
          "Data en Meta",
          "Data en Meta",
          "Data en Meta",
          "Data en Meta",
          "Data en Meta",
          "Data en Meta",
          "Data en Meta",
          "Data en Meta",
          "Data en Meta",
          "Data en Meta",
          "Data en Meta",
          "Data en Meta",
          "Data en Meta",
          "Data en Meta",
          "Data en Meta",
          "Data en Meta",
          "Data en Meta",
          "Data en Meta",
          "Data en Meta",
          "Data en Meta",
          "Data en Meta",
          "Data en Meta",
          "Data en Meta",
          "Data en Meta",
          "Data en Meta",
          "Data en Meta",
          "Data en Meta"
         ],
         "xaxis": "x",
         "y": [
          1,
          1,
          1,
          1,
          1,
          1,
          1,
          1,
          1,
          1,
          1,
          1,
          1,
          1,
          1,
          1,
          1,
          1,
          1,
          1,
          1,
          1,
          1,
          1,
          1,
          1,
          1,
          1,
          1,
          1,
          1,
          1,
          1,
          1,
          1,
          1,
          1,
          1,
          1,
          1,
          1,
          1,
          1,
          1,
          1,
          1,
          1,
          1,
          1,
          1,
          1,
          1,
          1,
          1,
          1,
          1,
          1,
          1,
          1,
          1,
          1,
          1,
          1,
          1,
          1,
          1,
          1,
          1,
          1,
          1,
          1,
          1
         ],
         "yaxis": "y"
        },
        {
         "alignmentgroup": "True",
         "customdata": [
          [
           "Foto Totaal Tabel"
          ]
         ],
         "hoverlabel": {
          "namelength": 0
         },
         "hovertemplate": "projectcd=Digifotos<br>ingelezen=%{x}<br>teller=%{y}<br>table=%{customdata[0]}",
         "legendgroup": "projectcd=Digifotos",
         "marker": {
          "color": "#00cc96"
         },
         "name": "projectcd=Digifotos",
         "offsetgroup": "projectcd=Digifotos",
         "orientation": "v",
         "showlegend": true,
         "textposition": "auto",
         "type": "bar",
         "x": [
          "Alleen Meta"
         ],
         "xaxis": "x",
         "y": [
          1
         ],
         "yaxis": "y"
        },
        {
         "alignmentgroup": "True",
         "customdata": [
          [
           "Opgravingen_voor_1991"
          ],
          [
           "stellingen"
          ],
          [
           "backup magazijnlijst 27-5-2002"
          ],
          [
           "Plakfouten"
          ],
          [
           "Tabel voor Etiketten"
          ],
          [
           "doosnr"
          ],
          [
           "magazijnlijst"
          ],
          [
           "Tabel voor labels"
          ],
          [
           "backup magazijnlijst 16-7-2001"
          ]
         ],
         "hoverlabel": {
          "namelength": 0
         },
         "hovertemplate": "projectcd=MAGAZIJN<br>ingelezen=%{x}<br>teller=%{y}<br>table=%{customdata[0]}",
         "legendgroup": "projectcd=MAGAZIJN",
         "marker": {
          "color": "#ab63fa"
         },
         "name": "projectcd=MAGAZIJN",
         "offsetgroup": "projectcd=MAGAZIJN",
         "orientation": "v",
         "showlegend": true,
         "textposition": "auto",
         "type": "bar",
         "x": [
          "Data en Meta",
          "Data en Meta",
          "Data en Meta",
          "Data en Meta",
          "Data en Meta",
          "Data en Meta",
          "Data en Meta",
          "Data en Meta",
          "Data en Meta"
         ],
         "xaxis": "x",
         "y": [
          1,
          1,
          1,
          1,
          1,
          1,
          1,
          1,
          1
         ],
         "yaxis": "y"
        },
        {
         "alignmentgroup": "True",
         "customdata": [
          [
           null
          ],
          [
           null
          ]
         ],
         "hoverlabel": {
          "namelength": 0
         },
         "hovertemplate": "projectcd=Unspecified<br>ingelezen=%{x}<br>teller=%{y}<br>table=%{customdata[0]}",
         "legendgroup": "projectcd=Unspecified",
         "marker": {
          "color": "#FFA15A"
         },
         "name": "projectcd=Unspecified",
         "offsetgroup": "projectcd=Unspecified",
         "orientation": "v",
         "showlegend": true,
         "textposition": "auto",
         "type": "bar",
         "x": [
          "Alleen Data",
          "Alleen Data"
         ],
         "xaxis": "x",
         "y": [
          1,
          1
         ],
         "yaxis": "y"
        }
       ],
       "layout": {
        "barmode": "relative",
        "height": 600,
        "legend": {
         "tracegroupgap": 0
        },
        "margin": {
         "t": 60
        },
        "template": {
         "data": {
          "bar": [
           {
            "error_x": {
             "color": "#2a3f5f"
            },
            "error_y": {
             "color": "#2a3f5f"
            },
            "marker": {
             "line": {
              "color": "#E5ECF6",
              "width": 0.5
             }
            },
            "type": "bar"
           }
          ],
          "barpolar": [
           {
            "marker": {
             "line": {
              "color": "#E5ECF6",
              "width": 0.5
             }
            },
            "type": "barpolar"
           }
          ],
          "carpet": [
           {
            "aaxis": {
             "endlinecolor": "#2a3f5f",
             "gridcolor": "white",
             "linecolor": "white",
             "minorgridcolor": "white",
             "startlinecolor": "#2a3f5f"
            },
            "baxis": {
             "endlinecolor": "#2a3f5f",
             "gridcolor": "white",
             "linecolor": "white",
             "minorgridcolor": "white",
             "startlinecolor": "#2a3f5f"
            },
            "type": "carpet"
           }
          ],
          "choropleth": [
           {
            "colorbar": {
             "outlinewidth": 0,
             "ticks": ""
            },
            "type": "choropleth"
           }
          ],
          "contour": [
           {
            "colorbar": {
             "outlinewidth": 0,
             "ticks": ""
            },
            "colorscale": [
             [
              0,
              "#0d0887"
             ],
             [
              0.1111111111111111,
              "#46039f"
             ],
             [
              0.2222222222222222,
              "#7201a8"
             ],
             [
              0.3333333333333333,
              "#9c179e"
             ],
             [
              0.4444444444444444,
              "#bd3786"
             ],
             [
              0.5555555555555556,
              "#d8576b"
             ],
             [
              0.6666666666666666,
              "#ed7953"
             ],
             [
              0.7777777777777778,
              "#fb9f3a"
             ],
             [
              0.8888888888888888,
              "#fdca26"
             ],
             [
              1,
              "#f0f921"
             ]
            ],
            "type": "contour"
           }
          ],
          "contourcarpet": [
           {
            "colorbar": {
             "outlinewidth": 0,
             "ticks": ""
            },
            "type": "contourcarpet"
           }
          ],
          "heatmap": [
           {
            "colorbar": {
             "outlinewidth": 0,
             "ticks": ""
            },
            "colorscale": [
             [
              0,
              "#0d0887"
             ],
             [
              0.1111111111111111,
              "#46039f"
             ],
             [
              0.2222222222222222,
              "#7201a8"
             ],
             [
              0.3333333333333333,
              "#9c179e"
             ],
             [
              0.4444444444444444,
              "#bd3786"
             ],
             [
              0.5555555555555556,
              "#d8576b"
             ],
             [
              0.6666666666666666,
              "#ed7953"
             ],
             [
              0.7777777777777778,
              "#fb9f3a"
             ],
             [
              0.8888888888888888,
              "#fdca26"
             ],
             [
              1,
              "#f0f921"
             ]
            ],
            "type": "heatmap"
           }
          ],
          "heatmapgl": [
           {
            "colorbar": {
             "outlinewidth": 0,
             "ticks": ""
            },
            "colorscale": [
             [
              0,
              "#0d0887"
             ],
             [
              0.1111111111111111,
              "#46039f"
             ],
             [
              0.2222222222222222,
              "#7201a8"
             ],
             [
              0.3333333333333333,
              "#9c179e"
             ],
             [
              0.4444444444444444,
              "#bd3786"
             ],
             [
              0.5555555555555556,
              "#d8576b"
             ],
             [
              0.6666666666666666,
              "#ed7953"
             ],
             [
              0.7777777777777778,
              "#fb9f3a"
             ],
             [
              0.8888888888888888,
              "#fdca26"
             ],
             [
              1,
              "#f0f921"
             ]
            ],
            "type": "heatmapgl"
           }
          ],
          "histogram": [
           {
            "marker": {
             "colorbar": {
              "outlinewidth": 0,
              "ticks": ""
             }
            },
            "type": "histogram"
           }
          ],
          "histogram2d": [
           {
            "colorbar": {
             "outlinewidth": 0,
             "ticks": ""
            },
            "colorscale": [
             [
              0,
              "#0d0887"
             ],
             [
              0.1111111111111111,
              "#46039f"
             ],
             [
              0.2222222222222222,
              "#7201a8"
             ],
             [
              0.3333333333333333,
              "#9c179e"
             ],
             [
              0.4444444444444444,
              "#bd3786"
             ],
             [
              0.5555555555555556,
              "#d8576b"
             ],
             [
              0.6666666666666666,
              "#ed7953"
             ],
             [
              0.7777777777777778,
              "#fb9f3a"
             ],
             [
              0.8888888888888888,
              "#fdca26"
             ],
             [
              1,
              "#f0f921"
             ]
            ],
            "type": "histogram2d"
           }
          ],
          "histogram2dcontour": [
           {
            "colorbar": {
             "outlinewidth": 0,
             "ticks": ""
            },
            "colorscale": [
             [
              0,
              "#0d0887"
             ],
             [
              0.1111111111111111,
              "#46039f"
             ],
             [
              0.2222222222222222,
              "#7201a8"
             ],
             [
              0.3333333333333333,
              "#9c179e"
             ],
             [
              0.4444444444444444,
              "#bd3786"
             ],
             [
              0.5555555555555556,
              "#d8576b"
             ],
             [
              0.6666666666666666,
              "#ed7953"
             ],
             [
              0.7777777777777778,
              "#fb9f3a"
             ],
             [
              0.8888888888888888,
              "#fdca26"
             ],
             [
              1,
              "#f0f921"
             ]
            ],
            "type": "histogram2dcontour"
           }
          ],
          "mesh3d": [
           {
            "colorbar": {
             "outlinewidth": 0,
             "ticks": ""
            },
            "type": "mesh3d"
           }
          ],
          "parcoords": [
           {
            "line": {
             "colorbar": {
              "outlinewidth": 0,
              "ticks": ""
             }
            },
            "type": "parcoords"
           }
          ],
          "pie": [
           {
            "automargin": true,
            "type": "pie"
           }
          ],
          "scatter": [
           {
            "marker": {
             "colorbar": {
              "outlinewidth": 0,
              "ticks": ""
             }
            },
            "type": "scatter"
           }
          ],
          "scatter3d": [
           {
            "line": {
             "colorbar": {
              "outlinewidth": 0,
              "ticks": ""
             }
            },
            "marker": {
             "colorbar": {
              "outlinewidth": 0,
              "ticks": ""
             }
            },
            "type": "scatter3d"
           }
          ],
          "scattercarpet": [
           {
            "marker": {
             "colorbar": {
              "outlinewidth": 0,
              "ticks": ""
             }
            },
            "type": "scattercarpet"
           }
          ],
          "scattergeo": [
           {
            "marker": {
             "colorbar": {
              "outlinewidth": 0,
              "ticks": ""
             }
            },
            "type": "scattergeo"
           }
          ],
          "scattergl": [
           {
            "marker": {
             "colorbar": {
              "outlinewidth": 0,
              "ticks": ""
             }
            },
            "type": "scattergl"
           }
          ],
          "scattermapbox": [
           {
            "marker": {
             "colorbar": {
              "outlinewidth": 0,
              "ticks": ""
             }
            },
            "type": "scattermapbox"
           }
          ],
          "scatterpolar": [
           {
            "marker": {
             "colorbar": {
              "outlinewidth": 0,
              "ticks": ""
             }
            },
            "type": "scatterpolar"
           }
          ],
          "scatterpolargl": [
           {
            "marker": {
             "colorbar": {
              "outlinewidth": 0,
              "ticks": ""
             }
            },
            "type": "scatterpolargl"
           }
          ],
          "scatterternary": [
           {
            "marker": {
             "colorbar": {
              "outlinewidth": 0,
              "ticks": ""
             }
            },
            "type": "scatterternary"
           }
          ],
          "surface": [
           {
            "colorbar": {
             "outlinewidth": 0,
             "ticks": ""
            },
            "colorscale": [
             [
              0,
              "#0d0887"
             ],
             [
              0.1111111111111111,
              "#46039f"
             ],
             [
              0.2222222222222222,
              "#7201a8"
             ],
             [
              0.3333333333333333,
              "#9c179e"
             ],
             [
              0.4444444444444444,
              "#bd3786"
             ],
             [
              0.5555555555555556,
              "#d8576b"
             ],
             [
              0.6666666666666666,
              "#ed7953"
             ],
             [
              0.7777777777777778,
              "#fb9f3a"
             ],
             [
              0.8888888888888888,
              "#fdca26"
             ],
             [
              1,
              "#f0f921"
             ]
            ],
            "type": "surface"
           }
          ],
          "table": [
           {
            "cells": {
             "fill": {
              "color": "#EBF0F8"
             },
             "line": {
              "color": "white"
             }
            },
            "header": {
             "fill": {
              "color": "#C8D4E3"
             },
             "line": {
              "color": "white"
             }
            },
            "type": "table"
           }
          ]
         },
         "layout": {
          "annotationdefaults": {
           "arrowcolor": "#2a3f5f",
           "arrowhead": 0,
           "arrowwidth": 1
          },
          "coloraxis": {
           "colorbar": {
            "outlinewidth": 0,
            "ticks": ""
           }
          },
          "colorscale": {
           "diverging": [
            [
             0,
             "#8e0152"
            ],
            [
             0.1,
             "#c51b7d"
            ],
            [
             0.2,
             "#de77ae"
            ],
            [
             0.3,
             "#f1b6da"
            ],
            [
             0.4,
             "#fde0ef"
            ],
            [
             0.5,
             "#f7f7f7"
            ],
            [
             0.6,
             "#e6f5d0"
            ],
            [
             0.7,
             "#b8e186"
            ],
            [
             0.8,
             "#7fbc41"
            ],
            [
             0.9,
             "#4d9221"
            ],
            [
             1,
             "#276419"
            ]
           ],
           "sequential": [
            [
             0,
             "#0d0887"
            ],
            [
             0.1111111111111111,
             "#46039f"
            ],
            [
             0.2222222222222222,
             "#7201a8"
            ],
            [
             0.3333333333333333,
             "#9c179e"
            ],
            [
             0.4444444444444444,
             "#bd3786"
            ],
            [
             0.5555555555555556,
             "#d8576b"
            ],
            [
             0.6666666666666666,
             "#ed7953"
            ],
            [
             0.7777777777777778,
             "#fb9f3a"
            ],
            [
             0.8888888888888888,
             "#fdca26"
            ],
            [
             1,
             "#f0f921"
            ]
           ],
           "sequentialminus": [
            [
             0,
             "#0d0887"
            ],
            [
             0.1111111111111111,
             "#46039f"
            ],
            [
             0.2222222222222222,
             "#7201a8"
            ],
            [
             0.3333333333333333,
             "#9c179e"
            ],
            [
             0.4444444444444444,
             "#bd3786"
            ],
            [
             0.5555555555555556,
             "#d8576b"
            ],
            [
             0.6666666666666666,
             "#ed7953"
            ],
            [
             0.7777777777777778,
             "#fb9f3a"
            ],
            [
             0.8888888888888888,
             "#fdca26"
            ],
            [
             1,
             "#f0f921"
            ]
           ]
          },
          "colorway": [
           "#636efa",
           "#EF553B",
           "#00cc96",
           "#ab63fa",
           "#FFA15A",
           "#19d3f3",
           "#FF6692",
           "#B6E880",
           "#FF97FF",
           "#FECB52"
          ],
          "font": {
           "color": "#2a3f5f"
          },
          "geo": {
           "bgcolor": "white",
           "lakecolor": "white",
           "landcolor": "#E5ECF6",
           "showlakes": true,
           "showland": true,
           "subunitcolor": "white"
          },
          "hoverlabel": {
           "align": "left"
          },
          "hovermode": "closest",
          "mapbox": {
           "style": "light"
          },
          "paper_bgcolor": "white",
          "plot_bgcolor": "#E5ECF6",
          "polar": {
           "angularaxis": {
            "gridcolor": "white",
            "linecolor": "white",
            "ticks": ""
           },
           "bgcolor": "#E5ECF6",
           "radialaxis": {
            "gridcolor": "white",
            "linecolor": "white",
            "ticks": ""
           }
          },
          "scene": {
           "xaxis": {
            "backgroundcolor": "#E5ECF6",
            "gridcolor": "white",
            "gridwidth": 2,
            "linecolor": "white",
            "showbackground": true,
            "ticks": "",
            "zerolinecolor": "white"
           },
           "yaxis": {
            "backgroundcolor": "#E5ECF6",
            "gridcolor": "white",
            "gridwidth": 2,
            "linecolor": "white",
            "showbackground": true,
            "ticks": "",
            "zerolinecolor": "white"
           },
           "zaxis": {
            "backgroundcolor": "#E5ECF6",
            "gridcolor": "white",
            "gridwidth": 2,
            "linecolor": "white",
            "showbackground": true,
            "ticks": "",
            "zerolinecolor": "white"
           }
          },
          "shapedefaults": {
           "line": {
            "color": "#2a3f5f"
           }
          },
          "ternary": {
           "aaxis": {
            "gridcolor": "white",
            "linecolor": "white",
            "ticks": ""
           },
           "baxis": {
            "gridcolor": "white",
            "linecolor": "white",
            "ticks": ""
           },
           "bgcolor": "#E5ECF6",
           "caxis": {
            "gridcolor": "white",
            "linecolor": "white",
            "ticks": ""
           }
          },
          "title": {
           "x": 0.05
          },
          "xaxis": {
           "automargin": true,
           "gridcolor": "white",
           "linecolor": "white",
           "ticks": "",
           "title": {
            "standoff": 15
           },
           "zerolinecolor": "white",
           "zerolinewidth": 2
          },
          "yaxis": {
           "automargin": true,
           "gridcolor": "white",
           "linecolor": "white",
           "ticks": "",
           "title": {
            "standoff": 15
           },
           "zerolinecolor": "white",
           "zerolinewidth": 2
          }
         }
        },
        "xaxis": {
         "anchor": "y",
         "domain": [
          0,
          1
         ],
         "title": {
          "text": "ingelezen"
         }
        },
        "yaxis": {
         "anchor": "x",
         "domain": [
          0,
          1
         ],
         "title": {
          "text": "teller"
         }
        }
       }
      },
      "text/html": "<div>\n        \n        \n            <div id=\"ffed092b-eaba-4f3a-be5b-0389dc71b79b\" class=\"plotly-graph-div\" style=\"height:600px; width:100%;\"></div>\n            <script type=\"text/javascript\">\n                require([\"plotly\"], function(Plotly) {\n                    window.PLOTLYENV=window.PLOTLYENV || {};\n                    \n                if (document.getElementById(\"ffed092b-eaba-4f3a-be5b-0389dc71b79b\")) {\n                    Plotly.newPlot(\n                        'ffed092b-eaba-4f3a-be5b-0389dc71b79b',\n                        [{\"alignmentgroup\": \"True\", \"customdata\": [[\"KLEIPIJPEN\"]], \"hoverlabel\": {\"namelength\": 0}, \"hovertemplate\": \"projectcd=DB08<br>ingelezen=%{x}<br>teller=%{y}<br>table=%{customdata[0]}\", \"legendgroup\": \"projectcd=DB08\", \"marker\": {\"color\": \"#636efa\"}, \"name\": \"projectcd=DB08\", \"offsetgroup\": \"projectcd=DB08\", \"orientation\": \"v\", \"showlegend\": true, \"textposition\": \"auto\", \"type\": \"bar\", \"x\": [\"Data en Meta\"], \"xaxis\": \"x\", \"y\": [1], \"yaxis\": \"y\"}, {\"alignmentgroup\": \"True\", \"customdata\": [[\"Huismerken op aardewerk\"], [\"LEER\"], [\"METAAL\"], [\"AARDEWERK 1 BAKSEL\"], [\"LIJST VONDSTEN  URGENTE CONSERVERING\"], [\"DIAOPGRAVING\"], [\"VULLINGEN\"], [\"HOUT\"], [\"backupHOUT\"], [\"Spijkers\"], [\"AARDEWERK 1&2 VOORWERP\"], [\"SkeletKV4\"], [\"ROMEINS AARDEWERK\"], [\"SPOREN\"], [\"AARDEWERK 1\"], [\"STEEN\"], [\"AW1DeterminatiesJohan\"], [\"TEKENINGEN\"], [\"Controle vondsten\"], [\"Aardewerk 1 backup\"], [\"CATALOGUS AW1\"], [\"Buikmonsters KV-IV\"], [\"VONDSTENLIJST\"], [\"MUNTEN EN PENNINGEN\"], [\"GLAS\"]], \"hoverlabel\": {\"namelength\": 0}, \"hovertemplate\": \"projectcd=DB34<br>ingelezen=%{x}<br>teller=%{y}<br>table=%{customdata[0]}\", \"legendgroup\": \"projectcd=DB34\", \"marker\": {\"color\": \"#EF553B\"}, \"name\": \"projectcd=DB34\", \"offsetgroup\": \"projectcd=DB34\", \"orientation\": \"v\", \"showlegend\": true, \"textposition\": \"auto\", \"type\": \"bar\", \"x\": [\"Data en Meta\", \"Data en Meta\", \"Data en Meta\", \"Data en Meta\", \"Data en Meta\", \"Data en Meta\", \"Data en Meta\", \"Data en Meta\", \"Data en Meta\", \"Data en Meta\", \"Alleen Meta\", \"Data en Meta\", \"Data en Meta\", \"Data en Meta\", \"Data en Meta\", \"Data en Meta\", \"Data en Meta\", \"Data en Meta\", \"Data en Meta\", \"Data en Meta\", \"Data en Meta\", \"Data en Meta\", \"Data en Meta\", \"Data en Meta\", \"Data en Meta\"], \"xaxis\": \"x\", \"y\": [1, 1, 1, 1, 1, 1, 1, 1, 1, 1, 1, 1, 1, 1, 1, 1, 1, 1, 1, 1, 1, 1, 1, 1, 1], \"yaxis\": \"y\"}, {\"alignmentgroup\": \"True\", \"customdata\": [[\"TEKENINGEN\"], [\"VONDSTENLIJST\"], [\"HOUT\"]], \"hoverlabel\": {\"namelength\": 0}, \"hovertemplate\": \"projectcd=DC11<br>ingelezen=%{x}<br>teller=%{y}<br>table=%{customdata[0]}\", \"legendgroup\": \"projectcd=DC11\", \"marker\": {\"color\": \"#00cc96\"}, \"name\": \"projectcd=DC11\", \"offsetgroup\": \"projectcd=DC11\", \"orientation\": \"v\", \"showlegend\": true, \"textposition\": \"auto\", \"type\": \"bar\", \"x\": [\"Data en Meta\", \"Data en Meta\", \"Data en Meta\"], \"xaxis\": \"x\", \"y\": [1, 1, 1], \"yaxis\": \"y\"}, {\"alignmentgroup\": \"True\", \"customdata\": [[\"SPOREN\"], [\"VULLINGEN\"], [\"KLEIPIJPEN\"], [\"Fotolijst\"], [\"VONDSTENLIJST\"], [\"AARDEWERK2\"], [\"REF_SPOORAARD\"], [\"HOUT\"], [\"TEKENINGEN\"], [\"LEER\"]], \"hoverlabel\": {\"namelength\": 0}, \"hovertemplate\": \"projectcd=DC112<br>ingelezen=%{x}<br>teller=%{y}<br>table=%{customdata[0]}\", \"legendgroup\": \"projectcd=DC112\", \"marker\": {\"color\": \"#ab63fa\"}, \"name\": \"projectcd=DC112\", \"offsetgroup\": \"projectcd=DC112\", \"orientation\": \"v\", \"showlegend\": true, \"textposition\": \"auto\", \"type\": \"bar\", \"x\": [\"Data en Meta\", \"Data en Meta\", \"Data en Meta\", \"Data en Meta\", \"Data en Meta\", \"Data en Meta\", \"Data en Meta\", \"Data en Meta\", \"Data en Meta\", \"Data en Meta\"], \"xaxis\": \"x\", \"y\": [1, 1, 1, 1, 1, 1, 1, 1, 1, 1], \"yaxis\": \"y\"}, {\"alignmentgroup\": \"True\", \"customdata\": [[\"SYS_VARS\"], [\"SYS_LOOKUP\"], [\"PUT\"], [\"SPOOR\"], [\"ARTF_KER\"], [\"ARTF_MET\"], [\"SYS_USERS\"], [\"SYS_SCRIPT\"], [\"VLAK\"], [\"SYS_STRUCT\"], [\"ARTF_OPH\"], [\"SYS_OBJLOC\"], [\"ARTEFACT\"], [\"SYS_FIELDS\"], [\"VULLING\"], [\"VONDST\"], [\"SYS_GISTAB\"], [\"SYS_RELTYP\"], [\"ARTF_PIJP\"], [\"PROJECT\"], [\"ARTF_GLS\"], [\"SYS_LOG\"], [\"FOTO\"], [\"VONDSTINHD\"]], \"hoverlabel\": {\"namelength\": 0}, \"hovertemplate\": \"projectcd=DC154<br>ingelezen=%{x}<br>teller=%{y}<br>table=%{customdata[0]}\", \"legendgroup\": \"projectcd=DC154\", \"marker\": {\"color\": \"#FFA15A\"}, \"name\": \"projectcd=DC154\", \"offsetgroup\": \"projectcd=DC154\", \"orientation\": \"v\", \"showlegend\": true, \"textposition\": \"auto\", \"type\": \"bar\", \"x\": [\"Data en Meta\", \"Data en Meta\", \"Data en Meta\", \"Data en Meta\", \"Data en Meta\", \"Data en Meta\", \"Alleen Data\", \"Data en Meta\", \"Data en Meta\", \"Data en Meta\", \"Data en Meta\", \"Data en Meta\", \"Data en Meta\", \"Data en Meta\", \"Data en Meta\", \"Alleen Data\", \"Data en Meta\", \"Data en Meta\", \"Data en Meta\", \"Data en Meta\", \"Data en Meta\", \"Alleen Data\", \"Alleen Data\", \"Data en Meta\"], \"xaxis\": \"x\", \"y\": [1, 1, 1, 1, 1, 1, 1, 1, 1, 1, 1, 1, 1, 1, 1, 1, 1, 1, 1, 1, 1, 1, 1, 1], \"yaxis\": \"y\"}, {\"alignmentgroup\": \"True\", \"customdata\": [[\"VULLING\"], [\"SPOOR\"], [\"SPOOR_INHOUD\"], [\"MUUR\"], [\"KERAMIEK_VAK_gesplitst\"], [\"VONDSTINHD\"], [\"ARTF_BOT\"], [\"ARTF_OPH\"], [\"SYS_LOOKUP\"], [\"PUT_VAK\"], [\"SYS_USERS\"], [\"SYS_SCRIPT\"], [\"VONDST\"], [\"ARTF_PIJP\"], [\"SYS_OBJREL\"], [\"VAK_VONDST\"], [\"SYS_FIELDS\"], [\"ARTEFACT\"], [\"SYS_STRUCT\"], [\"PROJECT\"], [\"SYS_GISTAB\"], [\"PUT\"], [\"SYS_RELTYP\"], [\"Palen_lakenramen2\"], [\"SYS_VARS\"], [\"GIS_SPOOR_STRUCTOBJ\"], [\"TEKENING\"], [\"Tellijst_Vondstmateriaal\"], [\"SYS_LOG\"], [\"VLAK\"], [\"ARTF_KER\"], [\"FOTO\"], [\"SYS_OBJLOC\"], [\"GIS_STRUCTOBJ_STRUCTOBJ\"], [\"ARTF_MET\"]], \"hoverlabel\": {\"namelength\": 0}, \"hovertemplate\": \"projectcd=DC179<br>ingelezen=%{x}<br>teller=%{y}<br>table=%{customdata[0]}\", \"legendgroup\": \"projectcd=DC179\", \"marker\": {\"color\": \"#19d3f3\"}, \"name\": \"projectcd=DC179\", \"offsetgroup\": \"projectcd=DC179\", \"orientation\": \"v\", \"showlegend\": true, \"textposition\": \"auto\", \"type\": \"bar\", \"x\": [\"Data en Meta\", \"Data en Meta\", \"Data en Meta\", \"Data en Meta\", \"Data en Meta\", \"Data en Meta\", \"Alleen Data\", \"Data en Meta\", \"Data en Meta\", \"Data en Meta\", \"Data en Meta\", \"Data en Meta\", \"Data en Meta\", \"Data en Meta\", \"Data en Meta\", \"Alleen Data\", \"Data en Meta\", \"Data en Meta\", \"Data en Meta\", \"Data en Meta\", \"Data en Meta\", \"Data en Meta\", \"Data en Meta\", \"Data en Meta\", \"Data en Meta\", \"Data en Meta\", \"Data en Meta\", \"Data en Meta\", \"Alleen Data\", \"Data en Meta\", \"Data en Meta\", \"Alleen Data\", \"Data en Meta\", \"Data en Meta\", \"Data en Meta\"], \"xaxis\": \"x\", \"y\": [1, 1, 1, 1, 1, 1, 1, 1, 1, 1, 1, 1, 1, 1, 1, 1, 1, 1, 1, 1, 1, 1, 1, 1, 1, 1, 1, 1, 1, 1, 1, 1, 1, 1, 1], \"yaxis\": \"y\"}, {\"alignmentgroup\": \"True\", \"customdata\": [[\"DIAVOORWERP\"], [\"KLEIPIJPEN\"], [\"HOUT\"], [\"AARDEWERK 2\"], [\"TEKENINGEN\"], [\"backupHOUT\"]], \"hoverlabel\": {\"namelength\": 0}, \"hovertemplate\": \"projectcd=DC36<br>ingelezen=%{x}<br>teller=%{y}<br>table=%{customdata[0]}\", \"legendgroup\": \"projectcd=DC36\", \"marker\": {\"color\": \"#FF6692\"}, \"name\": \"projectcd=DC36\", \"offsetgroup\": \"projectcd=DC36\", \"orientation\": \"v\", \"showlegend\": true, \"textposition\": \"auto\", \"type\": \"bar\", \"x\": [\"Data en Meta\", \"Data en Meta\", \"Alleen Data\", \"Data en Meta\", \"Data en Meta\", \"Data en Meta\"], \"xaxis\": \"x\", \"y\": [1, 1, 1, 1, 1, 1], \"yaxis\": \"y\"}, {\"alignmentgroup\": \"True\", \"customdata\": [[\"TEKENINGEN\"]], \"hoverlabel\": {\"namelength\": 0}, \"hovertemplate\": \"projectcd=DC56<br>ingelezen=%{x}<br>teller=%{y}<br>table=%{customdata[0]}\", \"legendgroup\": \"projectcd=DC56\", \"marker\": {\"color\": \"#B6E880\"}, \"name\": \"projectcd=DC56\", \"offsetgroup\": \"projectcd=DC56\", \"orientation\": \"v\", \"showlegend\": true, \"textposition\": \"auto\", \"type\": \"bar\", \"x\": [\"Data en Meta\"], \"xaxis\": \"x\", \"y\": [1], \"yaxis\": \"y\"}, {\"alignmentgroup\": \"True\", \"customdata\": [[\"METAAL\"], [\"AARDEWERK 2\"]], \"hoverlabel\": {\"namelength\": 0}, \"hovertemplate\": \"projectcd=DC72<br>ingelezen=%{x}<br>teller=%{y}<br>table=%{customdata[0]}\", \"legendgroup\": \"projectcd=DC72\", \"marker\": {\"color\": \"#FF97FF\"}, \"name\": \"projectcd=DC72\", \"offsetgroup\": \"projectcd=DC72\", \"orientation\": \"v\", \"showlegend\": true, \"textposition\": \"auto\", \"type\": \"bar\", \"x\": [\"Data en Meta\", \"Data en Meta\"], \"xaxis\": \"x\", \"y\": [1, 1], \"yaxis\": \"y\"}, {\"alignmentgroup\": \"True\", \"customdata\": [[\"GLAS\"], [\"HOUT\"], [\"STEEN\"], [\"VULLINGEN\"], [\"LEER\"], [\"SPOREN\"], [\"VONDSTENLIJST\"], [\"backupHOUT\"], [\"DIAOPGRAVING\"], [\"KLEIPIJPEN\"], [\"TEKENINGEN\"]], \"hoverlabel\": {\"namelength\": 0}, \"hovertemplate\": \"projectcd=DC93<br>ingelezen=%{x}<br>teller=%{y}<br>table=%{customdata[0]}\", \"legendgroup\": \"projectcd=DC93\", \"marker\": {\"color\": \"#FECB52\"}, \"name\": \"projectcd=DC93\", \"offsetgroup\": \"projectcd=DC93\", \"orientation\": \"v\", \"showlegend\": true, \"textposition\": \"auto\", \"type\": \"bar\", \"x\": [\"Data en Meta\", \"Data en Meta\", \"Data en Meta\", \"Data en Meta\", \"Data en Meta\", \"Data en Meta\", \"Data en Meta\", \"Data en Meta\", \"Data en Meta\", \"Data en Meta\", \"Data en Meta\"], \"xaxis\": \"x\", \"y\": [1, 1, 1, 1, 1, 1, 1, 1, 1, 1, 1], \"yaxis\": \"y\"}, {\"alignmentgroup\": \"True\", \"customdata\": [[\"GLAS\"], [\"backupHOUT\"], [\"TEKENINGEN\"], [\"AARDEWERK 1\"], [\"HOUT\"], [\"DIAOPGRAVING\"], [\"MUNTEN EN PENNINGEN\"], [\"Kopie van AARDEWERK 1\"], [\"SPOREN\"], [\"LEER\"], [\"METAAL\"], [\"VONDSTENLIJST\"], [\"VULLINGEN\"], [\"STEEN\"]], \"hoverlabel\": {\"namelength\": 0}, \"hovertemplate\": \"projectcd=DC97<br>ingelezen=%{x}<br>teller=%{y}<br>table=%{customdata[0]}\", \"legendgroup\": \"projectcd=DC97\", \"marker\": {\"color\": \"#636efa\"}, \"name\": \"projectcd=DC97\", \"offsetgroup\": \"projectcd=DC97\", \"orientation\": \"v\", \"showlegend\": true, \"textposition\": \"auto\", \"type\": \"bar\", \"x\": [\"Data en Meta\", \"Data en Meta\", \"Data en Meta\", \"Data en Meta\", \"Data en Meta\", \"Data en Meta\", \"Alleen Meta\", \"Alleen Data\", \"Data en Meta\", \"Data en Meta\", \"Data en Meta\", \"Data en Meta\", \"Data en Meta\", \"Data en Meta\"], \"xaxis\": \"x\", \"y\": [1, 1, 1, 1, 1, 1, 1, 1, 1, 1, 1, 1, 1, 1], \"yaxis\": \"y\"}, {\"alignmentgroup\": \"True\", \"customdata\": [[\"BOT CODE SPECIE\"], [\"BEENTOTAAL\"], [\"oude tabel AARDEWERK1TOTAAL\"], [\"SPORENTOTAAL\"], [\"HOUTTOTAAL\"], [\"BEEN FUNCTIE\"], [\"MUNTENTOTAAL\"], [\"GDB_Items\"], [\"METAALTOTAAL\"], [\"DIAOPGRAVINGTOTAAL\"], [\"GDB_GeomColumns\"], [\"AARDEWERK2TOTAAL\"], [\"GDB_SpatialRefs\"], [\"backup STEENTOTAAL\"], [\"METAAL BEWERKING\"], [\"GDB_ItemRelationshipTypes\"], [\"backup HOUTTOTAAL\"], [\"METAAL FUNCTIE\"], [\"DIGIFOTOVOORWERPTOTAAL\"], [\"oude tabel HOUT HOUTSOORT\"], [\"AARDEWERK 2 BAKSEL\"], [\"METAAL GROEP\"], [\"STEEN FUNCTIE\"], [\"Plakfouten\"], [\"VULLINGENTOTAAL\"], [\"AARDEWERK 2 VOORWERP\"], [\"GLAS GLASSOORT\"], [\"STEEN SOORT\"], [\"GDB_ColumnInfo\"], [\"BOTTOTAAL\"], [\"REF_SPOORAARD\"], [\"backup BOTTOTAAL 12-7-2004\"], [\"AARDEWERK 2 FUNCTIE\"], [\"AARDEWERK 1 BAKSEL\"], [\"BOTTOTAALoude tabel\"], [\"BOT CODE ELEMENT\"], [\"DIAVOORWERPTOTAAL\"], [\"HOUT FUNCTIE\"], [\"Ontbrekende vondstenlijsten\"], [\"HOUT HOUTSOORT\"], [\"DIGIFOTOOPGRAVINGTOTAAL\"], [\"Dialijst uit ACDC\"], [\"RURBIEKEN MUNTEN EN PENNINGEN\"], [\"KLEIPIJPEN backup 30-11-2001\"], [\"KLEIPIJPEN MAKER\"], [\"OPGRAVINGEN\"], [\"METAAL SOORT\"], [\"GLAS FUNCTIE\"], [\"STEEN PRODUCTIECENTRUM\"], [\"AARDEWERK 1 SUBBAKSEL\"], [\"METAAL OPPERVLAK\"], [\"Tabel1\"], [\"VONDSTENLIJSTTOTAAL\"], [\"STEENTOTAAL\"], [\"METAAL VOORWERP\"], [\"Blad2\"], [\"backup HOUTTOTAAL 2-2-2004\"], [\"KLEIPIJPENTOTAAL\"], [\"STEEN VOORWERP\"], [\"DIAOPGRAVING TE BESCHRIJVEN DIA'S\"], [\"LEERTOTAAL\"], [\"VINDPLAATSEN\"], [\"ROMEINSAARDEWERKTOTAAL\"], [\"GLAS VOORWERP\"], [\"AARDEWERK 1 FRAGMENT\"], [\"GDB_ItemTypes\"], [\"GLASTOTAAL\"], [\"AARDEWERK1TOTAAL\"], [\"AARDEWERK 1 GLAZUUR\"], [\"TREFWOORDENLIJST\"], [\"Blad1$_Importfouten\"], [\"OVERZICHT VERVANGING HOUTSOORTEN\"]], \"hoverlabel\": {\"namelength\": 0}, \"hovertemplate\": \"projectcd=DELF-IT<br>ingelezen=%{x}<br>teller=%{y}<br>table=%{customdata[0]}\", \"legendgroup\": \"projectcd=DELF-IT\", \"marker\": {\"color\": \"#EF553B\"}, \"name\": \"projectcd=DELF-IT\", \"offsetgroup\": \"projectcd=DELF-IT\", \"orientation\": \"v\", \"showlegend\": true, \"textposition\": \"auto\", \"type\": \"bar\", \"x\": [\"Data en Meta\", \"Data en Meta\", \"Data en Meta\", \"Data en Meta\", \"Data en Meta\", \"Data en Meta\", \"Data en Meta\", \"Data en Meta\", \"Data en Meta\", \"Data en Meta\", \"Data en Meta\", \"Data en Meta\", \"Data en Meta\", \"Data en Meta\", \"Data en Meta\", \"Data en Meta\", \"Data en Meta\", \"Data en Meta\", \"Data en Meta\", \"Data en Meta\", \"Data en Meta\", \"Data en Meta\", \"Data en Meta\", \"Data en Meta\", \"Data en Meta\", \"Data en Meta\", \"Data en Meta\", \"Data en Meta\", \"Data en Meta\", \"Data en Meta\", \"Data en Meta\", \"Data en Meta\", \"Data en Meta\", \"Alleen Data\", \"Data en Meta\", \"Data en Meta\", \"Data en Meta\", \"Data en Meta\", \"Data en Meta\", \"Data en Meta\", \"Data en Meta\", \"Data en Meta\", \"Data en Meta\", \"Data en Meta\", \"Data en Meta\", \"Data en Meta\", \"Data en Meta\", \"Data en Meta\", \"Data en Meta\", \"Data en Meta\", \"Data en Meta\", \"Data en Meta\", \"Data en Meta\", \"Data en Meta\", \"Data en Meta\", \"Data en Meta\", \"Data en Meta\", \"Data en Meta\", \"Data en Meta\", \"Data en Meta\", \"Data en Meta\", \"Data en Meta\", \"Data en Meta\", \"Data en Meta\", \"Data en Meta\", \"Data en Meta\", \"Data en Meta\", \"Data en Meta\", \"Data en Meta\", \"Data en Meta\", \"Data en Meta\", \"Data en Meta\"], \"xaxis\": \"x\", \"y\": [1, 1, 1, 1, 1, 1, 1, 1, 1, 1, 1, 1, 1, 1, 1, 1, 1, 1, 1, 1, 1, 1, 1, 1, 1, 1, 1, 1, 1, 1, 1, 1, 1, 1, 1, 1, 1, 1, 1, 1, 1, 1, 1, 1, 1, 1, 1, 1, 1, 1, 1, 1, 1, 1, 1, 1, 1, 1, 1, 1, 1, 1, 1, 1, 1, 1, 1, 1, 1, 1, 1, 1], \"yaxis\": \"y\"}, {\"alignmentgroup\": \"True\", \"customdata\": [[\"Foto Totaal Tabel\"]], \"hoverlabel\": {\"namelength\": 0}, \"hovertemplate\": \"projectcd=Digifotos<br>ingelezen=%{x}<br>teller=%{y}<br>table=%{customdata[0]}\", \"legendgroup\": \"projectcd=Digifotos\", \"marker\": {\"color\": \"#00cc96\"}, \"name\": \"projectcd=Digifotos\", \"offsetgroup\": \"projectcd=Digifotos\", \"orientation\": \"v\", \"showlegend\": true, \"textposition\": \"auto\", \"type\": \"bar\", \"x\": [\"Alleen Meta\"], \"xaxis\": \"x\", \"y\": [1], \"yaxis\": \"y\"}, {\"alignmentgroup\": \"True\", \"customdata\": [[\"Opgravingen_voor_1991\"], [\"stellingen\"], [\"backup magazijnlijst 27-5-2002\"], [\"Plakfouten\"], [\"Tabel voor Etiketten\"], [\"doosnr\"], [\"magazijnlijst\"], [\"Tabel voor labels\"], [\"backup magazijnlijst 16-7-2001\"]], \"hoverlabel\": {\"namelength\": 0}, \"hovertemplate\": \"projectcd=MAGAZIJN<br>ingelezen=%{x}<br>teller=%{y}<br>table=%{customdata[0]}\", \"legendgroup\": \"projectcd=MAGAZIJN\", \"marker\": {\"color\": \"#ab63fa\"}, \"name\": \"projectcd=MAGAZIJN\", \"offsetgroup\": \"projectcd=MAGAZIJN\", \"orientation\": \"v\", \"showlegend\": true, \"textposition\": \"auto\", \"type\": \"bar\", \"x\": [\"Data en Meta\", \"Data en Meta\", \"Data en Meta\", \"Data en Meta\", \"Data en Meta\", \"Data en Meta\", \"Data en Meta\", \"Data en Meta\", \"Data en Meta\"], \"xaxis\": \"x\", \"y\": [1, 1, 1, 1, 1, 1, 1, 1, 1], \"yaxis\": \"y\"}, {\"alignmentgroup\": \"True\", \"customdata\": [[null], [null]], \"hoverlabel\": {\"namelength\": 0}, \"hovertemplate\": \"projectcd=Unspecified<br>ingelezen=%{x}<br>teller=%{y}<br>table=%{customdata[0]}\", \"legendgroup\": \"projectcd=Unspecified\", \"marker\": {\"color\": \"#FFA15A\"}, \"name\": \"projectcd=Unspecified\", \"offsetgroup\": \"projectcd=Unspecified\", \"orientation\": \"v\", \"showlegend\": true, \"textposition\": \"auto\", \"type\": \"bar\", \"x\": [\"Alleen Data\", \"Alleen Data\"], \"xaxis\": \"x\", \"y\": [1, 1], \"yaxis\": \"y\"}],\n                        {\"barmode\": \"relative\", \"height\": 600, \"legend\": {\"tracegroupgap\": 0}, \"margin\": {\"t\": 60}, \"template\": {\"data\": {\"bar\": [{\"error_x\": {\"color\": \"#2a3f5f\"}, \"error_y\": {\"color\": \"#2a3f5f\"}, \"marker\": {\"line\": {\"color\": \"#E5ECF6\", \"width\": 0.5}}, \"type\": \"bar\"}], \"barpolar\": [{\"marker\": {\"line\": {\"color\": \"#E5ECF6\", \"width\": 0.5}}, \"type\": \"barpolar\"}], \"carpet\": [{\"aaxis\": {\"endlinecolor\": \"#2a3f5f\", \"gridcolor\": \"white\", \"linecolor\": \"white\", \"minorgridcolor\": \"white\", \"startlinecolor\": \"#2a3f5f\"}, \"baxis\": {\"endlinecolor\": \"#2a3f5f\", \"gridcolor\": \"white\", \"linecolor\": \"white\", \"minorgridcolor\": \"white\", \"startlinecolor\": \"#2a3f5f\"}, \"type\": \"carpet\"}], \"choropleth\": [{\"colorbar\": {\"outlinewidth\": 0, \"ticks\": \"\"}, \"type\": \"choropleth\"}], \"contour\": [{\"colorbar\": {\"outlinewidth\": 0, \"ticks\": \"\"}, \"colorscale\": [[0.0, \"#0d0887\"], [0.1111111111111111, \"#46039f\"], [0.2222222222222222, \"#7201a8\"], [0.3333333333333333, \"#9c179e\"], [0.4444444444444444, \"#bd3786\"], [0.5555555555555556, \"#d8576b\"], [0.6666666666666666, \"#ed7953\"], [0.7777777777777778, \"#fb9f3a\"], [0.8888888888888888, \"#fdca26\"], [1.0, \"#f0f921\"]], \"type\": \"contour\"}], \"contourcarpet\": [{\"colorbar\": {\"outlinewidth\": 0, \"ticks\": \"\"}, \"type\": \"contourcarpet\"}], \"heatmap\": [{\"colorbar\": {\"outlinewidth\": 0, \"ticks\": \"\"}, \"colorscale\": [[0.0, \"#0d0887\"], [0.1111111111111111, \"#46039f\"], [0.2222222222222222, \"#7201a8\"], [0.3333333333333333, \"#9c179e\"], [0.4444444444444444, \"#bd3786\"], [0.5555555555555556, \"#d8576b\"], [0.6666666666666666, \"#ed7953\"], [0.7777777777777778, \"#fb9f3a\"], [0.8888888888888888, \"#fdca26\"], [1.0, \"#f0f921\"]], \"type\": \"heatmap\"}], \"heatmapgl\": [{\"colorbar\": {\"outlinewidth\": 0, \"ticks\": \"\"}, \"colorscale\": [[0.0, \"#0d0887\"], [0.1111111111111111, \"#46039f\"], [0.2222222222222222, \"#7201a8\"], [0.3333333333333333, \"#9c179e\"], [0.4444444444444444, \"#bd3786\"], [0.5555555555555556, \"#d8576b\"], [0.6666666666666666, \"#ed7953\"], [0.7777777777777778, \"#fb9f3a\"], [0.8888888888888888, \"#fdca26\"], [1.0, \"#f0f921\"]], \"type\": \"heatmapgl\"}], \"histogram\": [{\"marker\": {\"colorbar\": {\"outlinewidth\": 0, \"ticks\": \"\"}}, \"type\": \"histogram\"}], \"histogram2d\": [{\"colorbar\": {\"outlinewidth\": 0, \"ticks\": \"\"}, \"colorscale\": [[0.0, \"#0d0887\"], [0.1111111111111111, \"#46039f\"], [0.2222222222222222, \"#7201a8\"], [0.3333333333333333, \"#9c179e\"], [0.4444444444444444, \"#bd3786\"], [0.5555555555555556, \"#d8576b\"], [0.6666666666666666, \"#ed7953\"], [0.7777777777777778, \"#fb9f3a\"], [0.8888888888888888, \"#fdca26\"], [1.0, \"#f0f921\"]], \"type\": \"histogram2d\"}], \"histogram2dcontour\": [{\"colorbar\": {\"outlinewidth\": 0, \"ticks\": \"\"}, \"colorscale\": [[0.0, \"#0d0887\"], [0.1111111111111111, \"#46039f\"], [0.2222222222222222, \"#7201a8\"], [0.3333333333333333, \"#9c179e\"], [0.4444444444444444, \"#bd3786\"], [0.5555555555555556, \"#d8576b\"], [0.6666666666666666, \"#ed7953\"], [0.7777777777777778, \"#fb9f3a\"], [0.8888888888888888, \"#fdca26\"], [1.0, \"#f0f921\"]], \"type\": \"histogram2dcontour\"}], \"mesh3d\": [{\"colorbar\": {\"outlinewidth\": 0, \"ticks\": \"\"}, \"type\": \"mesh3d\"}], \"parcoords\": [{\"line\": {\"colorbar\": {\"outlinewidth\": 0, \"ticks\": \"\"}}, \"type\": \"parcoords\"}], \"pie\": [{\"automargin\": true, \"type\": \"pie\"}], \"scatter\": [{\"marker\": {\"colorbar\": {\"outlinewidth\": 0, \"ticks\": \"\"}}, \"type\": \"scatter\"}], \"scatter3d\": [{\"line\": {\"colorbar\": {\"outlinewidth\": 0, \"ticks\": \"\"}}, \"marker\": {\"colorbar\": {\"outlinewidth\": 0, \"ticks\": \"\"}}, \"type\": \"scatter3d\"}], \"scattercarpet\": [{\"marker\": {\"colorbar\": {\"outlinewidth\": 0, \"ticks\": \"\"}}, \"type\": \"scattercarpet\"}], \"scattergeo\": [{\"marker\": {\"colorbar\": {\"outlinewidth\": 0, \"ticks\": \"\"}}, \"type\": \"scattergeo\"}], \"scattergl\": [{\"marker\": {\"colorbar\": {\"outlinewidth\": 0, \"ticks\": \"\"}}, \"type\": \"scattergl\"}], \"scattermapbox\": [{\"marker\": {\"colorbar\": {\"outlinewidth\": 0, \"ticks\": \"\"}}, \"type\": \"scattermapbox\"}], \"scatterpolar\": [{\"marker\": {\"colorbar\": {\"outlinewidth\": 0, \"ticks\": \"\"}}, \"type\": \"scatterpolar\"}], \"scatterpolargl\": [{\"marker\": {\"colorbar\": {\"outlinewidth\": 0, \"ticks\": \"\"}}, \"type\": \"scatterpolargl\"}], \"scatterternary\": [{\"marker\": {\"colorbar\": {\"outlinewidth\": 0, \"ticks\": \"\"}}, \"type\": \"scatterternary\"}], \"surface\": [{\"colorbar\": {\"outlinewidth\": 0, \"ticks\": \"\"}, \"colorscale\": [[0.0, \"#0d0887\"], [0.1111111111111111, \"#46039f\"], [0.2222222222222222, \"#7201a8\"], [0.3333333333333333, \"#9c179e\"], [0.4444444444444444, \"#bd3786\"], [0.5555555555555556, \"#d8576b\"], [0.6666666666666666, \"#ed7953\"], [0.7777777777777778, \"#fb9f3a\"], [0.8888888888888888, \"#fdca26\"], [1.0, \"#f0f921\"]], \"type\": \"surface\"}], \"table\": [{\"cells\": {\"fill\": {\"color\": \"#EBF0F8\"}, \"line\": {\"color\": \"white\"}}, \"header\": {\"fill\": {\"color\": \"#C8D4E3\"}, \"line\": {\"color\": \"white\"}}, \"type\": \"table\"}]}, \"layout\": {\"annotationdefaults\": {\"arrowcolor\": \"#2a3f5f\", \"arrowhead\": 0, \"arrowwidth\": 1}, \"coloraxis\": {\"colorbar\": {\"outlinewidth\": 0, \"ticks\": \"\"}}, \"colorscale\": {\"diverging\": [[0, \"#8e0152\"], [0.1, \"#c51b7d\"], [0.2, \"#de77ae\"], [0.3, \"#f1b6da\"], [0.4, \"#fde0ef\"], [0.5, \"#f7f7f7\"], [0.6, \"#e6f5d0\"], [0.7, \"#b8e186\"], [0.8, \"#7fbc41\"], [0.9, \"#4d9221\"], [1, \"#276419\"]], \"sequential\": [[0.0, \"#0d0887\"], [0.1111111111111111, \"#46039f\"], [0.2222222222222222, \"#7201a8\"], [0.3333333333333333, \"#9c179e\"], [0.4444444444444444, \"#bd3786\"], [0.5555555555555556, \"#d8576b\"], [0.6666666666666666, \"#ed7953\"], [0.7777777777777778, \"#fb9f3a\"], [0.8888888888888888, \"#fdca26\"], [1.0, \"#f0f921\"]], \"sequentialminus\": [[0.0, \"#0d0887\"], [0.1111111111111111, \"#46039f\"], [0.2222222222222222, \"#7201a8\"], [0.3333333333333333, \"#9c179e\"], [0.4444444444444444, \"#bd3786\"], [0.5555555555555556, \"#d8576b\"], [0.6666666666666666, \"#ed7953\"], [0.7777777777777778, \"#fb9f3a\"], [0.8888888888888888, \"#fdca26\"], [1.0, \"#f0f921\"]]}, \"colorway\": [\"#636efa\", \"#EF553B\", \"#00cc96\", \"#ab63fa\", \"#FFA15A\", \"#19d3f3\", \"#FF6692\", \"#B6E880\", \"#FF97FF\", \"#FECB52\"], \"font\": {\"color\": \"#2a3f5f\"}, \"geo\": {\"bgcolor\": \"white\", \"lakecolor\": \"white\", \"landcolor\": \"#E5ECF6\", \"showlakes\": true, \"showland\": true, \"subunitcolor\": \"white\"}, \"hoverlabel\": {\"align\": \"left\"}, \"hovermode\": \"closest\", \"mapbox\": {\"style\": \"light\"}, \"paper_bgcolor\": \"white\", \"plot_bgcolor\": \"#E5ECF6\", \"polar\": {\"angularaxis\": {\"gridcolor\": \"white\", \"linecolor\": \"white\", \"ticks\": \"\"}, \"bgcolor\": \"#E5ECF6\", \"radialaxis\": {\"gridcolor\": \"white\", \"linecolor\": \"white\", \"ticks\": \"\"}}, \"scene\": {\"xaxis\": {\"backgroundcolor\": \"#E5ECF6\", \"gridcolor\": \"white\", \"gridwidth\": 2, \"linecolor\": \"white\", \"showbackground\": true, \"ticks\": \"\", \"zerolinecolor\": \"white\"}, \"yaxis\": {\"backgroundcolor\": \"#E5ECF6\", \"gridcolor\": \"white\", \"gridwidth\": 2, \"linecolor\": \"white\", \"showbackground\": true, \"ticks\": \"\", \"zerolinecolor\": \"white\"}, \"zaxis\": {\"backgroundcolor\": \"#E5ECF6\", \"gridcolor\": \"white\", \"gridwidth\": 2, \"linecolor\": \"white\", \"showbackground\": true, \"ticks\": \"\", \"zerolinecolor\": \"white\"}}, \"shapedefaults\": {\"line\": {\"color\": \"#2a3f5f\"}}, \"ternary\": {\"aaxis\": {\"gridcolor\": \"white\", \"linecolor\": \"white\", \"ticks\": \"\"}, \"baxis\": {\"gridcolor\": \"white\", \"linecolor\": \"white\", \"ticks\": \"\"}, \"bgcolor\": \"#E5ECF6\", \"caxis\": {\"gridcolor\": \"white\", \"linecolor\": \"white\", \"ticks\": \"\"}}, \"title\": {\"x\": 0.05}, \"xaxis\": {\"automargin\": true, \"gridcolor\": \"white\", \"linecolor\": \"white\", \"ticks\": \"\", \"title\": {\"standoff\": 15}, \"zerolinecolor\": \"white\", \"zerolinewidth\": 2}, \"yaxis\": {\"automargin\": true, \"gridcolor\": \"white\", \"linecolor\": \"white\", \"ticks\": \"\", \"title\": {\"standoff\": 15}, \"zerolinecolor\": \"white\", \"zerolinewidth\": 2}}}, \"xaxis\": {\"anchor\": \"y\", \"domain\": [0.0, 1.0], \"title\": {\"text\": \"ingelezen\"}}, \"yaxis\": {\"anchor\": \"x\", \"domain\": [0.0, 1.0], \"title\": {\"text\": \"teller\"}}},\n                        {\"responsive\": true}\n                    ).then(function(){\n                            \nvar gd = document.getElementById('ffed092b-eaba-4f3a-be5b-0389dc71b79b');\nvar x = new MutationObserver(function (mutations, observer) {{\n        var display = window.getComputedStyle(gd).display;\n        if (!display || display === 'none') {{\n            console.log([gd, 'removed!']);\n            Plotly.purge(gd);\n            observer.disconnect();\n        }}\n}});\n\n// Listen for the removal of the full notebook cells\nvar notebookContainer = gd.closest('#notebook-container');\nif (notebookContainer) {{\n    x.observe(notebookContainer, {childList: true});\n}}\n\n// Listen for the clearing of the current output cell\nvar outputEl = gd.closest('.output');\nif (outputEl) {{\n    x.observe(outputEl, {childList: true});\n}}\n\n                        })\n                };\n                });\n            </script>\n        </div>"
     },
     "metadata": {},
     "output_type": "display_data"
    }
   ],
   "source": [
    "import plotly.express as px\n",
    "fig = px.bar(df, x='ingelezen', y='teller', color='projectcd', hover_data=['table'])\n",
    "fig.show()"
   ]
  },
  {
   "cell_type": "code",
   "execution_count": null,
   "metadata": {},
   "outputs": [],
   "source": []
  },
  {
   "cell_type": "code",
   "execution_count": null,
   "metadata": {},
   "outputs": [],
   "source": []
  }
 ],
 "metadata": {
  "kernelspec": {
   "display_name": "Python 3",
   "language": "python",
   "name": "python3"
  },
  "language_info": {
   "codemirror_mode": {
    "name": "ipython",
    "version": 3
   },
   "file_extension": ".py",
   "mimetype": "text/x-python",
   "name": "python",
   "nbconvert_exporter": "python",
   "pygments_lexer": "ipython3",
   "version": "3.7.4"
  }
 },
 "nbformat": 4,
 "nbformat_minor": 2
}