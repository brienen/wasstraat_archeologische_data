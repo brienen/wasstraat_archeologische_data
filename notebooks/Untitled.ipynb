{
 "cells": [
  {
   "cell_type": "code",
   "execution_count": 35,
   "id": "aca630d5-7d6b-4c7b-92e0-d35c3b6f3dd8",
   "metadata": {},
   "outputs": [],
   "source": [
    "# Import the os module, for the os.walk function\n",
    "import pymongo\n",
    "from pymongo import UpdateOne, WriteConcern\n",
    "import re\n",
    "import pandas as pd\n",
    "import numpy as np\n",
    "#import wasstraat.meta as meta\n",
    "#import wasstraat.mongoUtils as mongoUtil\n",
    "import simplejson\n",
    "import os\n",
    " \n",
    "# Import app code\n",
    "# Absolute imports for Hydrogen (Jupyter Kernel) compatibility\n",
    "import shared.config as config\n",
    "import logging\n",
    "logger = logging.getLogger()\n",
    "\n"
   ]
  },
  {
   "cell_type": "code",
   "execution_count": 36,
   "id": "c2ffebe6-e291-4d3d-b27f-3bf8db3e0d7e",
   "metadata": {},
   "outputs": [],
   "source": [
    "df = pd.read_excel('./basefiles/definitief/Alle Bestanden Archeologisch Depot.xlsx')\n",
    "df = df[df['wel/niet'] == 1]\n",
    "df['fulldir'] = df['Dir'] + '/' + df['Bestand']\n",
    "lst = df['fulldir'].tolist()"
   ]
  },
  {
   "cell_type": "code",
   "execution_count": 38,
   "id": "bd9a285e-6e1d-46a1-9d93-6a7e015142d2",
   "metadata": {},
   "outputs": [
    {
     "data": {
      "text/plain": [
       "['/input/images/DC112_Vermeerschool Voldergracht 21/A Projectdocumenten/PvE, PvA & Draaiboek/PvE Voldersgracht 21.pdf']"
      ]
     },
     "execution_count": 38,
     "metadata": {},
     "output_type": "execute_result"
    }
   ],
   "source": [
    "def getImageNamesFromDir(dir):\n",
    "    lst = [os.path.join(dp, f) for dp, dn, filenames in os.walk(dir) for f in filenames if os.path.splitext(f)[1].lower() in config.IMAGE_EXTENSIONS] \n",
    "    lst = [file for file in lst if (\"velddocument\" in file.lower() or \"fotos\" in file.lower() or \"tekening\" in file.lower() or \"DAN\" in file or \"DAR\" in file)]\n",
    "    lst = list(set(lst))\n",
    "    return lst \n",
    "\n",
    "def getImageNamesFromExcelAndDir(dir):\n",
    "    # get list from excel\n",
    "    df = pd.read_excel('./basefiles/definitief/Alle Bestanden Archeologisch Depot.xlsx')\n",
    "    df = df[df['wel/niet'] == 1]\n",
    "    df['fulldir'] = df['Dir'] + '/' + df['Bestand']\n",
    "    excel_lst = df['fulldir'].tolist()\n",
    "    \n",
    "    # get files from dir\n",
    "    dir_lst = [os.path.join(dp, f) for dp, dn, filenames in os.walk(dir) for f in filenames if os.path.splitext(f)[1].lower() in config.IMAGE_EXTENSIONS] \n",
    "    \n",
    "    return list(set(excel_lst).intersection(set(dir_lst)).difference(set(getImageNamesFromDir(dir))))\n",
    "\n",
    "getImageNamesFromExcelAndDir(config.AIRFLOW_INPUT_IMAGES)"
   ]
  },
  {
   "cell_type": "code",
   "execution_count": 39,
   "id": "5fa79bef-ef99-401e-b44b-d9d036afdef9",
   "metadata": {},
   "outputs": [
    {
     "ename": "NotImplementedError",
     "evalue": "docx2pdf is not implemented for linux as it requires Microsoft Word to be installed",
     "output_type": "error",
     "traceback": [
      "\u001b[0;31m---------------------------------------------------------------------------\u001b[0m",
      "\u001b[0;31mNotImplementedError\u001b[0m                       Traceback (most recent call last)",
      "Cell \u001b[0;32mIn[39], line 7\u001b[0m\n\u001b[1;32m      4\u001b[0m output_pdf_path \u001b[38;5;241m=\u001b[39m \u001b[38;5;124m\"\u001b[39m\u001b[38;5;124moutput.pdf\u001b[39m\u001b[38;5;124m\"\u001b[39m\n\u001b[1;32m      6\u001b[0m \u001b[38;5;66;03m# Converteer het gehele document naar PDF\u001b[39;00m\n\u001b[0;32m----> 7\u001b[0m \u001b[43mconvert\u001b[49m\u001b[43m(\u001b[49m\u001b[43minput_path\u001b[49m\u001b[43m,\u001b[49m\u001b[43m \u001b[49m\u001b[43moutput_pdf_path\u001b[49m\u001b[43m)\u001b[49m\n",
      "File \u001b[0;32m/opt/conda/lib/python3.10/site-packages/docx2pdf/__init__.py:108\u001b[0m, in \u001b[0;36mconvert\u001b[0;34m(input_path, output_path, keep_active)\u001b[0m\n\u001b[1;32m    106\u001b[0m     \u001b[38;5;28;01mreturn\u001b[39;00m windows(paths, keep_active)\n\u001b[1;32m    107\u001b[0m \u001b[38;5;28;01melse\u001b[39;00m:\n\u001b[0;32m--> 108\u001b[0m     \u001b[38;5;28;01mraise\u001b[39;00m \u001b[38;5;167;01mNotImplementedError\u001b[39;00m(\n\u001b[1;32m    109\u001b[0m         \u001b[38;5;124m\"\u001b[39m\u001b[38;5;124mdocx2pdf is not implemented for linux as it requires Microsoft Word to be installed\u001b[39m\u001b[38;5;124m\"\u001b[39m\n\u001b[1;32m    110\u001b[0m     )\n",
      "\u001b[0;31mNotImplementedError\u001b[0m: docx2pdf is not implemented for linux as it requires Microsoft Word to be installed"
     ]
    }
   ],
   "source": [
    "from docx2pdf import convert\n",
    "\n",
    "input_path = \"path_to_your_document.docx\"\n",
    "output_pdf_path = \"output.pdf\"\n",
    "\n",
    "# Converteer het gehele document naar PDF\n",
    "convert(input_path, output_pdf_path)"
   ]
  },
  {
   "cell_type": "code",
   "execution_count": 41,
   "id": "abaffbac-66b4-4899-b077-0958e8fbfcca",
   "metadata": {},
   "outputs": [
    {
     "ename": "TypeError",
     "evalue": "expected string or bytes-like object",
     "output_type": "error",
     "traceback": [
      "\u001b[0;31m---------------------------------------------------------------------------\u001b[0m",
      "\u001b[0;31mTypeError\u001b[0m                                 Traceback (most recent call last)",
      "Cell \u001b[0;32mIn[41], line 1\u001b[0m\n\u001b[0;32m----> 1\u001b[0m \u001b[43mre\u001b[49m\u001b[38;5;241;43m.\u001b[39;49m\u001b[43mmatch\u001b[49m\u001b[43m(\u001b[49m\u001b[43m \u001b[49m\u001b[38;5;124;43mr\u001b[39;49m\u001b[38;5;124;43m'\u001b[39;49m\u001b[38;5;124;43m^(DAN|DAR)\u001b[39;49m\u001b[38;5;124;43m\\\u001b[39;49m\u001b[38;5;124;43ms*([0-9]\u001b[39;49m\u001b[38;5;124;43m{\u001b[39;49m\u001b[38;5;124;43m2,3}).*\u001b[39;49m\u001b[38;5;124;43m'\u001b[39;49m\u001b[43m,\u001b[49m\u001b[43m \u001b[49m\u001b[38;5;28;43;01mNone\u001b[39;49;00m\u001b[43m,\u001b[49m\u001b[43m \u001b[49m\u001b[43mre\u001b[49m\u001b[38;5;241;43m.\u001b[39;49m\u001b[43mM\u001b[49m\u001b[38;5;241;43m|\u001b[39;49m\u001b[43mre\u001b[49m\u001b[38;5;241;43m.\u001b[39;49m\u001b[43mI\u001b[49m\u001b[43m)\u001b[49m\n",
      "File \u001b[0;32m/opt/conda/lib/python3.10/re.py:190\u001b[0m, in \u001b[0;36mmatch\u001b[0;34m(pattern, string, flags)\u001b[0m\n\u001b[1;32m    187\u001b[0m \u001b[38;5;28;01mdef\u001b[39;00m \u001b[38;5;21mmatch\u001b[39m(pattern, string, flags\u001b[38;5;241m=\u001b[39m\u001b[38;5;241m0\u001b[39m):\n\u001b[1;32m    188\u001b[0m \u001b[38;5;250m    \u001b[39m\u001b[38;5;124;03m\"\"\"Try to apply the pattern at the start of the string, returning\u001b[39;00m\n\u001b[1;32m    189\u001b[0m \u001b[38;5;124;03m    a Match object, or None if no match was found.\"\"\"\u001b[39;00m\n\u001b[0;32m--> 190\u001b[0m     \u001b[38;5;28;01mreturn\u001b[39;00m \u001b[43m_compile\u001b[49m\u001b[43m(\u001b[49m\u001b[43mpattern\u001b[49m\u001b[43m,\u001b[49m\u001b[43m \u001b[49m\u001b[43mflags\u001b[49m\u001b[43m)\u001b[49m\u001b[38;5;241;43m.\u001b[39;49m\u001b[43mmatch\u001b[49m\u001b[43m(\u001b[49m\u001b[43mstring\u001b[49m\u001b[43m)\u001b[49m\n",
      "\u001b[0;31mTypeError\u001b[0m: expected string or bytes-like object"
     ]
    }
   ],
   "source": [
    "re.match( r'^(DAN|DAR)\\s*([0-9]{2,3}).*', None, re.M|re.I)"
   ]
  },
  {
   "cell_type": "code",
   "execution_count": null,
   "id": "a01f749c-a0c8-49e6-89a0-ecd4517ad208",
   "metadata": {},
   "outputs": [],
   "source": []
  }
 ],
 "metadata": {
  "kernelspec": {
   "display_name": "Python 3 (ipykernel)",
   "language": "python",
   "name": "python3"
  },
  "language_info": {
   "codemirror_mode": {
    "name": "ipython",
    "version": 3
   },
   "file_extension": ".py",
   "mimetype": "text/x-python",
   "name": "python",
   "nbconvert_exporter": "python",
   "pygments_lexer": "ipython3",
   "version": "3.10.8"
  }
 },
 "nbformat": 4,
 "nbformat_minor": 5
}
