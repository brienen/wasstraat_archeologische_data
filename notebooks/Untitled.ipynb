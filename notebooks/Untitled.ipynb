{
 "cells": [
  {
   "cell_type": "code",
   "execution_count": 78,
   "metadata": {},
   "outputs": [],
   "source": [
    "import config\n",
    "import pymongo\n",
    "import numpy as np\n",
    "import pandas as pd\n",
    "import json\n",
    "import re\n",
    "import simplejson\n",
    "from math import isnan\n",
    "import ast\n",
    "#import attributes\n",
    "\n",
    "import sqlalchemy as db\n",
    "from sqlalchemy.orm import sessionmaker\n",
    "from sqlalchemy import create_engine, inspect\n",
    "from sqlalchemy.engine import reflection\n",
    "from sqlalchemy.types import VARCHAR\n",
    "\n",
    "from pandas_profiling import ProfileReport\n",
    "from ipywidgets import interact, Dropdown"
   ]
  },
  {
   "cell_type": "code",
   "execution_count": 81,
   "metadata": {},
   "outputs": [],
   "source": [
    "myclient = pymongo.MongoClient(config.MONGO_URI)\n",
    "stagingDb = myclient[config.DB_STAGING]\n",
    "analyseDb = myclient[config.DB_ANALYSE]\n",
    "stagingCol = stagingDb[config.COLL_PLAATJES]\n",
    "stagingOud = stagingDb[config.COLL_STAGING_OUD]\n",
    "stagingNieuw = stagingDb[config.COLL_STAGING_NIEUW]\n",
    "analyseCol = analyseDb[config.COLL_ANALYSE]\n",
    "analyseColClean = analyseDb[config.COLL_ANALYSE_CLEAN]\n",
    "metaCollection = stagingDb['Kolominformatie']\n",
    "\n",
    "AIRFLOW_WASSTRAAT_CONFIG = \"./wasstraat_config/Wasstraat_Config_Harmonize.xlsx\"\n",
    "AIRFLOW_WASSTRAAT_CONFIG_NEW = \"./wasstraat_config/Wasstraat_Config_Harmonize_new.xlsx\"\n",
    "\n",
    "SUGGESTIE_XL = \"./wasstraat_config/Wasstraat_Attribuut_Suggestie_v2.xlsx\""
   ]
  },
  {
   "cell_type": "code",
   "execution_count": 82,
   "metadata": {},
   "outputs": [
    {
     "data": {
      "text/plain": [
       "[('Projectvelden',\n",
       "  {'fields': ['project', 'put', 'vlaknr', 'spoor', 'vondstnr']}),\n",
       " ('inhoudvelden',\n",
       "  {'fields': ['inhoud',\n",
       "    'omstandigheden',\n",
       "    'segment',\n",
       "    'vaknummer',\n",
       "    'verzamelwijze']}),\n",
       " ('Datering', {'fields': ['dateringvanaf', 'dateringtot', 'datering']})]"
      ]
     },
     "execution_count": 82,
     "metadata": {},
     "output_type": "execute_result"
    }
   ],
   "source": [
    "show_fieldsets = [\n",
    "        (\"Projectvelden\", {\"fields\": [\"project\", \"put\", \"vlaknr\", \"spoor\", \"vondstnr\"]}),\n",
    "        (\"inhoudvelden\", {\"fields\": [\"inhoud\", \"omstandigheden\", \"segment\", \"vaknummer\", \"verzamelwijze\"]}),\n",
    "        (\"Datering\", {\"fields\": [\"dateringvanaf\", \"dateringtot\", \"datering\"]})]\n",
    "show_fieldsets"
   ]
  },
  {
   "cell_type": "code",
   "execution_count": null,
   "metadata": {},
   "outputs": [],
   "source": []
  },
  {
   "cell_type": "code",
   "execution_count": 83,
   "metadata": {},
   "outputs": [
    {
     "data": {
      "text/plain": [
       "[{'fields': ['project', 'put', 'vlaknr', 'spoor', 'vondstnr', 'discriminator'],\n",
       "  'grid': 4},\n",
       " {'fields': ['project', 'put', 'vlaknr', 'spoor', 'vondstnr'], 'grid': 3},\n",
       " {'fields': ['project', 'put', 'vlaknr', 'spoor', 'vondstnr'], 'gridt': 3}]"
      ]
     },
     "execution_count": 83,
     "metadata": {},
     "output_type": "execute_result"
    }
   ],
   "source": [
    "show_fieldsets_columns = [\n",
    "        (\"Projectvelden\", {\"columns\": [\n",
    "            {\"fields\": [\"project\", \"put\", \"vlaknr\", \"spoor\", \"vondstnr\", \"discriminator\"], 'grid':4},\n",
    "            {\"fields\": [\"project\", \"put\", \"vlaknr\", \"spoor\", \"vondstnr\"], 'grid':3},\n",
    "            {\"fields\": [\"project\", \"put\", \"vlaknr\", \"spoor\", \"vondstnr\"], 'gridt':3},\n",
    "\n",
    "        ]}),\n",
    "        (\"inhoudvelden\", {\"fields\": [\"inhoud\", \"omstandigheden\", \"segment\", \"discriminator\", \"verzamelwijze\"]}),\n",
    "        (\"Datering\", {\"fields\": [\"dateringvanaf\", \"dateringtot\", \"datering\"]})]\n",
    "\n",
    "show_fieldsets_columns[0][1]['columns']"
   ]
  },
  {
   "cell_type": "code",
   "execution_count": 94,
   "metadata": {},
   "outputs": [
    {
     "data": {
      "text/plain": [
       "_id                       object\n",
       "brondata                  object\n",
       "projectcd                 object\n",
       "soort                     object\n",
       "artefactsoort             object\n",
       "                           ...  \n",
       "slijtage_onderkaaks_M1    object\n",
       "slijtage_onderkaaks_M2    object\n",
       "slijtage_onderkaaks_M3    object\n",
       "symmetrie                 object\n",
       "vergroeiing               object\n",
       "Length: 193, dtype: object"
      ]
     },
     "execution_count": 94,
     "metadata": {},
     "output_type": "execute_result"
    }
   ],
   "source": [
    "df_artefact = pd.DataFrame(list(analyseColClean.find({'soort': 'Artefact'})))\n",
    "lst_artefactcols = df_artefact.columns\n",
    "\n",
    "df_artefact.dtypes"
   ]
  },
  {
   "cell_type": "code",
   "execution_count": 93,
   "metadata": {},
   "outputs": [
    {
     "ename": "AttributeError",
     "evalue": "'VARCHAR(80)' is not a valid function for 'Series' object",
     "output_type": "error",
     "traceback": [
      "\u001b[0;31m---------------------------------------------------------------------------\u001b[0m",
      "\u001b[0;31mAttributeError\u001b[0m                            Traceback (most recent call last)",
      "Input \u001b[0;32mIn [93]\u001b[0m, in \u001b[0;36m<module>\u001b[0;34m\u001b[0m\n\u001b[1;32m      1\u001b[0m \u001b[38;5;66;03m#df_artefact.iloc[0]['soort'][:80]\u001b[39;00m\n\u001b[1;32m      2\u001b[0m \u001b[38;5;66;03m#df_artefact = df_artefact.astype({\"soort\": str, \"artefactsoort\": str})\u001b[39;00m\n\u001b[0;32m----> 3\u001b[0m df_artefact[\u001b[38;5;124m'\u001b[39m\u001b[38;5;124msoort\u001b[39m\u001b[38;5;124m'\u001b[39m] \u001b[38;5;241m=\u001b[39m \u001b[43mdf_artefact\u001b[49m\u001b[43m[\u001b[49m\u001b[38;5;124;43m'\u001b[39;49m\u001b[38;5;124;43msoort\u001b[39;49m\u001b[38;5;124;43m'\u001b[39;49m\u001b[43m]\u001b[49m\u001b[38;5;241;43m.\u001b[39;49m\u001b[43mapply\u001b[49m\u001b[43m(\u001b[49m\u001b[38;5;28;43mstr\u001b[39;49m\u001b[43m)\u001b[49m\n",
      "File \u001b[0;32m/opt/conda/lib/python3.8/site-packages/pandas/core/series.py:4191\u001b[0m, in \u001b[0;36mSeries.apply\u001b[0;34m(self, func, convert_dtype, args, **kwds)\u001b[0m\n\u001b[1;32m   4189\u001b[0m \u001b[38;5;66;03m# if we are a string, try to dispatch\u001b[39;00m\n\u001b[1;32m   4190\u001b[0m \u001b[38;5;28;01mif\u001b[39;00m \u001b[38;5;28misinstance\u001b[39m(func, \u001b[38;5;28mstr\u001b[39m):\n\u001b[0;32m-> 4191\u001b[0m     \u001b[38;5;28;01mreturn\u001b[39;00m \u001b[38;5;28;43mself\u001b[39;49m\u001b[38;5;241;43m.\u001b[39;49m\u001b[43m_try_aggregate_string_function\u001b[49m\u001b[43m(\u001b[49m\u001b[43mfunc\u001b[49m\u001b[43m,\u001b[49m\u001b[43m \u001b[49m\u001b[38;5;241;43m*\u001b[39;49m\u001b[43margs\u001b[49m\u001b[43m,\u001b[49m\u001b[43m \u001b[49m\u001b[38;5;241;43m*\u001b[39;49m\u001b[38;5;241;43m*\u001b[39;49m\u001b[43mkwds\u001b[49m\u001b[43m)\u001b[49m\n\u001b[1;32m   4193\u001b[0m \u001b[38;5;66;03m# handle ufuncs and lambdas\u001b[39;00m\n\u001b[1;32m   4194\u001b[0m \u001b[38;5;28;01mif\u001b[39;00m kwds \u001b[38;5;129;01mor\u001b[39;00m args \u001b[38;5;129;01mand\u001b[39;00m \u001b[38;5;129;01mnot\u001b[39;00m \u001b[38;5;28misinstance\u001b[39m(func, np\u001b[38;5;241m.\u001b[39mufunc):\n",
      "File \u001b[0;32m/opt/conda/lib/python3.8/site-packages/pandas/core/base.py:277\u001b[0m, in \u001b[0;36mSelectionMixin._try_aggregate_string_function\u001b[0;34m(self, arg, *args, **kwargs)\u001b[0m\n\u001b[1;32m    273\u001b[0m     \u001b[38;5;28;01mif\u001b[39;00m \u001b[38;5;28mhasattr\u001b[39m(\u001b[38;5;28mself\u001b[39m, \u001b[38;5;124m\"\u001b[39m\u001b[38;5;124m__array__\u001b[39m\u001b[38;5;124m\"\u001b[39m):\n\u001b[1;32m    274\u001b[0m         \u001b[38;5;66;03m# in particular exclude Window\u001b[39;00m\n\u001b[1;32m    275\u001b[0m         \u001b[38;5;28;01mreturn\u001b[39;00m f(\u001b[38;5;28mself\u001b[39m, \u001b[38;5;241m*\u001b[39margs, \u001b[38;5;241m*\u001b[39m\u001b[38;5;241m*\u001b[39mkwargs)\n\u001b[0;32m--> 277\u001b[0m \u001b[38;5;28;01mraise\u001b[39;00m \u001b[38;5;167;01mAttributeError\u001b[39;00m(\n\u001b[1;32m    278\u001b[0m     \u001b[38;5;124mf\u001b[39m\u001b[38;5;124m\"\u001b[39m\u001b[38;5;124m'\u001b[39m\u001b[38;5;132;01m{\u001b[39;00marg\u001b[38;5;132;01m}\u001b[39;00m\u001b[38;5;124m'\u001b[39m\u001b[38;5;124m is not a valid function for \u001b[39m\u001b[38;5;124m'\u001b[39m\u001b[38;5;132;01m{\u001b[39;00m\u001b[38;5;28mtype\u001b[39m(\u001b[38;5;28mself\u001b[39m)\u001b[38;5;241m.\u001b[39m\u001b[38;5;18m__name__\u001b[39m\u001b[38;5;132;01m}\u001b[39;00m\u001b[38;5;124m'\u001b[39m\u001b[38;5;124m object\u001b[39m\u001b[38;5;124m\"\u001b[39m\n\u001b[1;32m    279\u001b[0m )\n",
      "\u001b[0;31mAttributeError\u001b[0m: 'VARCHAR(80)' is not a valid function for 'Series' object"
     ]
    }
   ],
   "source": [
    "#df_artefact.iloc[0]['soort'][:80]\n",
    "#df_artefact = df_artefact.astype({\"soort\": str, \"artefactsoort\": str})\n",
    "df_artefact['soort'] = df_artefact['soort'].apply(str)"
   ]
  },
  {
   "cell_type": "code",
   "execution_count": 92,
   "metadata": {},
   "outputs": [
    {
     "name": "stdout",
     "output_type": "stream",
     "text": [
      "Column soort with length 80\n"
     ]
    },
    {
     "ename": "AttributeError",
     "evalue": "'VARCHAR(80)' is not a valid function for 'Series' object",
     "output_type": "error",
     "traceback": [
      "\u001b[0;31m---------------------------------------------------------------------------\u001b[0m",
      "\u001b[0;31mAttributeError\u001b[0m                            Traceback (most recent call last)",
      "Input \u001b[0;32mIn [92]\u001b[0m, in \u001b[0;36m<module>\u001b[0;34m\u001b[0m\n\u001b[1;32m     18\u001b[0m length \u001b[38;5;241m=\u001b[39m dbcol[\u001b[38;5;124m\"\u001b[39m\u001b[38;5;124mtype\u001b[39m\u001b[38;5;124m\"\u001b[39m]\u001b[38;5;241m.\u001b[39mlength\n\u001b[1;32m     19\u001b[0m \u001b[38;5;28mprint\u001b[39m(\u001b[38;5;124mf\u001b[39m\u001b[38;5;124m'\u001b[39m\u001b[38;5;124mColumn \u001b[39m\u001b[38;5;132;01m{\u001b[39;00mcol\u001b[38;5;132;01m}\u001b[39;00m\u001b[38;5;124m with length \u001b[39m\u001b[38;5;132;01m{\u001b[39;00mlength\u001b[38;5;132;01m}\u001b[39;00m\u001b[38;5;124m'\u001b[39m)\n\u001b[0;32m---> 20\u001b[0m df_artefact[col] \u001b[38;5;241m=\u001b[39m \u001b[43mdf_artefact\u001b[49m\u001b[43m[\u001b[49m\u001b[43mcol\u001b[49m\u001b[43m]\u001b[49m\u001b[38;5;241;43m.\u001b[39;49m\u001b[43mapply\u001b[49m\u001b[43m(\u001b[49m\u001b[38;5;28;43mstr\u001b[39;49m\u001b[43m)\u001b[49m\n\u001b[1;32m     21\u001b[0m \u001b[38;5;66;03m#df_artefact = df_artefact.astype({\"soort\": str, \"artefactsoort\": str})\u001b[39;00m\n\u001b[1;32m     22\u001b[0m \u001b[38;5;66;03m#df_artefact[col] = df_artefact.apply(lambda x: x[col][:dbcol['type'].length] if type(x[col]) == str else '', axis=1)\u001b[39;00m\n\u001b[1;32m     23\u001b[0m df_artefact[col] \u001b[38;5;241m=\u001b[39m df_artefact[col][:length]\n",
      "File \u001b[0;32m/opt/conda/lib/python3.8/site-packages/pandas/core/series.py:4191\u001b[0m, in \u001b[0;36mSeries.apply\u001b[0;34m(self, func, convert_dtype, args, **kwds)\u001b[0m\n\u001b[1;32m   4189\u001b[0m \u001b[38;5;66;03m# if we are a string, try to dispatch\u001b[39;00m\n\u001b[1;32m   4190\u001b[0m \u001b[38;5;28;01mif\u001b[39;00m \u001b[38;5;28misinstance\u001b[39m(func, \u001b[38;5;28mstr\u001b[39m):\n\u001b[0;32m-> 4191\u001b[0m     \u001b[38;5;28;01mreturn\u001b[39;00m \u001b[38;5;28;43mself\u001b[39;49m\u001b[38;5;241;43m.\u001b[39;49m\u001b[43m_try_aggregate_string_function\u001b[49m\u001b[43m(\u001b[49m\u001b[43mfunc\u001b[49m\u001b[43m,\u001b[49m\u001b[43m \u001b[49m\u001b[38;5;241;43m*\u001b[39;49m\u001b[43margs\u001b[49m\u001b[43m,\u001b[49m\u001b[43m \u001b[49m\u001b[38;5;241;43m*\u001b[39;49m\u001b[38;5;241;43m*\u001b[39;49m\u001b[43mkwds\u001b[49m\u001b[43m)\u001b[49m\n\u001b[1;32m   4193\u001b[0m \u001b[38;5;66;03m# handle ufuncs and lambdas\u001b[39;00m\n\u001b[1;32m   4194\u001b[0m \u001b[38;5;28;01mif\u001b[39;00m kwds \u001b[38;5;129;01mor\u001b[39;00m args \u001b[38;5;129;01mand\u001b[39;00m \u001b[38;5;129;01mnot\u001b[39;00m \u001b[38;5;28misinstance\u001b[39m(func, np\u001b[38;5;241m.\u001b[39mufunc):\n",
      "File \u001b[0;32m/opt/conda/lib/python3.8/site-packages/pandas/core/base.py:277\u001b[0m, in \u001b[0;36mSelectionMixin._try_aggregate_string_function\u001b[0;34m(self, arg, *args, **kwargs)\u001b[0m\n\u001b[1;32m    273\u001b[0m     \u001b[38;5;28;01mif\u001b[39;00m \u001b[38;5;28mhasattr\u001b[39m(\u001b[38;5;28mself\u001b[39m, \u001b[38;5;124m\"\u001b[39m\u001b[38;5;124m__array__\u001b[39m\u001b[38;5;124m\"\u001b[39m):\n\u001b[1;32m    274\u001b[0m         \u001b[38;5;66;03m# in particular exclude Window\u001b[39;00m\n\u001b[1;32m    275\u001b[0m         \u001b[38;5;28;01mreturn\u001b[39;00m f(\u001b[38;5;28mself\u001b[39m, \u001b[38;5;241m*\u001b[39margs, \u001b[38;5;241m*\u001b[39m\u001b[38;5;241m*\u001b[39mkwargs)\n\u001b[0;32m--> 277\u001b[0m \u001b[38;5;28;01mraise\u001b[39;00m \u001b[38;5;167;01mAttributeError\u001b[39;00m(\n\u001b[1;32m    278\u001b[0m     \u001b[38;5;124mf\u001b[39m\u001b[38;5;124m\"\u001b[39m\u001b[38;5;124m'\u001b[39m\u001b[38;5;132;01m{\u001b[39;00marg\u001b[38;5;132;01m}\u001b[39;00m\u001b[38;5;124m'\u001b[39m\u001b[38;5;124m is not a valid function for \u001b[39m\u001b[38;5;124m'\u001b[39m\u001b[38;5;132;01m{\u001b[39;00m\u001b[38;5;28mtype\u001b[39m(\u001b[38;5;28mself\u001b[39m)\u001b[38;5;241m.\u001b[39m\u001b[38;5;18m__name__\u001b[39m\u001b[38;5;132;01m}\u001b[39;00m\u001b[38;5;124m'\u001b[39m\u001b[38;5;124m object\u001b[39m\u001b[38;5;124m\"\u001b[39m\n\u001b[1;32m    279\u001b[0m )\n",
      "\u001b[0;31mAttributeError\u001b[0m: 'VARCHAR(80)' is not a valid function for 'Series' object"
     ]
    }
   ],
   "source": [
    "lst_tables = ['Def_Project', 'Def_Put', 'Def_Vondst', 'Def_Spoor', 'Def_Stelling', 'Def_Doos', 'Def_Standplaats', 'Def_Plaatsing', 'Def_Vlak', 'Def_Vindplaats', 'Def_Artefact'] #['Def_Project', 'Def_Vondst', 'Def_Stelling', 'Def_Plaatsing', 'Def_Vindplaats', 'Def_Artefact']\n",
    "regexProject = re.compile(r'\\'project\\': \\'(.*?)\\'') # regex to replace Object\n",
    "\n",
    "\n",
    "\n",
    "\n",
    "engine = create_engine(config.SQLALCHEMY_DATABASE_URI)\n",
    "with engine.connect() as connection:\n",
    "    insp = inspect(connection)\n",
    "    db_columns = insp.get_columns('Def_Artefact')\n",
    "    \n",
    "    lst_columns = [col['name'] for col in db_columns] \n",
    "    lst_doorsnede = [col for col in lst_columns if col in lst_artefactcols]\n",
    "    \n",
    "    for col in lst_doorsnede:\n",
    "        for dbcol in [dbcol for dbcol in db_columns if dbcol['name'] == col]:\n",
    "            if type(dbcol['type']) == VARCHAR and col != '_id':\n",
    "                length = dbcol[\"type\"].length\n",
    "                print(f'Column {col} with length {length}')\n",
    "                df_artefact[col] = df_artefact[col].apply(str)\n",
    "                #df_artefact = df_artefact.astype({\"soort\": str, \"artefactsoort\": str})\n",
    "                #df_artefact[col] = df_artefact.apply(lambda x: x[col][:dbcol['type'].length] if type(x[col]) == str else '', axis=1)\n",
    "                df_artefact[col] = df_artefact[col][:length]\n",
    "            pass\n",
    "                \n",
    "                \n",
    "    \n",
    "db_columns[0]\n",
    "df_artefact.head(5)"
   ]
  },
  {
   "cell_type": "code",
   "execution_count": 62,
   "metadata": {},
   "outputs": [
    {
     "data": {
      "text/plain": [
       "str"
      ]
     },
     "execution_count": 62,
     "metadata": {},
     "output_type": "execute_result"
    }
   ],
   "source": [
    "type(df_artefact.iloc[0]['soort'])"
   ]
  },
  {
   "cell_type": "code",
   "execution_count": null,
   "metadata": {},
   "outputs": [],
   "source": []
  }
 ],
 "metadata": {
  "kernelspec": {
   "display_name": "Python 3",
   "language": "python",
   "name": "python3"
  },
  "language_info": {
   "codemirror_mode": {
    "name": "ipython",
    "version": 3
   },
   "file_extension": ".py",
   "mimetype": "text/x-python",
   "name": "python",
   "nbconvert_exporter": "python",
   "pygments_lexer": "ipython3",
   "version": "3.8.6"
  }
 },
 "nbformat": 4,
 "nbformat_minor": 4
}
