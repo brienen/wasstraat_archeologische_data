{
 "cells": [
  {
   "cell_type": "code",
   "execution_count": 2,
   "metadata": {},
   "outputs": [
    {
     "data": {
      "text/plain": [
       "[('Projectvelden',\n",
       "  {'fields': ['project', 'put', 'vlaknr', 'spoor', 'vondstnr']}),\n",
       " ('inhoudvelden',\n",
       "  {'fields': ['inhoud',\n",
       "    'omstandigheden',\n",
       "    'segment',\n",
       "    'vaknummer',\n",
       "    'verzamelwijze']}),\n",
       " ('Datering', {'fields': ['dateringvanaf', 'dateringtot', 'datering']})]"
      ]
     },
     "execution_count": 2,
     "metadata": {},
     "output_type": "execute_result"
    }
   ],
   "source": [
    "show_fieldsets = [\n",
    "        (\"Projectvelden\", {\"fields\": [\"project\", \"put\", \"vlaknr\", \"spoor\", \"vondstnr\"]}),\n",
    "        (\"inhoudvelden\", {\"fields\": [\"inhoud\", \"omstandigheden\", \"segment\", \"vaknummer\", \"verzamelwijze\"]}),\n",
    "        (\"Datering\", {\"fields\": [\"dateringvanaf\", \"dateringtot\", \"datering\"]})]\n",
    "show_fieldsets"
   ]
  },
  {
   "cell_type": "code",
   "execution_count": 3,
   "metadata": {},
   "outputs": [
    {
     "data": {
      "text/plain": [
       "[('Projectvelden',\n",
       "  {'columns': [{'fields': ['project', 'put', 'vlaknr', 'spoor', 'vondstnr'],\n",
       "     'grid': 4},\n",
       "    {'fields': ['project', 'put', 'vlaknr', 'spoor', 'vondstnr'], 'grid': 3},\n",
       "    {'fields': ['project', 'put', 'vlaknr', 'spoor', 'vondstnr'],\n",
       "     'gridt': 3}]}),\n",
       " ('inhoudvelden',\n",
       "  {'fields': ['inhoud',\n",
       "    'omstandigheden',\n",
       "    'segment',\n",
       "    'vaknummer',\n",
       "    'verzamelwijze']}),\n",
       " ('Datering', {'fields': ['dateringvanaf', 'dateringtot', 'datering']})]"
      ]
     },
     "execution_count": 3,
     "metadata": {},
     "output_type": "execute_result"
    }
   ],
   "source": [
    "show_fieldsets_columns = [\n",
    "        (\"Projectvelden\", {\"columns\": [\n",
    "            {\"fields\": [\"project\", \"put\", \"vlaknr\", \"spoor\", \"vondstnr\"], 'grid':4},\n",
    "            {\"fields\": [\"project\", \"put\", \"vlaknr\", \"spoor\", \"vondstnr\"], 'grid':3},\n",
    "            {\"fields\": [\"project\", \"put\", \"vlaknr\", \"spoor\", \"vondstnr\"], 'gridt':3},\n",
    "\n",
    "        ]}),\n",
    "        (\"inhoudvelden\", {\"fields\": [\"inhoud\", \"omstandigheden\", \"segment\", \"vaknummer\", \"verzamelwijze\"]}),\n",
    "        (\"Datering\", {\"fields\": [\"dateringvanaf\", \"dateringtot\", \"datering\"]})]\n",
    "\n",
    "show_fieldsets_columns"
   ]
  },
  {
   "cell_type": "code",
   "execution_count": 12,
   "metadata": {},
   "outputs": [
    {
     "data": {
      "text/plain": [
       "[['project',\n",
       "  'put',\n",
       "  'vlaknr',\n",
       "  'spoor',\n",
       "  'vondstnr',\n",
       "  'project',\n",
       "  'put',\n",
       "  'vlaknr',\n",
       "  'spoor',\n",
       "  'vondstnr',\n",
       "  'project',\n",
       "  'put',\n",
       "  'vlaknr',\n",
       "  'spoor',\n",
       "  'vondstnr'],\n",
       " ['inhoud', 'omstandigheden', 'segment', 'vaknummer', 'verzamelwijze'],\n",
       " ['dateringvanaf', 'dateringtot', 'datering']]"
      ]
     },
     "execution_count": 12,
     "metadata": {},
     "output_type": "execute_result"
    }
   ],
   "source": [
    "def flatten(t):\n",
    "    return [item for sublist in t for item in sublist]\n",
    "\n",
    "[fieldset_item[1].get(\"fields\") if fieldset_item[1].get(\"fields\") else flatten([col_item.get(\"fields\") for col_item in fieldset_item[1].get(\"columns\")]) for fieldset_item in show_fieldsets_columns]"
   ]
  },
  {
   "cell_type": "code",
   "execution_count": 64,
   "metadata": {},
   "outputs": [
    {
     "name": "stdout",
     "output_type": "stream",
     "text": [
      "[4, 3, 0]\n",
      "1\n",
      "7\n",
      "12\n",
      "5\n",
      "12\n",
      "[4, 3, 5]\n",
      "Grid: 4 {'fields': ['project', 'put', 'vlaknr', 'spoor', 'vondstnr'], 'grid': 4}\n",
      "Grid: 3 {'fields': ['project', 'put', 'vlaknr', 'spoor', 'vondstnr'], 'grid': 3}\n",
      "Grid: 5 {'fields': ['project', 'put', 'vlaknr', 'spoor', 'vondstnr'], 'gridt': 3}\n",
      "['dateringvanaf', 'dateringtot', 'datering']\n",
      "['dateringvanaf', 'dateringtot', 'datering']\n"
     ]
    }
   ],
   "source": [
    "for pn in show_fieldsets_columns:\n",
    "    if 'columns' in pn[1]:\n",
    "        columns = pn[1]['columns']\n",
    "        grid_sum = sum([col['grid'] for col in columns if 'grid' in col])\n",
    "        no_grid_count = len([col for col in columns if not 'grid' in col])\n",
    "        avg_grid = round((12 - grid_sum) / no_grid_count) if no_grid_count > 0 else 0\n",
    "        \n",
    "        \n",
    "        grids = [column['grid'] if 'grid' in column else 0 for column in columns]\n",
    "        no_grid = grids.count(0)\n",
    "        sum_grid = sum(grids)\n",
    "        max_grid = 12\n",
    "        avg_grid = round((max_grid - sum_grid) // no_grid)\n",
    "        rest_grid = max_grid\n",
    "\n",
    "        for i in range(len(grids)):\n",
    "            if grids[i] == 0:\n",
    "                grids[i] = avg_grid if not no_grid == 1 else rest_grid\n",
    "                no_grid = no_grid -1\n",
    "            rest_grid = rest_grid - grids[i]\n",
    "\n",
    "        for i in range(len(columns)):\n",
    "            print(f\"Grid: {grids[i]} {columns[i]}\")\n",
    "    else:\n",
    "        print(pn1['fields'])"
   ]
  },
  {
   "cell_type": "code",
   "execution_count": 59,
   "metadata": {},
   "outputs": [
    {
     "data": {
      "text/plain": [
       "4"
      ]
     },
     "execution_count": 59,
     "metadata": {},
     "output_type": "execute_result"
    }
   ],
   "source": [
    "grids[0]"
   ]
  },
  {
   "cell_type": "code",
   "execution_count": null,
   "metadata": {},
   "outputs": [],
   "source": []
  }
 ],
 "metadata": {
  "kernelspec": {
   "display_name": "Python 3",
   "language": "python",
   "name": "python3"
  },
  "language_info": {
   "codemirror_mode": {
    "name": "ipython",
    "version": 3
   },
   "file_extension": ".py",
   "mimetype": "text/x-python",
   "name": "python",
   "nbconvert_exporter": "python",
   "pygments_lexer": "ipython3",
   "version": "3.8.6"
  }
 },
 "nbformat": 4,
 "nbformat_minor": 4
}
