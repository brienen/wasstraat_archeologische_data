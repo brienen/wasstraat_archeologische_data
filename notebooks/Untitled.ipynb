{
 "cells": [
  {
   "cell_type": "code",
   "execution_count": 1,
   "id": "aca630d5-7d6b-4c7b-92e0-d35c3b6f3dd8",
   "metadata": {},
   "outputs": [],
   "source": [
    "import shared.config as config\n",
    "import shared.image_util as image_util\n",
    "import pymongo\n",
    "import numpy as np\n",
    "import pandas as pd\n",
    "import json\n",
    "import re\n",
    "import ast\n",
    "import os\n",
    "from PIL import Image, ExifTags, ImageOps\n",
    "import pathlib\n",
    "\n",
    "import logging\n",
    "logger = logging.getLogger()\n",
    "\n",
    "\n",
    "fullfilename = '/input/images/DC014_Doelenstraat/L Fotos/Hout/DC14_P00_H0000_701_2.JPG'\n",
    "dir = '/output/tijdelijk/'"
   ]
  },
  {
   "cell_type": "code",
   "execution_count": 2,
   "id": "be3cd97b-568c-4be2-9890-6fd374ea28f4",
   "metadata": {},
   "outputs": [
    {
     "data": {
      "text/plain": [
       "'/input/images/DC014_Doelenstraat/L Fotos/Hout/DC14_P00_H0000_701_2'"
      ]
     },
     "execution_count": 2,
     "metadata": {},
     "output_type": "execute_result"
    }
   ],
   "source": [
    "filename, file_extension = os.path.splitext(fullfilename)\n",
    "filename"
   ]
  },
  {
   "cell_type": "code",
   "execution_count": 3,
   "id": "b2bb132c-624f-45f5-b030-6d03128a693c",
   "metadata": {},
   "outputs": [
    {
     "data": {
      "text/plain": [
       "'DC14_P00_H0000_701_2'"
      ]
     },
     "execution_count": 3,
     "metadata": {},
     "output_type": "execute_result"
    }
   ],
   "source": [
    "basename = os.path.basename(fullfilename)\n",
    "basename_noext, file_extension = os.path.splitext(basename)\n",
    "basename_noext"
   ]
  },
  {
   "cell_type": "code",
   "execution_count": 4,
   "id": "81907fb2-7019-49b8-af94-6237faf1bff8",
   "metadata": {},
   "outputs": [
    {
     "data": {
      "text/plain": [
       "'/output/tijdelijk/DC14_P00_H0000_701_2.jpg'"
      ]
     },
     "execution_count": 4,
     "metadata": {},
     "output_type": "execute_result"
    }
   ],
   "source": [
    "os.path.join(dir, basename_noext + '.jpg')"
   ]
  },
  {
   "cell_type": "code",
   "execution_count": 5,
   "id": "f46a3551-c5b0-4ae4-bff8-281b23aba2f4",
   "metadata": {},
   "outputs": [
    {
     "data": {
      "text/plain": [
       "'/input/images'"
      ]
     },
     "execution_count": 5,
     "metadata": {},
     "output_type": "execute_result"
    }
   ],
   "source": [
    "config.AIRFLOW_INPUT_IMAGES"
   ]
  },
  {
   "cell_type": "code",
   "execution_count": 6,
   "id": "1a69a81e-f563-4a2a-8f62-6226a4579279",
   "metadata": {},
   "outputs": [
    {
     "data": {
      "text/plain": [
       "'/DC014_Doelenstraat/L Fotos/Hout/DC14_P00_H0000_701_2.JPG'"
      ]
     },
     "execution_count": 6,
     "metadata": {},
     "output_type": "execute_result"
    }
   ],
   "source": [
    "import re\n",
    "if fullfilename.startswith(config.AIRFLOW_INPUT_IMAGES):\n",
    "    s3 = re.sub('^' + config.AIRFLOW_INPUT_IMAGES, '', fullfilename)\n",
    "s3"
   ]
  },
  {
   "cell_type": "code",
   "execution_count": 7,
   "id": "9aa512ef-37c6-4ef9-bfbe-af75fce739f0",
   "metadata": {},
   "outputs": [
    {
     "data": {
      "text/plain": [
       "'/output/archeomedia'"
      ]
     },
     "execution_count": 7,
     "metadata": {},
     "output_type": "execute_result"
    }
   ],
   "source": [
    "config.AIRFLOW_OUTPUT_MEDIA"
   ]
  },
  {
   "cell_type": "code",
   "execution_count": 8,
   "id": "8c8360e9-2880-4ea2-b52f-591bf9c666a9",
   "metadata": {},
   "outputs": [
    {
     "data": {
      "text/plain": [
       "'/output/archeomedia/DC014_Doelenstraat/L Fotos/Hout/DC14_P00_H0000_701_2.JPG'"
      ]
     },
     "execution_count": 8,
     "metadata": {},
     "output_type": "execute_result"
    }
   ],
   "source": [
    "out_filename = config.AIRFLOW_OUTPUT_MEDIA + re.sub('^' + config.AIRFLOW_INPUT_IMAGES, '', fullfilename)\n",
    "out_filename"
   ]
  },
  {
   "cell_type": "code",
   "execution_count": 9,
   "id": "38eff854-2f2b-4f44-9026-688ffb1ddb4c",
   "metadata": {},
   "outputs": [
    {
     "data": {
      "text/plain": [
       "'/DC014_Doelenstraat/L Fotos/Hout/DC14_P00_H0000_701_2.jpg'"
      ]
     },
     "execution_count": 9,
     "metadata": {},
     "output_type": "execute_result"
    }
   ],
   "source": [
    "filename_noext, file_extension = os.path.splitext(fullfilename)\n",
    "\n",
    "file_id = re.sub('^' + config.AIRFLOW_INPUT_IMAGES, '', filename_noext) + '.jpg'\n",
    "\n",
    "out_filename = config.AIRFLOW_OUTPUT_MEDIA + file_id\n",
    "file_id"
   ]
  },
  {
   "cell_type": "code",
   "execution_count": 10,
   "id": "226aeac3-8967-4477-b9cd-f3ef9dbeaaf6",
   "metadata": {},
   "outputs": [],
   "source": [
    "def adjustAndSaveFile(fullfilename, fs, collection):\n",
    "    try:\n",
    "        filename, file_extension = os.path.splitext(fullfilename)\n",
    "        dir, filename = os.path.split(fullfilename)\n",
    "        if file_extension.lower() not in config.IMAGE_EXTENSIONS:\n",
    "            return None\n",
    "\n",
    "        # If image is sfeerfoto then ignore to not add pictures of people\n",
    "        if 'Sfeerfoto' in fullfilename:\n",
    "            return None\n",
    "\n",
    "        # Get projectcd\n",
    "        projectcd = fullfilename.replace(config.AIRFLOW_INPUT_IMAGES + '/','')\n",
    "        projectcd = re.search('^([A-Z0-9]+).*', projectcd).group(1)\n",
    "\n",
    "        # First read image and make 3 versions with different sizes. And put them in a list \n",
    "        if 'pdf' in file_extension.lower():\n",
    "            images = pdf2image.convert_from_path(fullfilename)\n",
    "            image = images[0]\n",
    "        else:\n",
    "            image = Image.open(fullfilename, 'r')\n",
    "        mime_type = ''\n",
    "\n",
    "        image_dict_sml, image_dict_med, image_dict_big = putImageInGrid(image, fullfilename, fs, dir, projectcd)    \n",
    "\n",
    "        # Insert a record with metadata\n",
    "        return collection.insert_one({\n",
    "            'fileName': filename, 'fullFileName': fullfilename, 'imageUUID': str(image_dict_big), 'imageMiddleUUID': str(image_dict_med), 'imageThumbUUID': str(image_dict_sml),\n",
    "            'fileType': file_extension.lower(), 'directory': dir, 'mime_type': 'image/jpeg', 'projectcd': projectcd \n",
    "            }).inserted_id  \n",
    "\n",
    "    except Exception as err:\n",
    "        msg = \"Onbekende fout bij het bewaren van image, met tekst: \" + str(err)\n",
    "        logger.error(msg)    \n",
    "        raise Exception(msg) from err\n",
    "\n",
    "\n",
    "\n",
    "def putImageInGrid(image: Image, fullfilename, fs, dir, projectcd):\n",
    "    print('Dir: '+ dir)\n",
    "    try:\n",
    "        basename = os.path.basename(fullfilename)\n",
    "        basename_noext, file_extension = os.path.splitext(basename)\n",
    "\n",
    "        # Grayscale images need special attention for not distoring\n",
    "        lzw = False\n",
    "        if 'lzw' in basename.lower() and 'tif' in file_extension.lower():\n",
    "            image = ImageOps.grayscale(image)\n",
    "            lzw = True\n",
    "\n",
    "        lst_images = []\n",
    "        image_dict_big = image.copy()\n",
    "        image_dict_big = {\n",
    "            #'image': adjustImage(image_dict_big, config.IMAGE_SIZE_BIGGEST if not lzw else config.IMAGE_SIZE_LZW) # grayscale images can have more pixels\n",
    "            'image': image_util.adjustImage(image_dict_big, config.IMAGE_SIZE_BIGGEST) # grayscale images can have more pixels\n",
    "        }\n",
    "        lst_images.append(image_dict_big)\n",
    "        image_dict_med = image.copy()\n",
    "        image_dict_med = {\n",
    "            'image': image_util.adjustImage(image_dict_med, config.IMAGE_SIZE_MIDDLE, postcard=True)\n",
    "        }\n",
    "        lst_images.append(image_dict_med)\n",
    "        img_sml = image_dict_med['image'].copy()\n",
    "        img_sml.thumbnail(config.IMAGE_SIZE_THUMB)\n",
    "        image_dict_sml = {\n",
    "            'image': img_sml\n",
    "        }\n",
    "        lst_images.append(image_dict_sml)\n",
    "\n",
    "        #Set dir and Create dir if not exists before saving file\n",
    "        if config.AIRFLOW_INPUT_IMAGES in dir:\n",
    "            dir = re.sub('^' + config.AIRFLOW_INPUT_IMAGES, '', dir)\n",
    "        dir = dir.lstrip('/\\\\')\n",
    "        print('Dir: ' + dir)                         \n",
    "        print(config.AIRFLOW_OUTPUT_MEDIA)\n",
    "        p = os.path.join(config.AIRFLOW_OUTPUT_MEDIA, dir)\n",
    "        print(p)\n",
    "        \n",
    "        pathlib.Path(os.path.join(config.AIRFLOW_OUTPUT_MEDIA, dir)).mkdir(parents=True, exist_ok=True) \n",
    "        print(dir)\n",
    "\n",
    "        # Loop over all versions and store them in the filestore\n",
    "        file_id_sml = os.path.join(dir, basename_noext + '-sml.jpg')\n",
    "        image_dict_sml['image'].save(os.path.join(config.AIRFLOW_OUTPUT_MEDIA, file_id_sml))\n",
    "\n",
    "        file_id_med = os.path.join(dir, basename_noext + '-med.jpg')\n",
    "        image_dict_med['image'].save(os.path.join(config.AIRFLOW_OUTPUT_MEDIA, file_id_med))\n",
    "\n",
    "        file_id = os.path.join(dir, basename_noext + '.jpg')\n",
    "        image_dict_big['image'].save(os.path.join(config.AIRFLOW_OUTPUT_MEDIA, file_id))\n",
    "\n",
    "        \n",
    "        #for img in lst_images:\n",
    "        #    width = str(img['image'].size[0])\n",
    "        #    height = str(img['image'].size[1])\n",
    "        \n",
    "        #    b = io.BytesIO()\n",
    "        #    img['image'].save(b, \"JPEG\")\n",
    "        #    b.seek(0)\n",
    "\n",
    "        #    img['uuid'] = fs.put(b, content_type='image/jpeg', height=int(height), width=int(width), filename=basename, dir=dir, fullfilename=fullfilename, projectcd=projectcd)\n",
    "\n",
    "        #return image_dict_sml['uuid'], image_dict_med['uuid'], image_dict_big['uuid']\n",
    "        return file_id_sml, file_id_med, file_id\n",
    "\n",
    "    except Exception as err:\n",
    "        msg = f\"Onbekende fout bij het in grid plaatsen van image {fullfilename}, met tekst: {str(err)}\" \n",
    "        logger.error(msg)    \n",
    "        raise Exception(msg) from err"
   ]
  },
  {
   "cell_type": "code",
   "execution_count": 11,
   "id": "08e841a2-78fa-4bf5-b9ab-591acdebf3a4",
   "metadata": {},
   "outputs": [
    {
     "data": {
      "text/plain": [
       "ObjectId('634192e99deaeaa82cfe9b0f')"
      ]
     },
     "execution_count": 11,
     "metadata": {},
     "output_type": "execute_result"
    }
   ],
   "source": [
    "myclient = pymongo.MongoClient(config.MONGO_URI)\n",
    "filesdb = myclient[config.DB_FILES]\n",
    "stagingdb = myclient[config.DB_STAGING]\n",
    "col = filesdb[config.COLL_FILENAMES]\n",
    "\n",
    "#import pathlib\n",
    "#pathlib.Path(os.path.dirname(out_filename)).mkdir(parents=True, exist_ok=True) \n",
    "\n",
    "image_util.adjustAndSaveFile(fullfilename, None, col)"
   ]
  },
  {
   "cell_type": "code",
   "execution_count": 12,
   "id": "db69eb48-c9cc-4f73-a857-24a37d3df61d",
   "metadata": {},
   "outputs": [
    {
     "data": {
      "text/plain": [
       "'/dir/123'"
      ]
     },
     "execution_count": 12,
     "metadata": {},
     "output_type": "execute_result"
    }
   ],
   "source": [
    "os.path.join(config.AIRFLOW_OUTPUT_MEDIA, '/dir/123')"
   ]
  },
  {
   "cell_type": "code",
   "execution_count": 13,
   "id": "d8f9d77e-043e-4f8f-acdc-e3531ba40800",
   "metadata": {},
   "outputs": [
    {
     "data": {
      "text/plain": [
       "'/'"
      ]
     },
     "execution_count": 13,
     "metadata": {},
     "output_type": "execute_result"
    }
   ],
   "source": [
    "os.sep"
   ]
  },
  {
   "cell_type": "code",
   "execution_count": 8,
   "id": "6bbc8726-a2f1-4e06-a4a2-aa399c2ff151",
   "metadata": {},
   "outputs": [
    {
     "data": {
      "text/plain": [
       "{'fields': ['project',\n",
       "  'vondst',\n",
       "  'subnr',\n",
       "  'aantal',\n",
       "  'artefactsoort',\n",
       "  'abr_materiaal',\n",
       "  'sub_abr_materiaal',\n",
       "  'typevoorwerp',\n",
       "  'typecd',\n",
       "  'functievoorwerp',\n",
       "  'versiering',\n",
       "  'beschrijving',\n",
       "  'opmerkingen',\n",
       "  'doos'],\n",
       " 'grid': 6}"
      ]
     },
     "execution_count": 8,
     "metadata": {},
     "output_type": "execute_result"
    }
   ],
   "source": [
    "flds_migratie_info = (\"Migratie-informatie\", {\"fields\": [\"soort\",\"brondata\",\"uuid\"],\"expanded\": False})\n",
    "\n",
    "show_fieldsets = [\n",
    "    (\"Projectvelden\", {\"columns\": [\n",
    "        {\"fields\": [\"project\", \"vondst\", \"subnr\", \"aantal\", \"artefactsoort\", \"abr_materiaal\", \"sub_abr_materiaal\", \"typevoorwerp\", \"typecd\", \"functievoorwerp\", \"versiering\", \"beschrijving\", \"opmerkingen\", \"doos\"], \"grid\":6},        \n",
    "        {\"fields\": [\"fotos\"], \"grid\":6, \"fulldisplay\": True},        \n",
    "    ]}),        \n",
    "    (\"Algemene Artefactvelden\", {\"columns\": [\n",
    "        {\"fields\": [\"origine\", \"conservering\", \"exposabel\", \"restauratie\", \"literatuur\", \"publicatiecode\", \"catalogus\", \"weggegooid\"], \"grid\":6},        \n",
    "        {\"fields\": [\"aantal\", \"gewicht\", \"afmetingen\", \"formaat_horizontaal\", \"formaat_vericaal\", \"compleetheid\", \"mai\", \"diversen\"], \"grid\":6},        \n",
    "    ]}),\n",
    "    (\"Datering\", {\"columns\": [\n",
    "        {\"fields\": [\"datering_vanaf\", \"datering_tot\", \"artefactdatering_vanaf\", \"artefactdatering_tot\"], \"grid\":6},        \n",
    "        {\"fields\": [\"vondstdatering_vanaf\", \"vondstdatering_tot\", \"spoordatering_vanaf\", \"spoordatering_tot\"], \"grid\":6},        \n",
    "    ]}),\n",
    "flds_migratie_info]\n",
    "\n",
    "show_fieldsets[0][1]['columns'][0]"
   ]
  },
  {
   "cell_type": "code",
   "execution_count": 12,
   "id": "3d5a4217-e321-4517-937f-8b832c378e57",
   "metadata": {},
   "outputs": [
    {
     "data": {
      "text/plain": [
       "[('Projectvelden',\n",
       "  {'fields': ['project',\n",
       "    'vondst',\n",
       "    'subnr',\n",
       "    'aantal',\n",
       "    'artefactsoort',\n",
       "    'abr_materiaal',\n",
       "    'sub_abr_materiaal',\n",
       "    'typevoorwerp',\n",
       "    'typecd',\n",
       "    'functievoorwerp',\n",
       "    'versiering',\n",
       "    'beschrijving',\n",
       "    'opmerkingen',\n",
       "    'doos'],\n",
       "   'grid': 6}),\n",
       " ('Datering',\n",
       "  {'columns': [{'fields': ['datering_vanaf',\n",
       "      'datering_tot',\n",
       "      'artefactdatering_vanaf',\n",
       "      'artefactdatering_tot'],\n",
       "     'grid': 6},\n",
       "    {'fields': ['vondstdatering_vanaf',\n",
       "      'vondstdatering_tot',\n",
       "      'spoordatering_vanaf',\n",
       "      'spoordatering_tot'],\n",
       "     'grid': 6}]}),\n",
       " ('Migratie-informatie',\n",
       "  {'fields': ['soort', 'brondata', 'uuid'], 'expanded': False})]"
      ]
     },
     "execution_count": 12,
     "metadata": {},
     "output_type": "execute_result"
    }
   ],
   "source": [
    "projs = show_fieldsets.pop(0)\n",
    "show_fieldsets[0] = (projs[0], projs[1]['columns'][0])\n",
    "\n",
    "show_fieldsets"
   ]
  },
  {
   "cell_type": "code",
   "execution_count": 11,
   "id": "6c55dc75-95ec-4d70-9d7b-a8e8f31e2fc8",
   "metadata": {},
   "outputs": [
    {
     "name": "stdout",
     "output_type": "stream",
     "text": [
      "('Projectvelden', {'columns': [{'fields': ['project', 'vondst', 'subnr', 'aantal', 'artefactsoort', 'abr_materiaal', 'sub_abr_materiaal', 'typevoorwerp', 'typecd', 'functievoorwerp', 'versiering', 'beschrijving', 'opmerkingen', 'doos'], 'grid': 6}, {'fields': ['fotos'], 'grid': 6, 'fulldisplay': True}]})\n",
      "('Algemene Artefactvelden', {'columns': [{'fields': ['origine', 'conservering', 'exposabel', 'restauratie', 'literatuur', 'publicatiecode', 'catalogus', 'weggegooid'], 'grid': 6}, {'fields': ['aantal', 'gewicht', 'afmetingen', 'formaat_horizontaal', 'formaat_vericaal', 'compleetheid', 'mai', 'diversen'], 'grid': 6}]})\n",
      "('Datering', {'columns': [{'fields': ['datering_vanaf', 'datering_tot', 'artefactdatering_vanaf', 'artefactdatering_tot'], 'grid': 6}, {'fields': ['vondstdatering_vanaf', 'vondstdatering_tot', 'spoordatering_vanaf', 'spoordatering_tot'], 'grid': 6}]})\n"
     ]
    }
   ],
   "source": [
    "for i in range(0, len(show_fieldsets)-1):\n",
    "    print(show_fieldsets[i])"
   ]
  },
  {
   "cell_type": "code",
   "execution_count": null,
   "id": "8d17872c-c654-4b6a-82e3-24a89010ae1f",
   "metadata": {},
   "outputs": [],
   "source": []
  }
 ],
 "metadata": {
  "kernelspec": {
   "display_name": "Python 3 (ipykernel)",
   "language": "python",
   "name": "python3"
  },
  "language_info": {
   "codemirror_mode": {
    "name": "ipython",
    "version": 3
   },
   "file_extension": ".py",
   "mimetype": "text/x-python",
   "name": "python",
   "nbconvert_exporter": "python",
   "pygments_lexer": "ipython3",
   "version": "3.10.6"
  }
 },
 "nbformat": 4,
 "nbformat_minor": 5
}
