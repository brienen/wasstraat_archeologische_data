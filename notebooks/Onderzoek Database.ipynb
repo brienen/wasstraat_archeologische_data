{
 "cells": [
  {
   "cell_type": "code",
   "execution_count": 1,
   "metadata": {},
   "outputs": [],
   "source": [
    "import shared.config as config\n",
    "import pymongo\n",
    "import numpy as np\n",
    "import pandas as pd\n",
    "import json\n",
    "import re\n",
    "\n",
    "import sqlalchemy as db\n",
    "from sqlalchemy.orm import sessionmaker\n",
    "from sqlalchemy import create_engine, inspect\n",
    "from sqlalchemy.engine import reflection"
   ]
  },
  {
   "cell_type": "code",
   "execution_count": 2,
   "metadata": {},
   "outputs": [],
   "source": [
    "myclient = pymongo.MongoClient(str(config.MONGO_URI))\n",
    "stagingDb = myclient[str(config.DB_STAGING)]\n",
    "analyseDb = myclient[str(config.DB_ANALYSE)]\n",
    "stagingCol = stagingDb[config.COLL_PLAATJES]\n",
    "stagingOud = stagingDb[config.COLL_STAGING_OUD]\n",
    "stagingNieuw = stagingDb[config.COLL_STAGING_NIEUW]\n",
    "analyseCol = analyseDb[config.COLL_ANALYSE]\n",
    "analyseColClean = analyseDb[config.COLL_ANALYSE_CLEAN]\n",
    "\n",
    "metaCollection = stagingDb['Kolominformatie']\n",
    "\n",
    "lst_soorten_meta = ['Metaal',\n",
    " 'Artefact',\n",
    " 'Glas',\n",
    " 'Stelling',\n",
    " 'Hout',\n",
    " 'Spijker',\n",
    " 'Plaatsing',\n",
    " 'Keramiek',\n",
    " 'Put',\n",
    " 'Vondst',\n",
    " 'Standplaats',\n",
    " 'Aardewerk',\n",
    " 'Munt',\n",
    " 'Muur',\n",
    " 'Skelet',\n",
    " 'Doos',\n",
    " 'Project',\n",
    " 'Spoor',\n",
    " 'Vindplaats',\n",
    " 'Leer',\n",
    " 'Steen',\n",
    " 'Bot',\n",
    " 'Vlak',\n",
    " 'Kleipijp']\n",
    "df_soorten_meta = pd.DataFrame(lst_soorten_meta).rename(columns={0: 'Soort'}) "
   ]
  },
  {
   "cell_type": "code",
   "execution_count": 9,
   "metadata": {},
   "outputs": [
    {
     "data": {
      "text/plain": [
       "array([None, 'Limburg', 'Eifel', 'Rijnland', 'Langewehe', 'Zuid-Limburg?',\n",
       "       'Ardennen', 'Eifel, Mayen', 'Siegburg', 'Langerwehe',\n",
       "       'Langerwehe?', 'Zuid-Limburg, Langerwehe', 'Rijnland, Siegburg?',\n",
       "       'Siegburg?', 'Bergen op Zoom', 'Raeren / Frechen', 'Spaans',\n",
       "       'Langerwehe/Raeren', 'Delft?', 'Locaal', 'wellicht Pingsdorf',\n",
       "       'Zuid-Limburg, Langerwehe wellicht Coppengrave', 'Rijnalnd',\n",
       "       'Rijnland, Langerwehe?', 'Nordrhein-Westfalen',\n",
       "       'Langerwehe, Raeren', 'Raeren', 'Rijnland, Aken?',\n",
       "       'Rijnland, Siegburg', 'andenne', 'andenne?', 'Frechen',\n",
       "       'Aken, Raeren', 'Baumberg ?', 'Frechen / Raeren', 'Sauerland',\n",
       "       'Keulen', 'Bergen op Zoom?sluitpan/gortpan', 'Westerwald',\n",
       "       'China, Jingdezhen', '?', 'lokaal', 'Delft', 'Maastricht',\n",
       "       'Holland', 'West-Friesland', 'Overijssel', 'Zeeland', 'Friesland',\n",
       "       'Rome', 'Utrecht', 'Vlaanderen', 'Delft ?', 'duitsland',\n",
       "       'Frankrijk', 'Duitsland?', 'China,Jingdezhen?', 'Europa?',\n",
       "       'Europa', 'Japan, Arita', '?? (Azie?)', '-', 'Neurenberg Dld.',\n",
       "       'delft', 'Europa, Duitsland', 'China of Japan?', 'Italië', 'China',\n",
       "       'Duitsland', 'Italiaans', 'Delfts', 'Nederland', 'Renaud AWN',\n",
       "       'Westerwald?', 'B02 (waarschijnlijk)', 'Japan?, Arita', 'Engeland',\n",
       "       'Leiden', 'Rijnland Langewehe', 'Rijnland (Langewehe?)',\n",
       "       'Rijnland (Raeren?)', 'Frechen?', 'Engeland?', 'Vlaams/Brabants?',\n",
       "       'NLD Delft', 'Aken', 'Andenne', 'Sierburg', 'iegburg', 'BOZ',\n",
       "       'BOZ?', 'Gouda', 'Mediterranee', 'dit deel past mogelijk aan 708?',\n",
       "       'dit deel past mogelijk aan 707?', 'Paffrath', 'Pingsdorf',\n",
       "       'Rijnland/Langerwehe?', 'Elmpt', 'Rijnland/Raeren?'], dtype=object)"
      ]
     },
     "execution_count": 9,
     "metadata": {},
     "output_type": "execute_result"
    }
   ],
   "source": [
    "lst_tables = ['Def_Project', 'Def_Put', 'Def_Vondst', 'Def_Spoor', 'Def_Stelling', 'Def_Doos', 'Def_Standplaats', 'Def_Plaatsing', 'Def_Vlak', 'Def_Vindplaats', 'Def_Artefact'] #['Def_Project', 'Def_Vondst', 'Def_Stelling', 'Def_Plaatsing', 'Def_Vindplaats', 'Def_Artefact']\n",
    "regexProject = re.compile(r'\\'project\\': \\'(.*?)\\'') # regex to replace Object\n",
    "\n",
    "\n",
    "engine = create_engine(config.SQLALCHEMY_DATABASE_URI)\n",
    "with engine.connect() as connection:\n",
    "    df = pd.read_sql_query('SELECT origine, artefactsoort from \"Def_Artefact\"', connection)\n",
    "\n",
    "df['origine'].unique()"
   ]
  },
  {
   "cell_type": "code",
   "execution_count": null,
   "metadata": {},
   "outputs": [],
   "source": []
  }
 ],
 "metadata": {
  "kernelspec": {
   "display_name": "Python 3.9 (XPython)",
   "language": "python",
   "name": "xpython"
  },
  "language_info": {
   "file_extension": ".py",
   "mimetype": "text/x-python",
   "name": "python",
   "version": "3.9.12"
  }
 },
 "nbformat": 4,
 "nbformat_minor": 4
}
