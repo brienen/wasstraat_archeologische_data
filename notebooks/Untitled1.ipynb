{
 "cells": [
  {
   "cell_type": "code",
   "execution_count": 8,
   "id": "8586e783-40ff-4eef-9e43-9669486dec5d",
   "metadata": {},
   "outputs": [],
   "source": [
    "import config\n",
    "import pymongo\n",
    "import numpy as np\n",
    "import pandas as pd\n",
    "import json\n",
    "import re\n",
    "import simplejson\n",
    "from math import isnan\n",
    "import ast\n",
    "#import attributes\n",
    "from models import Artefact, Vondst, Spoor\n",
    "\n",
    "import sqlalchemy as db\n",
    "from sqlalchemy.orm import sessionmaker\n",
    "from sqlalchemy import create_engine, inspect\n",
    "from sqlalchemy.engine import reflection\n",
    "from sqlalchemy.types import VARCHAR\n",
    "\n",
    "from pandas_profiling import ProfileReport\n",
    "from ipywidgets import interact, Dropdown\n",
    "\n",
    "from sqlalchemy import and_, or_\n"
   ]
  },
  {
   "cell_type": "code",
   "execution_count": 23,
   "id": "97324b34-22f2-4b0e-bef0-444a28d1c85e",
   "metadata": {},
   "outputs": [],
   "source": [
    "db = create_engine(config.SQLALCHEMY_DATABASE_URI)\n",
    "rs = None\n",
    "\n",
    "Session = sessionmaker(bind=db)\n",
    "session = Session()\n",
    "\n",
    "rs = (session.query(Artefact.primary_key, Spoor.spoordatering_vanaf, Spoor.spoordatering_tot)\n",
    "      .join(Vondst, Vondst.primary_key==Artefact.vondstID)\n",
    "      .join(Spoor, Spoor.primary_key==Vondst.spoorID)\n",
    "      .filter(or_(Spoor.spoordatering_vanaf != None, Spoor.spoordatering_tot != None))\n",
    ")\n",
    "\n",
    "\n",
    "#session.query(Artefact.primary_key, Spoor.spoordatering_vanaf, Spoor.spoordatering_tot).select_from(select_from.(Vondst).join(Spoor)))        \n",
    "for row in rs:\n",
    "    print(row)\n",
    "    "
   ]
  },
  {
   "cell_type": "code",
   "execution_count": 18,
   "id": "6d7caa5e-208a-4a33-bf2f-050369d9e545",
   "metadata": {},
   "outputs": [
    {
     "data": {
      "text/plain": [
       "<sqlalchemy.orm.query.Query at 0x7f2e2bcc5910>"
      ]
     },
     "execution_count": 18,
     "metadata": {},
     "output_type": "execute_result"
    }
   ],
   "source": [
    "rs"
   ]
  },
  {
   "cell_type": "code",
   "execution_count": 22,
   "id": "9eaac994-b62c-459c-bc66-e19ff3f5830e",
   "metadata": {},
   "outputs": [
    {
     "name": "stdout",
     "output_type": "stream",
     "text": [
      "(9081, 1600, 1650)\n",
      "(12092, 1600, 1650)\n",
      "(12397, 1600, 1650)\n",
      "(10610, 1600, 1650)\n",
      "(11719, 1600, 1650)\n"
     ]
    }
   ],
   "source": [
    "rs = (session.query(Artefact.primary_key, Vondst.vondstdatering_vanaf, Vondst.vondstdatering_tot)\n",
    "      .join(Vondst, Vondst.primary_key==Artefact.vondstID)\n",
    "      .filter(or_(Vondst.vondstdatering_vanaf != None, Vondst.vondstdatering_tot != None))\n",
    ")\n",
    "\n",
    "\n",
    "#session.query(Artefact.primary_key, Spoor.spoordatering_vanaf, Spoor.spoordatering_tot).select_from(select_from.(Vondst).join(Spoor)))        \n",
    "for row in rs:\n",
    "    print(row)\n",
    "    "
   ]
  },
  {
   "cell_type": "code",
   "execution_count": 25,
   "id": "6847175f-e235-444b-b1f1-61fce4b5bbc3",
   "metadata": {},
   "outputs": [
    {
     "ename": "AttributeError",
     "evalue": "type object 'Artefact' has no attribute 'query'",
     "output_type": "error",
     "traceback": [
      "\u001b[0;31m---------------------------------------------------------------------------\u001b[0m",
      "\u001b[0;31mAttributeError\u001b[0m                            Traceback (most recent call last)",
      "Input \u001b[0;32mIn [25]\u001b[0m, in \u001b[0;36m<cell line: 1>\u001b[0;34m()\u001b[0m\n\u001b[0;32m----> 1\u001b[0m query \u001b[38;5;241m=\u001b[39m (\u001b[43mArtefact\u001b[49m\u001b[38;5;241;43m.\u001b[39;49m\u001b[43mquery\u001b[49m(Artefact\u001b[38;5;241m.\u001b[39mprimary_key, Vondst\u001b[38;5;241m.\u001b[39mvondstdatering_vanaf, Vondst\u001b[38;5;241m.\u001b[39mvondstdatering_tot)\n\u001b[1;32m      2\u001b[0m       \u001b[38;5;241m.\u001b[39mjoin(Vondst, Vondst\u001b[38;5;241m.\u001b[39mprimary_key\u001b[38;5;241m==\u001b[39mArtefact\u001b[38;5;241m.\u001b[39mvondstID)\n\u001b[1;32m      3\u001b[0m       \u001b[38;5;241m.\u001b[39mfilter(or_(Vondst\u001b[38;5;241m.\u001b[39mvondstdatering_vanaf \u001b[38;5;241m!=\u001b[39m \u001b[38;5;28;01mNone\u001b[39;00m, Vondst\u001b[38;5;241m.\u001b[39mvondstdatering_tot \u001b[38;5;241m!=\u001b[39m \u001b[38;5;28;01mNone\u001b[39;00m))\n\u001b[1;32m      4\u001b[0m )\n\u001b[1;32m      6\u001b[0m query\u001b[38;5;241m.\u001b[39mupdate({\u001b[38;5;124m\"\u001b[39m\u001b[38;5;124macct_active\u001b[39m\u001b[38;5;124m\"\u001b[39m: \u001b[38;5;28;01mTrue\u001b[39;00m}, synchronize_session\u001b[38;5;241m=\u001b[39m\u001b[38;5;28;01mFalse\u001b[39;00m)\n",
      "\u001b[0;31mAttributeError\u001b[0m: type object 'Artefact' has no attribute 'query'"
     ]
    }
   ],
   "source": [
    "query = (Artefact.query(Artefact.primary_key, Vondst.vondstdatering_vanaf, Vondst.vondstdatering_tot)\n",
    "      .join(Vondst, Vondst.primary_key==Artefact.vondstID)\n",
    "      .filter(or_(Vondst.vondstdatering_vanaf != None, Vondst.vondstdatering_tot != None))\n",
    ")\n",
    "        \n",
    "query.update({\"acct_active\": True}, synchronize_session=False)"
   ]
  },
  {
   "cell_type": "code",
   "execution_count": null,
   "id": "6b67989c-aecc-4684-ae4a-9710f7679e2d",
   "metadata": {},
   "outputs": [],
   "source": []
  }
 ],
 "metadata": {
  "kernelspec": {
   "display_name": "Python 3 (ipykernel)",
   "language": "python",
   "name": "python3"
  },
  "language_info": {
   "codemirror_mode": {
    "name": "ipython",
    "version": 3
   },
   "file_extension": ".py",
   "mimetype": "text/x-python",
   "name": "python",
   "nbconvert_exporter": "python",
   "pygments_lexer": "ipython3",
   "version": "3.9.12"
  }
 },
 "nbformat": 4,
 "nbformat_minor": 5
}
