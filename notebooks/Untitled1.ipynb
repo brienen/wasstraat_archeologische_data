{
 "cells": [
  {
   "cell_type": "code",
   "execution_count": 2,
   "id": "fa6548df-cbba-47e0-95b2-b8bf664f4c5b",
   "metadata": {},
   "outputs": [],
   "source": [
    "from elasticsearch import Elasticsearch\n",
    "\n",
    "import shared.config as config\n",
    "import shared.const as const\n",
    "import pymongo\n",
    "import numpy as np\n",
    "import pandas as pd\n",
    "import json\n",
    "import re\n",
    "import ast\n",
    "import logging\n",
    "\n",
    "from pymongo import ReplaceOne\n",
    "import sqlalchemy as db\n",
    "from sqlalchemy.orm import sessionmaker\n",
    "from sqlalchemy import create_engine, inspect\n",
    "from sqlalchemy.engine import reflection\n",
    "#from sqlalchemy.ext.declarative import declarative_base\n",
    "from sqlalchemy import Column, Integer, String, Text, ForeignKey, Float\n",
    "from sqlalchemy.orm import relationship, Session, declarative_base\n",
    "from sqlalchemy.sql import column, text\n",
    "from sqlalchemy import select, func\n",
    "from sqlalchemy.sql.expression import literal\n",
    "\n",
    "logger = logging.getLogger()"
   ]
  },
  {
   "cell_type": "code",
   "execution_count": 19,
   "id": "cba32372-c9a5-4aa2-a241-66c6e9d6a625",
   "metadata": {},
   "outputs": [
    {
     "data": {
      "text/html": [
       "<div>\n",
       "<style scoped>\n",
       "    .dataframe tbody tr th:only-of-type {\n",
       "        vertical-align: middle;\n",
       "    }\n",
       "\n",
       "    .dataframe tbody tr th {\n",
       "        vertical-align: top;\n",
       "    }\n",
       "\n",
       "    .dataframe thead th {\n",
       "        text-align: right;\n",
       "    }\n",
       "</style>\n",
       "<table border=\"1\" class=\"dataframe\">\n",
       "  <thead>\n",
       "    <tr style=\"text-align: right;\">\n",
       "      <th></th>\n",
       "      <th>0</th>\n",
       "    </tr>\n",
       "  </thead>\n",
       "  <tbody>\n",
       "    <tr>\n",
       "      <th>0</th>\n",
       "      <td>DC001 (Oude Delft 96)</td>\n",
       "    </tr>\n",
       "    <tr>\n",
       "      <th>1</th>\n",
       "      <td>DC002 (Oude Delft 188)</td>\n",
       "    </tr>\n",
       "    <tr>\n",
       "      <th>2</th>\n",
       "      <td>DC003 (Markt 1-3)</td>\n",
       "    </tr>\n",
       "    <tr>\n",
       "      <th>3</th>\n",
       "      <td>DC004 (Waag)</td>\n",
       "    </tr>\n",
       "    <tr>\n",
       "      <th>4</th>\n",
       "      <td>DC005 (Anna Convent OLD74)</td>\n",
       "    </tr>\n",
       "    <tr>\n",
       "      <th>...</th>\n",
       "      <td>...</td>\n",
       "    </tr>\n",
       "    <tr>\n",
       "      <th>251</th>\n",
       "      <td>DC254 (IVO-P Bastiaanpoort)</td>\n",
       "    </tr>\n",
       "    <tr>\n",
       "      <th>252</th>\n",
       "      <td>DC255 (DO Bastiaanpoort)</td>\n",
       "    </tr>\n",
       "    <tr>\n",
       "      <th>253</th>\n",
       "      <td>DC256 (Waarneming Van der Mastenstraat)</td>\n",
       "    </tr>\n",
       "    <tr>\n",
       "      <th>254</th>\n",
       "      <td>DC257 (Barbaraklooster 1960)</td>\n",
       "    </tr>\n",
       "    <tr>\n",
       "      <th>255</th>\n",
       "      <td>DC258 (BO Schreibrug)</td>\n",
       "    </tr>\n",
       "  </tbody>\n",
       "</table>\n",
       "<p>256 rows × 1 columns</p>\n",
       "</div>"
      ],
      "text/plain": [
       "                                           0\n",
       "0                      DC001 (Oude Delft 96)\n",
       "1                     DC002 (Oude Delft 188)\n",
       "2                          DC003 (Markt 1-3)\n",
       "3                               DC004 (Waag)\n",
       "4                 DC005 (Anna Convent OLD74)\n",
       "..                                       ...\n",
       "251              DC254 (IVO-P Bastiaanpoort)\n",
       "252                 DC255 (DO Bastiaanpoort)\n",
       "253  DC256 (Waarneming Van der Mastenstraat)\n",
       "254             DC257 (Barbaraklooster 1960)\n",
       "255                    DC258 (BO Schreibrug)\n",
       "\n",
       "[256 rows x 1 columns]"
      ]
     },
     "execution_count": 19,
     "metadata": {},
     "output_type": "execute_result"
    }
   ],
   "source": [
    "\n",
    "Base = declarative_base()\n",
    "index_name = \"abr_test2\"\n",
    "\n",
    "class WasstraatModel(Base):\n",
    "    __abstract__ = True\n",
    "\n",
    "    herkomst = Column(Text)\n",
    "    key = Column(Text)\n",
    "    soort = Column(String(80))\n",
    "    brondata = Column(Text)\n",
    "    uuid = Column('_id', String)\n",
    "\n",
    "class Project(WasstraatModel): # Inherit from Model for cannot use Abstract class Wasstraatmodel, for geo-package gives errors\n",
    "    __tablename__ = 'Def_Project'\n",
    "\n",
    "    primary_key = Column(Integer, primary_key=True, autoincrement=True)\n",
    "    projectcd = Column(String(12), nullable=False, index=True)\n",
    "    projectnaam = Column(String(1024), index=True)\n",
    "    jaar = Column(Integer)\n",
    "    toponiem = Column(String(1024))\n",
    "    trefwoorden = Column(String(1024))\n",
    "    #location = Column(Geometry('POINT', srid=4326), default=(52.00667, 4.35556)) # 52.00667, 4.35556.\n",
    "    xcoor_rd = Column(Float)\n",
    "    ycoor_rd = Column(Float)\n",
    "    longitude = Column(Float)\n",
    "    latitude = Column(Float)\n",
    "    #artefacten = relationship(\"Artefact\", back_populates=\"project\")\n",
    "\n",
    "    # Explicit defined for cannot use Abstract class Wasstraatmodel, for geo-package gives errors\n",
    "    herkomst = Column(Text)\n",
    "    soort = Column(String(80))\n",
    "    brondata = Column(Text)\n",
    "    uuid = Column('_id', String)\n",
    "    key = Column(Text)\n",
    "\n",
    "    @staticmethod\n",
    "    def getDescription(p):\n",
    "        return str(p.projectcd) + f' ({p.projectnaam if p.projectnaam and p.projectnaam != \"\" else \"Zonder naam\"})'\n",
    "\n",
    "    def __repr__(self):\n",
    "        return Project.getDescription(self)\n",
    "\n",
    "\n",
    "engine = create_engine(config.SQLALCHEMY_DATABASE_URI)    \n",
    "session = Session(engine)\n",
    "\n",
    "#query = session.query(User).filter(User.name.like(\"%ed\")).order_by(User.id)\n",
    "\n",
    "q = session.query(Project).filter(Project.projectcd.like('DC%'))\n",
    "result = q.all()\n",
    "\n",
    "df = pd.DataFrame(result)\n",
    "df"
   ]
  },
  {
   "cell_type": "code",
   "execution_count": 5,
   "id": "70babc83-39fb-449d-a0c8-bee460ea5c70",
   "metadata": {},
   "outputs": [
    {
     "name": "stdout",
     "output_type": "stream",
     "text": [
      "[]\n"
     ]
    },
    {
     "ename": "NameError",
     "evalue": "name 'sql' is not defined",
     "output_type": "error",
     "traceback": [
      "\u001b[0;31m---------------------------------------------------------------------------\u001b[0m",
      "\u001b[0;31mNameError\u001b[0m                                 Traceback (most recent call last)",
      "Cell \u001b[0;32mIn[5], line 9\u001b[0m\n\u001b[1;32m      7\u001b[0m engine \u001b[38;5;241m=\u001b[39m create_engine(config\u001b[38;5;241m.\u001b[39mSQLALCHEMY_DATABASE_URI)    \n\u001b[1;32m      8\u001b[0m session \u001b[38;5;241m=\u001b[39m Session(engine)\n\u001b[0;32m----> 9\u001b[0m result \u001b[38;5;241m=\u001b[39m session\u001b[38;5;241m.\u001b[39mexecute(\u001b[43msql\u001b[49m)\n\u001b[1;32m     11\u001b[0m q \u001b[38;5;241m=\u001b[39m session\u001b[38;5;241m.\u001b[39mquery(Project)\u001b[38;5;241m.\u001b[39mfilter(Project\u001b[38;5;241m.\u001b[39mprojectcd\u001b[38;5;241m.\u001b[39mlike(\u001b[38;5;124m'\u001b[39m\u001b[38;5;124mDC\u001b[39m\u001b[38;5;124m%\u001b[39m\u001b[38;5;124m'\u001b[39m))\n\u001b[1;32m     12\u001b[0m subquery \u001b[38;5;241m=\u001b[39m text(\u001b[38;5;124mf\u001b[39m\u001b[38;5;124m\"\u001b[39m\u001b[38;5;124mSELECT * FROM json_to_recordset(\u001b[39m\u001b[38;5;124m'\u001b[39m\u001b[38;5;132;01m{\u001b[39;00mpkey_json\u001b[38;5;132;01m}\u001b[39;00m\u001b[38;5;124m'\u001b[39m\u001b[38;5;124m)\u001b[39m\u001b[38;5;124m\"\u001b[39m \u001b[38;5;241m+\u001b[39m \u001b[38;5;124m'\u001b[39m\u001b[38;5;124m as x(\u001b[39m\u001b[38;5;124m\"\u001b[39m\u001b[38;5;124mprimary_key\u001b[39m\u001b[38;5;124m\"\u001b[39m\u001b[38;5;124m int, \u001b[39m\u001b[38;5;124m\"\u001b[39m\u001b[38;5;124mscore\u001b[39m\u001b[38;5;124m\"\u001b[39m\u001b[38;5;124m float)\u001b[39m\u001b[38;5;124m'\u001b[39m)\n",
      "\u001b[0;31mNameError\u001b[0m: name 'sql' is not defined"
     ]
    }
   ],
   "source": [
    "from sqlalchemy.dialects import postgresql\n",
    "\n",
    "pkey_json = [{'primary_key': hit['_id'], 'score': hit['_score']} for hit in resp['hits']['hits']]\n",
    "pkey_json = json.dumps(pkey_json) \n",
    "print(pkey_json)\n",
    "\n",
    "engine = create_engine(config.SQLALCHEMY_DATABASE_URI)    \n",
    "session = Session(engine)\n",
    "result = session.execute(sql)\n",
    "\n",
    "q = session.query(Project).filter(Project.projectcd.like('DC%'))\n",
    "subquery = text(f\"SELECT * FROM json_to_recordset('{pkey_json}')\" + ' as x(\"primary_key\" int, \"score\" float)')\n",
    "subquery= subquery.columns(column('primary_key'), column('score'))\n",
    "subquery = subquery.subquery()\n",
    "q = q.join(subquery, Project.primary_key == subquery.c.primary_key).add_columns(subquery.c.score.label(\"fulltext_score\")).order_by(subquery.c.score.desc())\n",
    "print(str(q.statement.compile(dialect=postgresql.dialect())))\n",
    "\n",
    "df = pd.DataFrame(q.all())\n",
    "df"
   ]
  },
  {
   "cell_type": "code",
   "execution_count": 50,
   "id": "37bc1a86-65f6-4737-933b-4296c7fb38bf",
   "metadata": {},
   "outputs": [
    {
     "name": "stdout",
     "output_type": "stream",
     "text": [
      "Got 10 Hits:\n",
      "{'_index': 'def_project', '_id': '431', '_score': 1.0, '_source': {'doc': {'primary_key': '431', 'projectcd': 'DC220', 'projectnaam': 'Muziekschool', 'toponiem': 'Muziekschool Gasthuislaan', 'trefwoorden': '', 'soort': 'Project', 'id': 431}}}\n",
      "{'_index': 'def_project', '_id': '432', '_score': 1.0, '_source': {'doc': {'primary_key': '432', 'projectcd': 'DC221', 'projectnaam': 'Opgraving Oude Delft 54', 'toponiem': 'Oude Delft 54', 'trefwoorden': '', 'soort': 'Project', 'id': 432}}}\n",
      "{'_index': 'def_project', '_id': '433', '_score': 1.0, '_source': {'doc': {'primary_key': '433', 'projectcd': 'DC222', 'projectnaam': 'Oude kerk en prinsenhof', 'toponiem': 'Profiel Oude Delft thv Prinsenhof', 'trefwoorden': '', 'soort': 'Project', 'id': 433}}}\n",
      "{'_index': 'def_project', '_id': '434', '_score': 1.0, '_source': {'doc': {'primary_key': '434', 'projectcd': 'DC223', 'projectnaam': 'BO Nieuw Delft veld 5', 'toponiem': 'Nieuw Delft veld 5', 'trefwoorden': '', 'soort': 'Project', 'id': 434}}}\n",
      "{'_index': 'def_project', '_id': '435', '_score': 1.0, '_source': {'doc': {'primary_key': '435', 'projectcd': 'DC224', 'projectnaam': 'BO Nieuw Delft veld 1', 'toponiem': 'Nieuw Delft veld 1', 'trefwoorden': '', 'soort': 'Project', 'id': 435}}}\n",
      "{'_index': 'def_project', '_id': '436', '_score': 1.0, '_source': {'doc': {'primary_key': '436', 'projectcd': 'DC225', 'projectnaam': 'BO Vrouwenrecht-Trompetstraat', 'toponiem': 'Vrouwenrecht-Trompetstraat', 'trefwoorden': '', 'soort': 'Project', 'id': 436}}}\n",
      "{'_index': 'def_project', '_id': '437', '_score': 1.0, '_source': {'doc': {'primary_key': '437', 'projectcd': 'DC226', 'projectnaam': 'Bureauonderzoek Spoorzone 2005', 'toponiem': 'Spoorzone (BO)', 'trefwoorden': '', 'soort': 'Project', 'id': 437}}}\n",
      "{'_index': 'def_project', '_id': '438', '_score': 1.0, '_source': {'doc': {'primary_key': '438', 'projectcd': 'DC227', 'projectnaam': 'BO Nieuw Delft', 'toponiem': 'Nieuw Delft Veld 2, 3, 6, 7, 8, 9, 10b, 11', 'trefwoorden': '', 'soort': 'Project', 'id': 438}}}\n",
      "{'_index': 'def_project', '_id': '439', '_score': 1.0, '_source': {'doc': {'primary_key': '439', 'projectcd': 'DC228', 'projectnaam': 'IVO-P Phoenixstraat 32 HHD', 'toponiem': 'Phoenixstraat 32 HHD', 'trefwoorden': '', 'soort': 'Project', 'id': 439}}}\n",
      "{'_index': 'def_project', '_id': '440', '_score': 1.0, '_source': {'doc': {'primary_key': '440', 'projectcd': 'DC229', 'projectnaam': 'AB Vrouwenregt-Trompetstraat', 'toponiem': 'Vrouwenregt-Trompetstraat', 'trefwoorden': '', 'soort': 'Project', 'id': 440}}}\n"
     ]
    }
   ],
   "source": [
    "es = Elasticsearch('http://elasticsearch:9200')\n",
    "resp = es.search(index='def_project', size=500, query={'simple_query_string': {'query': '*dc22*', 'fields': ['*projectcd'], 'analyze_wildcard':True}})\n",
    "print(\"Got %d Hits:\" % resp['hits']['total']['value'])\n",
    "for hit in resp['hits']['hits']:\n",
    "    print(hit)\n"
   ]
  },
  {
   "cell_type": "code",
   "execution_count": 6,
   "id": "03e28a75-1729-40df-9ef7-a6da5b136c7c",
   "metadata": {},
   "outputs": [
    {
     "name": "stdout",
     "output_type": "stream",
     "text": [
      "Got 1 Hits:\n",
      "{'_index': 'my_index', '_id': '2', '_score': 0.5304083, '_source': {'text': 'this is a second test', 'test2': 'nog iets anders'}}\n"
     ]
    }
   ],
   "source": [
    "resp = es.search(index='my_index', query={'simple_query_string': {'query': 'scond~'}})\n",
    "print(\"Got %d Hits:\" % resp['hits']['total']['value'])\n",
    "for hit in resp['hits']['hits']:\n",
    "    print(hit)"
   ]
  },
  {
   "cell_type": "code",
   "execution_count": 7,
   "id": "37176562-c439-4928-b708-34b1922a4629",
   "metadata": {},
   "outputs": [
    {
     "ename": "TypeError",
     "evalue": "MetaData.__init__() got an unexpected keyword argument 'bind'",
     "output_type": "error",
     "traceback": [
      "\u001b[0;31m---------------------------------------------------------------------------\u001b[0m",
      "\u001b[0;31mTypeError\u001b[0m                                 Traceback (most recent call last)",
      "Cell \u001b[0;32mIn[7], line 56\u001b[0m\n\u001b[1;32m     53\u001b[0m                 logger\u001b[38;5;241m.\u001b[39merror(\u001b[38;5;124mf\u001b[39m\u001b[38;5;124m\"\u001b[39m\u001b[38;5;124mTrying to index table \u001b[39m\u001b[38;5;132;01m{\u001b[39;00mtable\u001b[38;5;132;01m}\u001b[39;00m\u001b[38;5;124m, but table not available in \u001b[39m\u001b[38;5;132;01m{\u001b[39;00mlst_tables\u001b[38;5;132;01m}\u001b[39;00m\u001b[38;5;124m\"\u001b[39m)\n\u001b[1;32m     55\u001b[0m es \u001b[38;5;241m=\u001b[39m Elasticsearch(\u001b[38;5;124m'\u001b[39m\u001b[38;5;124mhttp://elasticsearch:9200\u001b[39m\u001b[38;5;124m'\u001b[39m)\n\u001b[0;32m---> 56\u001b[0m \u001b[43mindexTable\u001b[49m\u001b[43m(\u001b[49m\u001b[38;5;124;43m'\u001b[39;49m\u001b[38;5;124;43mDef_Artefact\u001b[39;49m\u001b[38;5;124;43m'\u001b[39;49m\u001b[43m)\u001b[49m\n",
      "Cell \u001b[0;32mIn[7], line 30\u001b[0m, in \u001b[0;36mindexTable\u001b[0;34m(table)\u001b[0m\n\u001b[1;32m     25\u001b[0m connection \u001b[38;5;241m=\u001b[39m connection\u001b[38;5;241m.\u001b[39mexecution_options( \n\u001b[1;32m     26\u001b[0m     isolation_level\u001b[38;5;241m=\u001b[39m\u001b[38;5;124m\"\u001b[39m\u001b[38;5;124mSERIALIZABLE\u001b[39m\u001b[38;5;124m\"\u001b[39m,\n\u001b[1;32m     27\u001b[0m     postgresql_deferrable\u001b[38;5;241m=\u001b[39m\u001b[38;5;28;01mTrue\u001b[39;00m \u001b[38;5;66;03m# Does not seem to work. Work imn progress \u001b[39;00m\n\u001b[1;32m     28\u001b[0m )\n\u001b[1;32m     29\u001b[0m \u001b[38;5;28;01mwith\u001b[39;00m connection\u001b[38;5;241m.\u001b[39mbegin():\n\u001b[0;32m---> 30\u001b[0m     metadata \u001b[38;5;241m=\u001b[39m \u001b[43mdb\u001b[49m\u001b[38;5;241;43m.\u001b[39;49m\u001b[43mMetaData\u001b[49m\u001b[43m(\u001b[49m\u001b[43mbind\u001b[49m\u001b[38;5;241;43m=\u001b[39;49m\u001b[43mengine\u001b[49m\u001b[43m)\u001b[49m\n\u001b[1;32m     31\u001b[0m     db\u001b[38;5;241m.\u001b[39mMetaData\u001b[38;5;241m.\u001b[39mreflect(metadata)\n\u001b[1;32m     33\u001b[0m     \u001b[38;5;66;03m#get the table list\u001b[39;00m\n",
      "\u001b[0;31mTypeError\u001b[0m: MetaData.__init__() got an unexpected keyword argument 'bind'"
     ]
    }
   ],
   "source": [
    "lst_skipindex = ['_id', 'herkomst', 'key', 'brondata']\n",
    "\n",
    "\n",
    "def generate_docs(resultset, db_col_names, index_name):\n",
    "    for row in resultset:\n",
    "        doc = {\n",
    "            \"_index\": index_name,\n",
    "            \"_id\": int(row[\"primary_key\"]),\n",
    "            \"doc\": {col.lower(): str(row[col] if str(row[col]) != 'None' else '') for col in db_col_names}\n",
    "        }\n",
    "        doc['doc']['id'] = int(row[\"primary_key\"])\n",
    "        yield doc\n",
    "\n",
    "\n",
    "def indexTable(table):\n",
    "    logger.info(f\"Starting indexing table {table} for fulltext indexing...\")\n",
    "\n",
    "    engine = create_engine(config.SQLALCHEMY_DATABASE_URI)\n",
    "    logger.info(\"Connecting to \" + config.SQLALCHEMY_DATABASE_URI)\n",
    "    es = Elasticsearch('http://elasticsearch:9200')\n",
    "    \n",
    "    index_name = table.lower()\n",
    "\n",
    "    with engine.connect() as connection:\n",
    "        connection = connection.execution_options( \n",
    "            isolation_level=\"SERIALIZABLE\",\n",
    "            postgresql_deferrable=True # Does not seem to work. Work imn progress \n",
    "        )\n",
    "        with connection.begin():\n",
    "            metadata = db.MetaData(bind=engine)\n",
    "            db.MetaData.reflect(metadata)\n",
    "\n",
    "            #get the table list\n",
    "            dict_tables = metadata.tables.keys()\n",
    "            lst_tables = [x for x in list(dict_tables) if x.startswith('Def_')]\n",
    "            logger.info(\"Indexing all string fields for \" + str(lst_tables))\n",
    "\n",
    "            if table in lst_tables:\n",
    "                insp = inspect(connection)\n",
    "                db_cols = insp.get_columns(table)\n",
    "                db_cols = [col for col in db_cols if (col['name'] == 'primary_key' or 'text' in str(col['type']).lower() or 'varchar' in str(col['type']).lower()) and col['name'] not in lst_skipindex]\n",
    "                sql_col_names = ['\"'+col['name']+ '\"' for col in db_cols]\n",
    "                db_col_names = [col['name'] for col in db_cols]\n",
    "                \n",
    "                sql = f'SELECT {\", \".join(sql_col_names)} FROM public.\"{table}\"'\n",
    "                logger.info(f\"Indexing index {index_name} with columns {db_col_names} \")\n",
    "                rs = connection.execute(sql)\n",
    "                \n",
    "                logger.info(f\"Indexing index {index_name} with columns {db_col_names} \")\n",
    "                helpers.bulk(es, generate_docs(rs, db_col_names, index_name))\n",
    "                logger.info(f\"Indexed {es.count(index=index_name)} records\")                \n",
    "            else:\n",
    "                logger.error(f\"Trying to index table {table}, but table not available in {lst_tables}\")\n",
    "\n",
    "es = Elasticsearch('http://elasticsearch:9200')\n",
    "indexTable('Def_Artefact')"
   ]
  },
  {
   "cell_type": "code",
   "execution_count": 8,
   "id": "fd984c12-f30e-4e9b-8dba-42fc810a7678",
   "metadata": {},
   "outputs": [
    {
     "data": {
      "text/plain": [
       "ObjectApiResponse({'error': {'root_cause': [{'type': 'illegal_argument_exception', 'reason': 'Wildcard expressions or all indices are not allowed'}], 'type': 'illegal_argument_exception', 'reason': 'Wildcard expressions or all indices are not allowed'}, 'status': 400})"
      ]
     },
     "execution_count": 8,
     "metadata": {},
     "output_type": "execute_result"
    }
   ],
   "source": [
    "es.options(ignore_status=[400,404]).indices.delete(index='_all')"
   ]
  },
  {
   "cell_type": "code",
   "execution_count": 9,
   "id": "ccfcf46b-16db-421e-8149-65ad77e40275",
   "metadata": {},
   "outputs": [
    {
     "name": "stdout",
     "output_type": "stream",
     "text": [
      "SELECT anon_1.key, anon_1.value \n",
      "FROM json_each(:json_each_1) AS anon_1\n"
     ]
    },
    {
     "data": {
      "text/html": [
       "<div>\n",
       "<style scoped>\n",
       "    .dataframe tbody tr th:only-of-type {\n",
       "        vertical-align: middle;\n",
       "    }\n",
       "\n",
       "    .dataframe tbody tr th {\n",
       "        vertical-align: top;\n",
       "    }\n",
       "\n",
       "    .dataframe thead th {\n",
       "        text-align: right;\n",
       "    }\n",
       "</style>\n",
       "<table border=\"1\" class=\"dataframe\">\n",
       "  <thead>\n",
       "    <tr style=\"text-align: right;\">\n",
       "      <th></th>\n",
       "      <th>key</th>\n",
       "      <th>value</th>\n",
       "    </tr>\n",
       "  </thead>\n",
       "  <tbody>\n",
       "    <tr>\n",
       "      <th>0</th>\n",
       "      <td>a</td>\n",
       "      <td>foo</td>\n",
       "    </tr>\n",
       "    <tr>\n",
       "      <th>1</th>\n",
       "      <td>b</td>\n",
       "      <td>bar</td>\n",
       "    </tr>\n",
       "  </tbody>\n",
       "</table>\n",
       "</div>"
      ],
      "text/plain": [
       "  key value\n",
       "0   a   foo\n",
       "1   b   bar"
      ]
     },
     "execution_count": 9,
     "metadata": {},
     "output_type": "execute_result"
    }
   ],
   "source": [
    "from sqlalchemy import select, func\n",
    "stmt = select(func.json_each('{\"a\":\"foo\", \"b\":\"bar\"}').table_valued(\"key\", \"value\"))\n",
    "print(stmt)\n",
    "\n",
    "session.rollback()\n",
    "result = session.execute(stmt)\n",
    "df = pd.DataFrame(result)\n",
    "df\n"
   ]
  },
  {
   "cell_type": "code",
   "execution_count": 10,
   "id": "84a99356-395d-4f86-9886-6598dd722617",
   "metadata": {},
   "outputs": [
    {
     "name": "stdout",
     "output_type": "stream",
     "text": [
      "SELECT t.primary_key, t.score \n",
      "FROM json_to_recordset(:json_to_recordset_1) AS t(primary_key INTEGER, score FLOAT)\n",
      "SELECT \"Def_Project\".primary_key, \"Def_Project\".projectcd, \"Def_Project\".projectnaam, \"Def_Project\".jaar, \"Def_Project\".toponiem, \"Def_Project\".trefwoorden, \"Def_Project\".xcoor_rd, \"Def_Project\".ycoor_rd, \"Def_Project\".longitude, \"Def_Project\".latitude, \"Def_Project\".herkomst, \"Def_Project\".soort, \"Def_Project\".brondata, \"Def_Project\"._id, \"Def_Project\".key, anon_1.score AS fulltext_score \n",
      "FROM \"Def_Project\" JOIN (SELECT t.primary_key AS primary_key, t.score AS score \n",
      "FROM json_to_recordset(%(json_to_recordset_1)s) AS t(primary_key INTEGER, score FLOAT)) AS anon_1 ON \"Def_Project\".primary_key = anon_1.primary_key \n",
      "WHERE \"Def_Project\".projectcd LIKE %(projectcd_1)s ORDER BY anon_1.score DESC\n"
     ]
    },
    {
     "data": {
      "text/html": [
       "<div>\n",
       "<style scoped>\n",
       "    .dataframe tbody tr th:only-of-type {\n",
       "        vertical-align: middle;\n",
       "    }\n",
       "\n",
       "    .dataframe tbody tr th {\n",
       "        vertical-align: top;\n",
       "    }\n",
       "\n",
       "    .dataframe thead th {\n",
       "        text-align: right;\n",
       "    }\n",
       "</style>\n",
       "<table border=\"1\" class=\"dataframe\">\n",
       "  <thead>\n",
       "    <tr style=\"text-align: right;\">\n",
       "      <th></th>\n",
       "    </tr>\n",
       "  </thead>\n",
       "  <tbody>\n",
       "  </tbody>\n",
       "</table>\n",
       "</div>"
      ],
      "text/plain": [
       "Empty DataFrame\n",
       "Columns: []\n",
       "Index: []"
      ]
     },
     "execution_count": 10,
     "metadata": {},
     "output_type": "execute_result"
    }
   ],
   "source": [
    "from sqlalchemy import select, func, column, Integer, Text\n",
    "stmt = select(\n",
    "    func.json_to_recordset(str(pkey_json)).table_valued(\n",
    "        column(\"primary_key\", Integer), column(\"score\", Float),\n",
    "    ).render_derived(name=\"t\", with_types=True)\n",
    ")\n",
    "print(stmt)\n",
    "\n",
    "#session.rollback()\n",
    "#result = session.execute(stmt)\n",
    "#df = pd.DataFrame(result)\n",
    "#df\n",
    "subquery = session.query(func.json_to_recordset(str(pkey_json)).\\\n",
    "                             table_valued(column(\"primary_key\", Integer), column(\"score\", Float)).\\\n",
    "                             render_derived(name=\"t\", with_types=True)).\\\n",
    "                             subquery()\n",
    "\n",
    "'''\n",
    "sub_query = session.query(\n",
    "    0.9 * func.sum(Revenue.total_revenue)\n",
    ").select_from(\n",
    "    Revenue\n",
    ").filter(\n",
    "    func.datediff(func.now(), Revenue.date) <= 7\n",
    ").subquery()\n",
    "'''\n",
    "\n",
    "q = session.query(Project).filter(Project.projectcd.like('DC%'))\n",
    "#subquery = text(f\"SELECT * FROM json_to_recordset('{pkey_json}')\" + ' as x(\"primary_key\" int, \"score\" float)')\n",
    "#subquery= subquery.columns(column('primary_key'), column('score'))\n",
    "#subquery = subquery.subquery()\n",
    "q = q.join(subquery, Project.primary_key == subquery.c.primary_key).add_columns(subquery.c.score.label(\"fulltext_score\")).order_by(subquery.c.score.desc())\n",
    "print(str(q.statement.compile(dialect=postgresql.dialect())))\n",
    "\n",
    "df = pd.DataFrame(q.all())\n",
    "df"
   ]
  },
  {
   "cell_type": "code",
   "execution_count": 52,
   "id": "23d44d09-532d-43a2-84be-344cbfbeb7cf",
   "metadata": {},
   "outputs": [
    {
     "data": {
      "text/plain": [
       "{'is_relation_many_to_one': ['FilterRelationOneToManyEqual',\n",
       "  'FilterRelationOneToManyNotEqual'],\n",
       " 'is_relation_one_to_one': ['FilterRelationOneToManyEqual',\n",
       "  'FilterRelationOneToManyNotEqual'],\n",
       " 'is_text': ['FilterStartsWith', 'FilterEndsWith']}"
      ]
     },
     "execution_count": 52,
     "metadata": {},
     "output_type": "execute_result"
    }
   ],
   "source": [
    "conversion_table = (\n",
    "    (\n",
    "        \"is_relation_many_to_one\",\n",
    "        ['FilterRelationOneToManyEqual', 'FilterRelationOneToManyNotEqual'],\n",
    "    ),\n",
    "    (\n",
    "        \"is_relation_one_to_one\",\n",
    "        ['FilterRelationOneToManyEqual', 'FilterRelationOneToManyNotEqual'],\n",
    "    ),\n",
    "    (\n",
    "        \"is_text\",\n",
    "        [\n",
    "            'FilterStartsWith',\n",
    "            'FilterEndsWith',\n",
    "        ],\n",
    "    )\n",
    ")\n",
    "conversion_table = dict(conversion_table)\n",
    "#conversion_table['is_text'] = conversion_table['is_text'] + ['Test']\n",
    "\n",
    "\n",
    "#conversion_table = tuple([(k, v) for k, v in conversion_table.items()])\n",
    "conversion_table"
   ]
  },
  {
   "cell_type": "code",
   "execution_count": 54,
   "id": "04b2da8a-ce9b-409c-8fed-11c13404658a",
   "metadata": {},
   "outputs": [
    {
     "data": {
      "text/plain": [
       "True"
      ]
     },
     "execution_count": 54,
     "metadata": {},
     "output_type": "execute_result"
    }
   ],
   "source": [
    "'is_relation_many_to_one' in conversion_table.keys()"
   ]
  },
  {
   "cell_type": "code",
   "execution_count": 1,
   "id": "c24e7cbb-32e4-4600-a505-5012e1dda5aa",
   "metadata": {},
   "outputs": [
    {
     "data": {
      "text/plain": [
       "'appel'"
      ]
     },
     "execution_count": 1,
     "metadata": {},
     "output_type": "execute_result"
    }
   ],
   "source": [
    "None or 'appel'"
   ]
  },
  {
   "cell_type": "code",
   "execution_count": null,
   "id": "e993b3bf-f485-4512-a7e6-e871583c759c",
   "metadata": {},
   "outputs": [],
   "source": []
  }
 ],
 "metadata": {
  "kernelspec": {
   "display_name": "Python 3 (ipykernel)",
   "language": "python",
   "name": "python3"
  },
  "language_info": {
   "codemirror_mode": {
    "name": "ipython",
    "version": 3
   },
   "file_extension": ".py",
   "mimetype": "text/x-python",
   "name": "python",
   "nbconvert_exporter": "python",
   "pygments_lexer": "ipython3",
   "version": "3.10.8"
  }
 },
 "nbformat": 4,
 "nbformat_minor": 5
}
