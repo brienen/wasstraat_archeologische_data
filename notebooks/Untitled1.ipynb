{
 "cells": [
  {
   "cell_type": "code",
   "execution_count": 3,
   "id": "fa6548df-cbba-47e0-95b2-b8bf664f4c5b",
   "metadata": {},
   "outputs": [],
   "source": [
    "from elasticsearch import Elasticsearch\n",
    "\n",
    "import shared.config as config\n",
    "import shared.const as const\n",
    "import pymongo\n",
    "import numpy as np\n",
    "import pandas as pd\n",
    "import json\n",
    "import re\n",
    "import ast\n",
    "import logging\n",
    "\n",
    "from pymongo import ReplaceOne\n",
    "import sqlalchemy as db\n",
    "from sqlalchemy.orm import sessionmaker\n",
    "from sqlalchemy import create_engine, inspect\n",
    "from sqlalchemy.engine import reflection\n",
    "#from sqlalchemy.ext.declarative import declarative_base\n",
    "from sqlalchemy import Column, Integer, String, Text, ForeignKey, Float\n",
    "from sqlalchemy.orm import relationship, Session, declarative_base\n",
    "from sqlalchemy.sql import column, text\n",
    "from sqlalchemy import select, func\n",
    "from sqlalchemy.sql.expression import literal\n",
    "\n",
    "logger = logging.getLogger()"
   ]
  },
  {
   "cell_type": "code",
   "execution_count": 12,
   "id": "cba32372-c9a5-4aa2-a241-66c6e9d6a625",
   "metadata": {},
   "outputs": [
    {
     "name": "stdout",
     "output_type": "stream",
     "text": [
      "{'name': 'artefactsoort', 'type': ENUM('Aardewerk', 'Dierlijk_Bot', 'Glas', 'Hout', 'Bouwaardewerk', 'Kleipijp', 'Leer', 'Menselijk_Bot', 'Metaal', 'Munt', 'Onbekend', 'Schelp', 'Steen', 'Textiel', name='discrartefactsoortenum'), 'nullable': True, 'default': None, 'autoincrement': False, 'comment': None}\n"
     ]
    },
    {
     "data": {
      "text/plain": [
       "199"
      ]
     },
     "execution_count": 12,
     "metadata": {},
     "output_type": "execute_result"
    }
   ],
   "source": [
    "\n",
    "Base = declarative_base()\n",
    "index_name = \"abr_test2\"\n",
    "\n",
    "class WasstraatModel(Base):\n",
    "    __abstract__ = True\n",
    "\n",
    "    herkomst = Column(Text)\n",
    "    key = Column(Text)\n",
    "    soort = Column(String(80))\n",
    "    brondata = Column(Text)\n",
    "    uuid = Column('_id', String)\n",
    "\n",
    "class Project(WasstraatModel): # Inherit from Model for cannot use Abstract class Wasstraatmodel, for geo-package gives errors\n",
    "    __tablename__ = 'Def_Project'\n",
    "\n",
    "    primary_key = Column(Integer, primary_key=True, autoincrement=True)\n",
    "    projectcd = Column(String(12), nullable=False, index=True)\n",
    "    projectnaam = Column(String(1024), index=True)\n",
    "    jaar = Column(Integer)\n",
    "    toponiem = Column(String(1024))\n",
    "    trefwoorden = Column(String(1024))\n",
    "    #location = Column(Geometry('POINT', srid=4326), default=(52.00667, 4.35556)) # 52.00667, 4.35556.\n",
    "    xcoor_rd = Column(Float)\n",
    "    ycoor_rd = Column(Float)\n",
    "    longitude = Column(Float)\n",
    "    latitude = Column(Float)\n",
    "    #artefacten = relationship(\"Artefact\", back_populates=\"project\")\n",
    "\n",
    "    # Explicit defined for cannot use Abstract class Wasstraatmodel, for geo-package gives errors\n",
    "    herkomst = Column(Text)\n",
    "    soort = Column(String(80))\n",
    "    brondata = Column(Text)\n",
    "    uuid = Column('_id', String)\n",
    "    key = Column(Text)\n",
    "\n",
    "    @staticmethod\n",
    "    def getDescription(p):\n",
    "        return str(p.projectcd) + f' ({p.projectnaam if p.projectnaam and p.projectnaam != \"\" else \"Zonder naam\"})'\n",
    "\n",
    "    def __repr__(self):\n",
    "        return Project.getDescription(self)\n",
    "\n",
    "\n",
    "engine = create_engine(config.SQLALCHEMY_DATABASE_URI)    \n",
    "session = Session(engine)\n",
    "\n",
    "#query = session.query(User).filter(User.name.like(\"%ed\")).order_by(User.id)\n",
    "\n",
    "q = session.query(Project).filter(Project.projectcd.like('DC%'))\n",
    "result = q.all()\n",
    "\n",
    "with engine.connect() as connection:\n",
    "    insp = inspect(connection)\n",
    "    tables = insp.get_columns('Def_Artefact')\n",
    "    [print(table) for table in tables if table['name'] == 'artefactsoort']\n",
    "\n",
    "\n",
    "session.query(Project).filter(Project.jaar > 1999).count()"
   ]
  },
  {
   "cell_type": "code",
   "execution_count": 3,
   "id": "70babc83-39fb-449d-a0c8-bee460ea5c70",
   "metadata": {},
   "outputs": [
    {
     "ename": "NameError",
     "evalue": "name 'resp' is not defined",
     "output_type": "error",
     "traceback": [
      "\u001b[0;31m---------------------------------------------------------------------------\u001b[0m",
      "\u001b[0;31mNameError\u001b[0m                                 Traceback (most recent call last)",
      "Cell \u001b[0;32mIn[3], line 3\u001b[0m\n\u001b[1;32m      1\u001b[0m \u001b[38;5;28;01mfrom\u001b[39;00m \u001b[38;5;21;01msqlalchemy\u001b[39;00m\u001b[38;5;21;01m.\u001b[39;00m\u001b[38;5;21;01mdialects\u001b[39;00m \u001b[38;5;28;01mimport\u001b[39;00m postgresql\n\u001b[0;32m----> 3\u001b[0m pkey_json \u001b[38;5;241m=\u001b[39m [{\u001b[38;5;124m'\u001b[39m\u001b[38;5;124mprimary_key\u001b[39m\u001b[38;5;124m'\u001b[39m: hit[\u001b[38;5;124m'\u001b[39m\u001b[38;5;124m_id\u001b[39m\u001b[38;5;124m'\u001b[39m], \u001b[38;5;124m'\u001b[39m\u001b[38;5;124mscore\u001b[39m\u001b[38;5;124m'\u001b[39m: hit[\u001b[38;5;124m'\u001b[39m\u001b[38;5;124m_score\u001b[39m\u001b[38;5;124m'\u001b[39m]} \u001b[38;5;28;01mfor\u001b[39;00m hit \u001b[38;5;129;01min\u001b[39;00m \u001b[43mresp\u001b[49m[\u001b[38;5;124m'\u001b[39m\u001b[38;5;124mhits\u001b[39m\u001b[38;5;124m'\u001b[39m][\u001b[38;5;124m'\u001b[39m\u001b[38;5;124mhits\u001b[39m\u001b[38;5;124m'\u001b[39m]]\n\u001b[1;32m      4\u001b[0m pkey_json \u001b[38;5;241m=\u001b[39m json\u001b[38;5;241m.\u001b[39mdumps(pkey_json) \n\u001b[1;32m      5\u001b[0m \u001b[38;5;28mprint\u001b[39m(pkey_json)\n",
      "\u001b[0;31mNameError\u001b[0m: name 'resp' is not defined"
     ]
    }
   ],
   "source": [
    "from sqlalchemy.dialects import postgresql\n",
    "\n",
    "pkey_json = [{'primary_key': hit['_id'], 'score': hit['_score']} for hit in resp['hits']['hits']]\n",
    "pkey_json = json.dumps(pkey_json) \n",
    "print(pkey_json)\n",
    "\n",
    "engine = create_engine(config.SQLALCHEMY_DATABASE_URI)    \n",
    "session = Session(engine)\n",
    "result = session.execute(sql)\n",
    "\n",
    "q = session.query(Project).filter(Project.projectcd.like('DC%'))\n",
    "subquery = text(f\"SELECT * FROM json_to_recordset('{pkey_json}')\" + ' as x(\"primary_key\" int, \"score\" float)')\n",
    "subquery= subquery.columns(column('primary_key'), column('score'))\n",
    "subquery = subquery.subquery()\n",
    "q = q.join(subquery, Project.primary_key == subquery.c.primary_key).add_columns(subquery.c.score.label(\"fulltext_score\")).order_by(subquery.c.score.desc())\n",
    "print(str(q.statement.compile(dialect=postgresql.dialect())))\n",
    "\n",
    "df = pd.DataFrame(q.all())\n",
    "df"
   ]
  },
  {
   "cell_type": "code",
   "execution_count": 80,
   "id": "37bc1a86-65f6-4737-933b-4296c7fb38bf",
   "metadata": {},
   "outputs": [
    {
     "name": "stdout",
     "output_type": "stream",
     "text": [
      "Got 64 Hits:\n"
     ]
    },
    {
     "data": {
      "text/plain": [
       "{'_id': '84875',\n",
       " '_score': 3.0,\n",
       " '_source': {'artefactsoort': 'Leer'},\n",
       " 'highlight': {'beschrijving': ['<em>kinderzool</em>, smal midden en hak'],\n",
       "  'beschrijving.keyword': ['<em>kinderzool, smal midden en hak</em>'],\n",
       "  'artefactsoort': ['<em>Leer</em>'],\n",
       "  'zool': ['enkele zool van <em>kinderschoen</em>']}}"
      ]
     },
     "execution_count": 80,
     "metadata": {},
     "output_type": "execute_result"
    }
   ],
   "source": [
    "es = Elasticsearch('http://elasticsearch:9200')\n",
    "highlight = {\"fields\": {\"*\": {}}}\n",
    "index = 'def_artefact'\n",
    "fields=['*']\n",
    "maxsize=50\n",
    "filter_path=['hits.hits._id', 'hits.hits._score', 'hits.hits.highlight','hits.hits._source.artefactsoort','hits.total']\n",
    "\n",
    "query={'query': {'bool': {'filter': [{'multi_match': {'query': 'Leer',\n",
    "      'fields': ['artefactsoort']}}],\n",
    "   'must': [{'simple_query_string': {'query': 'kind*', 'fields': ['*']}}]}},\n",
    " 'from': 0,\n",
    " 'size': 1000,\n",
    " 'highlight': {'fields': {'*': {}}}}\n",
    "query={'bool': {'filter': [{'multi_match': {'query': 'Leer', 'fields': ['artefactsoort']}}],\n",
    "                'must': [{'simple_query_string': {'query': 'kind*', 'fields': ['*']}}]}}\n",
    "\n",
    "   \n",
    "#query={'simple_query_string': {'query': 'Kinderschoen', 'analyze_wildcard':True, \"fields\": ['*']}}\n",
    "postfilter={\"term\": { \"_source.artefactsoort\": \"Leer\" }} \n",
    "\n",
    "resp = es.search(\n",
    "        index=index,\n",
    "        query=query,\n",
    "        size=maxsize,\n",
    "        highlight=highlight,\n",
    "    filter_path=filter_path,\n",
    "    #post_filter=postfilter\n",
    "    \n",
    ")\n",
    "    \n",
    "\n",
    "print(\"Got %d Hits:\" % resp['hits']['total']['value'])\n",
    "#for hit in resp['hits']['hits']:\n",
    "#    print(hit)\n",
    "resp['hits']['hits'][0]"
   ]
  },
  {
   "cell_type": "code",
   "execution_count": null,
   "id": "03e28a75-1729-40df-9ef7-a6da5b136c7c",
   "metadata": {},
   "outputs": [],
   "source": [
    "resp = es.search(index='my_index', query={'simple_query_string': {'query': 'scond~'}})\n",
    "print(\"Got %d Hits:\" % resp['hits']['total']['value'])\n",
    "for hit in resp['hits']['hits']:\n",
    "    print(hit)"
   ]
  },
  {
   "cell_type": "code",
   "execution_count": null,
   "id": "37176562-c439-4928-b708-34b1922a4629",
   "metadata": {},
   "outputs": [],
   "source": [
    "lst_skipindex = ['_id', 'herkomst', 'key', 'brondata']\n",
    "\n",
    "\n",
    "def generate_docs(resultset, db_col_names, index_name):\n",
    "    for row in resultset:\n",
    "        doc = {\n",
    "            \"_index\": index_name,\n",
    "            \"_id\": int(row[\"primary_key\"]),\n",
    "            \"doc\": {col.lower(): str(row[col] if str(row[col]) != 'None' else '') for col in db_col_names}\n",
    "        }\n",
    "        doc['doc']['id'] = int(row[\"primary_key\"])\n",
    "        yield doc\n",
    "\n",
    "\n",
    "def indexTable(table):\n",
    "    logger.info(f\"Starting indexing table {table} for fulltext indexing...\")\n",
    "\n",
    "    engine = create_engine(config.SQLALCHEMY_DATABASE_URI)\n",
    "    logger.info(\"Connecting to \" + config.SQLALCHEMY_DATABASE_URI)\n",
    "    es = Elasticsearch('http://elasticsearch:9200')\n",
    "    \n",
    "    index_name = table.lower()\n",
    "\n",
    "    with engine.connect() as connection:\n",
    "        connection = connection.execution_options( \n",
    "            isolation_level=\"SERIALIZABLE\",\n",
    "            postgresql_deferrable=True # Does not seem to work. Work imn progress \n",
    "        )\n",
    "        with connection.begin():\n",
    "            metadata = db.MetaData(bind=engine)\n",
    "            db.MetaData.reflect(metadata)\n",
    "\n",
    "            #get the table list\n",
    "            dict_tables = metadata.tables.keys()\n",
    "            lst_tables = [x for x in list(dict_tables) if x.startswith('Def_')]\n",
    "            logger.info(\"Indexing all string fields for \" + str(lst_tables))\n",
    "\n",
    "            if table in lst_tables:\n",
    "                insp = inspect(connection)\n",
    "                db_cols = insp.get_columns(table)\n",
    "                db_cols = [col for col in db_cols if (col['name'] == 'primary_key' or 'text' in str(col['type']).lower() or 'varchar' in str(col['type']).lower()) and col['name'] not in lst_skipindex]\n",
    "                sql_col_names = ['\"'+col['name']+ '\"' for col in db_cols]\n",
    "                db_col_names = [col['name'] for col in db_cols]\n",
    "                \n",
    "                sql = f'SELECT {\", \".join(sql_col_names)} FROM public.\"{table}\"'\n",
    "                logger.info(f\"Indexing index {index_name} with columns {db_col_names} \")\n",
    "                rs = connection.execute(sql)\n",
    "                \n",
    "                logger.info(f\"Indexing index {index_name} with columns {db_col_names} \")\n",
    "                helpers.bulk(es, generate_docs(rs, db_col_names, index_name))\n",
    "                logger.info(f\"Indexed {es.count(index=index_name)} records\")                \n",
    "            else:\n",
    "                logger.error(f\"Trying to index table {table}, but table not available in {lst_tables}\")\n",
    "\n",
    "es = Elasticsearch('http://elasticsearch:9200')\n",
    "indexTable('Def_Artefact')"
   ]
  },
  {
   "cell_type": "code",
   "execution_count": null,
   "id": "fd984c12-f30e-4e9b-8dba-42fc810a7678",
   "metadata": {},
   "outputs": [],
   "source": [
    "es.options(ignore_status=[400,404]).indices.delete(index='_all')"
   ]
  },
  {
   "cell_type": "code",
   "execution_count": null,
   "id": "ccfcf46b-16db-421e-8149-65ad77e40275",
   "metadata": {},
   "outputs": [],
   "source": [
    "from sqlalchemy import select, func\n",
    "stmt = select(func.json_each('{\"a\":\"foo\", \"b\":\"bar\"}').table_valued(\"key\", \"value\"))\n",
    "print(stmt)\n",
    "\n",
    "session.rollback()\n",
    "result = session.execute(stmt)\n",
    "df = pd.DataFrame(result)\n",
    "df\n"
   ]
  },
  {
   "cell_type": "code",
   "execution_count": null,
   "id": "84a99356-395d-4f86-9886-6598dd722617",
   "metadata": {},
   "outputs": [],
   "source": [
    "from sqlalchemy import select, func, column, Integer, Text\n",
    "stmt = select(\n",
    "    func.json_to_recordset(str(pkey_json)).table_valued(\n",
    "        column(\"primary_key\", Integer), column(\"score\", Float),\n",
    "    ).render_derived(name=\"t\", with_types=True)\n",
    ")\n",
    "print(stmt)\n",
    "\n",
    "#session.rollback()\n",
    "#result = session.execute(stmt)\n",
    "#df = pd.DataFrame(result)\n",
    "#df\n",
    "subquery = session.query(func.json_to_recordset(str(pkey_json)).\\\n",
    "                             table_valued(column(\"primary_key\", Integer), column(\"score\", Float)).\\\n",
    "                             render_derived(name=\"t\", with_types=True)).\\\n",
    "                             subquery()\n",
    "\n",
    "'''\n",
    "sub_query = session.query(\n",
    "    0.9 * func.sum(Revenue.total_revenue)\n",
    ").select_from(\n",
    "    Revenue\n",
    ").filter(\n",
    "    func.datediff(func.now(), Revenue.date) <= 7\n",
    ").subquery()\n",
    "'''\n",
    "\n",
    "q = session.query(Project).filter(Project.projectcd.like('DC%'))\n",
    "#subquery = text(f\"SELECT * FROM json_to_recordset('{pkey_json}')\" + ' as x(\"primary_key\" int, \"score\" float)')\n",
    "#subquery= subquery.columns(column('primary_key'), column('score'))\n",
    "#subquery = subquery.subquery()\n",
    "q = q.join(subquery, Project.primary_key == subquery.c.primary_key).add_columns(subquery.c.score.label(\"fulltext_score\")).order_by(subquery.c.score.desc())\n",
    "print(str(q.statement.compile(dialect=postgresql.dialect())))\n",
    "\n",
    "df = pd.DataFrame(q.all())\n",
    "df"
   ]
  },
  {
   "cell_type": "code",
   "execution_count": null,
   "id": "23d44d09-532d-43a2-84be-344cbfbeb7cf",
   "metadata": {},
   "outputs": [],
   "source": [
    "conversion_table = (\n",
    "    (\n",
    "        \"is_relation_many_to_one\",\n",
    "        ['FilterRelationOneToManyEqual', 'FilterRelationOneToManyNotEqual'],\n",
    "    ),\n",
    "    (\n",
    "        \"is_relation_one_to_one\",\n",
    "        ['FilterRelationOneToManyEqual', 'FilterRelationOneToManyNotEqual'],\n",
    "    ),\n",
    "    (\n",
    "        \"is_text\",\n",
    "        [\n",
    "            'FilterStartsWith',\n",
    "            'FilterEndsWith',\n",
    "        ],\n",
    "    )\n",
    ")\n",
    "conversion_table = dict(conversion_table)\n",
    "#conversion_table['is_text'] = conversion_table['is_text'] + ['Test']\n",
    "\n",
    "\n",
    "#conversion_table = tuple([(k, v) for k, v in conversion_table.items()])\n",
    "conversion_table"
   ]
  },
  {
   "cell_type": "code",
   "execution_count": null,
   "id": "04b2da8a-ce9b-409c-8fed-11c13404658a",
   "metadata": {},
   "outputs": [],
   "source": [
    "'is_relation_many_to_one' in conversion_table.keys()"
   ]
  },
  {
   "cell_type": "code",
   "execution_count": null,
   "id": "c24e7cbb-32e4-4600-a505-5012e1dda5aa",
   "metadata": {},
   "outputs": [],
   "source": [
    "None or 'appel'"
   ]
  },
  {
   "cell_type": "code",
   "execution_count": null,
   "id": "e993b3bf-f485-4512-a7e6-e871583c759c",
   "metadata": {},
   "outputs": [],
   "source": [
    "import ast\n",
    "\n",
    "dct = '{\"doc.omstandigheden.keyword\": [\"<em>sloot</em>\"], \"doc.omstandigheden\": [\"<em>sloot</em>\"]}'\n",
    "dct = res = ast.literal_eval(dct)\n",
    "lst = [item.replace(\"doc.\", \"\") + \": \" + \",\".join(dct[item]) for item in dct.keys()]\n",
    "\"; \".join(lst)\n"
   ]
  },
  {
   "cell_type": "code",
   "execution_count": 15,
   "id": "375d6b5e-ce6e-4863-b1e9-54015440fd49",
   "metadata": {},
   "outputs": [
    {
     "name": "stdout",
     "output_type": "stream",
     "text": [
      "64\n"
     ]
    },
    {
     "data": {
      "text/plain": [
       "True"
      ]
     },
     "execution_count": 15,
     "metadata": {},
     "output_type": "execute_result"
    }
   ],
   "source": [
    "from elasticsearch import Elasticsearch\n",
    "from elasticsearch_dsl import Search, connections, Q\n",
    "\n",
    "client = Elasticsearch('http://elasticsearch:9200')\n",
    "#connections.create_connection(hosts=['localhost'], timeout=20)\n",
    "\n",
    "qq = {'simple_query_string': {'query': 'Kinderschoen', 'analyze_wildcard':True, \"fields\": ['*']}}\n",
    "\n",
    "\n",
    "s = Search(using=client, index='def_artefact')\n",
    "q= Q(\"simple_query_string\", query='kind*', fields=['*'])\n",
    "f= Q(\"multi_match\", query='Leer', fields=['artefactsoort'])\n",
    "s = s.query(q).highlight('*').filter(f)[0:1000]\n",
    "\n",
    "response = s.execute()\n",
    "print(response.hits.total.value)\n",
    "#response.to_dict()\n",
    "\n",
    "s.to_dict()\n",
    "\n",
    "client.indices.exists(index=\"def_artefact\")"
   ]
  },
  {
   "cell_type": "code",
   "execution_count": 8,
   "id": "df380b0b-9a15-4502-a91f-668766c3f48f",
   "metadata": {},
   "outputs": [
    {
     "name": "stderr",
     "output_type": "stream",
     "text": [
      "/tmp/ipykernel_97/2075969698.py:6: SAWarning: Did not recognize type 'geometry' of column 'location'\n",
      "  metadata_obj.reflect(bind=engine)\n"
     ]
    },
    {
     "data": {
      "text/plain": [
       "['spatial_ref_sys',\n",
       " 'Def_ABR',\n",
       " 'alembic_version',\n",
       " 'observation',\n",
       " 'ab_user',\n",
       " 'ab_register_user',\n",
       " 'Def_Project',\n",
       " 'Def_Stelling',\n",
       " 'Def_Put',\n",
       " 'ab_permission',\n",
       " 'ab_permission_view',\n",
       " 'ab_view_menu',\n",
       " 'ab_user_role',\n",
       " 'ab_role',\n",
       " 'ab_permission_view_role',\n",
       " 'Def_Spoor',\n",
       " 'Def_Vlak',\n",
       " 'Def_Monster',\n",
       " 'Def_Doos',\n",
       " 'Def_Vondst',\n",
       " 'Def_Plaatsing',\n",
       " 'Def_artefact_abr',\n",
       " 'Def_Artefact',\n",
       " 'Def_Standplaats',\n",
       " 'Def_Partij',\n",
       " 'Def_Bruikleen',\n",
       " 'Def_Vindplaats',\n",
       " 'Def_Bestand',\n",
       " 'Def_Vulling',\n",
       " 'Def_Monster_Botanie',\n",
       " 'Def_Monster_Schelp',\n",
       " 'topology',\n",
       " 'layer']"
      ]
     },
     "execution_count": 8,
     "metadata": {},
     "output_type": "execute_result"
    }
   ],
   "source": [
    "from sqlalchemy import create_engine, inspect, MetaData\n",
    "\n",
    "engine = create_engine(config.SQLALCHEMY_DATABASE_URI)    \n",
    "\n",
    "metadata_obj = MetaData()\n",
    "metadata_obj.reflect(bind=engine)\n",
    "list(metadata_obj.tables.keys())\n",
    "\n"
   ]
  },
  {
   "cell_type": "code",
   "execution_count": null,
   "id": "fca330c8-d34a-4981-a42a-a882ba76efcd",
   "metadata": {},
   "outputs": [],
   "source": []
  }
 ],
 "metadata": {
  "kernelspec": {
   "display_name": "Python 3 (ipykernel)",
   "language": "python",
   "name": "python3"
  },
  "language_info": {
   "codemirror_mode": {
    "name": "ipython",
    "version": 3
   },
   "file_extension": ".py",
   "mimetype": "text/x-python",
   "name": "python",
   "nbconvert_exporter": "python",
   "pygments_lexer": "ipython3",
   "version": "3.10.8"
  }
 },
 "nbformat": 4,
 "nbformat_minor": 5
}
