{
 "cells": [
  {
   "cell_type": "code",
   "execution_count": 1,
   "metadata": {},
   "outputs": [
    {
     "ename": "ModuleNotFoundError",
     "evalue": "No module named 'wasstraat'",
     "output_type": "error",
     "traceback": [
      "\u001b[0;31m---------------------------------------------------------------------------\u001b[0m",
      "\u001b[0;31mModuleNotFoundError\u001b[0m                       Traceback (most recent call last)",
      "\u001b[0;32m<ipython-input-1-97bfbb7fc421>\u001b[0m in \u001b[0;36m<module>\u001b[0;34m\u001b[0m\n\u001b[1;32m      6\u001b[0m \u001b[0;32mimport\u001b[0m \u001b[0mre\u001b[0m\u001b[0;34m\u001b[0m\u001b[0;34m\u001b[0m\u001b[0m\n\u001b[1;32m      7\u001b[0m \u001b[0;34m\u001b[0m\u001b[0m\n\u001b[0;32m----> 8\u001b[0;31m \u001b[0;32mimport\u001b[0m \u001b[0mwasstraat\u001b[0m\u001b[0;34m.\u001b[0m\u001b[0mmeta\u001b[0m \u001b[0;32mas\u001b[0m \u001b[0mmeta\u001b[0m\u001b[0;34m\u001b[0m\u001b[0;34m\u001b[0m\u001b[0m\n\u001b[0m\u001b[1;32m      9\u001b[0m \u001b[0;34m\u001b[0m\u001b[0m\n\u001b[1;32m     10\u001b[0m \u001b[0;32mimport\u001b[0m \u001b[0msqlalchemy\u001b[0m \u001b[0;32mas\u001b[0m \u001b[0mdb\u001b[0m\u001b[0;34m\u001b[0m\u001b[0;34m\u001b[0m\u001b[0m\n",
      "\u001b[0;31mModuleNotFoundError\u001b[0m: No module named 'wasstraat'"
     ]
    }
   ],
   "source": [
    "import config\n",
    "import pymongo\n",
    "import numpy as np\n",
    "import pandas as pd\n",
    "import json\n",
    "import re\n",
    "\n",
    "import sqlalchemy as db\n",
    "from sqlalchemy.orm import sessionmaker\n",
    "from sqlalchemy import create_engine, inspect\n",
    "from sqlalchemy.engine import reflection"
   ]
  },
  {
   "cell_type": "code",
   "execution_count": null,
   "metadata": {},
   "outputs": [],
   "source": [
    "myclient = pymongo.MongoClient(str(config.MONGO_URI))\n",
    "stagingDb = myclient[str(config.DB_STAGING)]\n",
    "analyseDb = myclient[str(config.DB_ANALYSE)]\n",
    "stagingCol = stagingDb[config.COLL_PLAATJES]\n",
    "stagingOud = stagingDb[config.COLL_STAGING_OUD]\n",
    "stagingNieuw = stagingDb[config.COLL_STAGING_NIEUW]\n",
    "analyseCol = analyseDb[config.COLL_ANALYSE]\n",
    "analyseColClean = analyseDb[config.COLL_ANALYSE_CLEAN]\n",
    "\n",
    "metaCollection = stagingDb['Kolominformatie']"
   ]
  },
  {
   "cell_type": "code",
   "execution_count": null,
   "metadata": {},
   "outputs": [],
   "source": [
    "def AggregateData(df, fase): \n",
    "    df['teller'] = pd.to_numeric(df['teller'])\n",
    "    df = df.groupby('soort').agg({'project':lambda x: list(x), 'teller':lambda x: sum(x)})\n",
    "    df['Count'] = df.apply(lambda x: len(x.project), axis=1)\n",
    "    df['Stage'] = fase\n",
    "    df = df.sort_values('teller', ascending=False).reset_index()\n",
    "    df = df.rename(columns={'soort': 'Soort', 'project': 'Projecten', 'teller': 'Aantal_Records', 'Count': 'Aantal_projecten'}).sort_index()\n",
    "    return df"
   ]
  },
  {
   "cell_type": "code",
   "execution_count": null,
   "metadata": {},
   "outputs": [],
   "source": [
    "grp_aggr = [{'$group': {'_id': {'project': \"$brondata.project\", 'soort': \"$soort\"},'teller': {\"$sum\": 1}}}\n",
    "           ,{'$replaceRoot': {'newRoot': {'project': \"$_id.project\", 'soort': \"$_id.soort\", 'teller': \"$teller\"}}}]\n",
    "\n",
    "df_singlestore = AggregateData(pd.DataFrame(list(analyseCol.aggregate(grp_aggr))), 'SingleStore')\n",
    "df_singlestore.head(5)"
   ]
  },
  {
   "cell_type": "code",
   "execution_count": null,
   "metadata": {},
   "outputs": [],
   "source": [
    "#grp_aggr = [{'$group': {'_id': {'project': \"$brondata.project\", 'soort': \"$brondata.table\"},'teller': {\"$sum\": 1}}}\n",
    "#           ,{'$replaceRoot': {'newRoot': {'project': \"$_id.project\", 'table': \"$_id.table\", 'teller': \"$teller\"}}}]\n",
    "\n",
    "df_singlestoreclean = AggregateData(pd.DataFrame(list(analyseColClean.aggregate(grp_aggr))), 'SingleStoreClean')\n",
    "df_singlestoreclean.head(5)"
   ]
  },
  {
   "cell_type": "code",
   "execution_count": null,
   "metadata": {},
   "outputs": [],
   "source": [
    "lst_tables = ['Def_Project', 'Def_Vondst', 'Def_Stelling', 'Def_Plaatsing', 'Def_Vindplaats', 'Def_Artefact']\n",
    "regexProject = re.compile(r'\\'project\\': \\'(.*?)\\'') # regex to replace Object\n",
    "\n",
    "def getProject(brondata):    \n",
    "    #print(brondata)\n",
    "    if brondata is None or brondata != \"\":\n",
    "        return regexProject.search(brondata).group(1)\n",
    "    else: \n",
    "        return \"\" \n",
    "\n",
    "df_tables_projects = pd.DataFrame()\n",
    "    \n",
    "engine = create_engine(config.SQLALCHEMY_DATABASE_URI)\n",
    "with engine.connect() as connection:\n",
    "    for table in lst_tables:     \n",
    "        df = pd.read_sql_query('SELECT brondata from \"' + table + '\"', connection)\n",
    "        \n",
    "        df_out = pd.DataFrame()\n",
    "        df_out['project'] = df.apply(lambda x: getProject(x['brondata']), axis=1)\n",
    "        df_out['soort'] = table[4:]\n",
    "        df_tables_projects = pd.concat([df_tables_projects, pd.DataFrame(df_out).groupby(['project', 'soort']).size().reset_index(name='teller')])\n",
    "    \n",
    "df_doelsysteem = AggregateData(df_tables_projects, 'Doelsysteem')\n",
    "df_doelsysteem.head(5)\n"
   ]
  },
  {
   "cell_type": "markdown",
   "metadata": {},
   "source": [
    "## Analyse van alle gegevens\n",
    "\n",
    "Hieronder volgt een overzicht van alle gegevens die in de vier fases beschikbaar zijn. Zo kunnen fouten in de conversie worden opgespoord. "
   ]
  },
  {
   "cell_type": "code",
   "execution_count": null,
   "metadata": {},
   "outputs": [],
   "source": [
    "def getOverview(OnWhat): \n",
    "    lst_countColumns = [OnWhat + '_singlestore', OnWhat + '_singlestoreclean', OnWhat + '_doelsysteem']\n",
    "    \n",
    "    df = df_singlestore[['Soort', 'Projecten', OnWhat]].merge(df_singlestoreclean[['Soort', OnWhat]], on=['Soort'], how='outer', suffixes=(\"_singlestore\", \"_singlestoreclean\"))\n",
    "    df = df.merge(df_doelsysteem[['Soort', OnWhat]], on=['Soort'], how='outer', suffixes=(\"_singlestoreclean\", \"_doelsysteem\"))\n",
    "\n",
    "    df = df.sort_values(OnWhat+ '_singlestore', ascending=False) \n",
    "    df.rename(columns={'Aantal_Records': 'Aantal_Records_doelsysteem'}, inplace=True)\n",
    "    df[lst_countColumns] = df[lst_countColumns].fillna(0)\n",
    "    df[lst_countColumns] = df[lst_countColumns].astype(int, errors='ignore')\n",
    "    df = df.style.bar(subset=lst_countColumns, color='#5fba7d', vmax=6000)\n",
    "    \n",
    "    return df\n",
    "\n",
    "getOverview('Aantal_Records')"
   ]
  },
  {
   "cell_type": "markdown",
   "metadata": {},
   "source": [
    "## Detailanalyse SingleStore naar Doelsysteem"
   ]
  },
  {
   "cell_type": "code",
   "execution_count": null,
   "metadata": {},
   "outputs": [],
   "source": [
    "df = df_singlestore.merge(df_doelsysteem, on=['Soort', 'Aantal_Records', 'Aantal_projecten'], how='outer', suffixes=(\"_singlestore\", \"_doelsysteem\"))\n",
    "df[df.Stage_singlestore.isnull() | df.Stage_doelsysteem.isnull() ]"
   ]
  },
  {
   "cell_type": "code",
   "execution_count": null,
   "metadata": {},
   "outputs": [],
   "source": []
  }
 ],
 "metadata": {
  "kernelspec": {
   "display_name": "Python 3",
   "language": "python",
   "name": "python3"
  },
  "language_info": {
   "codemirror_mode": {
    "name": "ipython",
    "version": 3
   },
   "file_extension": ".py",
   "mimetype": "text/x-python",
   "name": "python",
   "nbconvert_exporter": "python",
   "pygments_lexer": "ipython3",
   "version": "3.8.6"
  }
 },
 "nbformat": 4,
 "nbformat_minor": 4
}
