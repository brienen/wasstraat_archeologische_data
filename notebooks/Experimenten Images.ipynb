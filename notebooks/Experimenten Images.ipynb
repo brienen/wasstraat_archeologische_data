{
 "cells": [
  {
   "cell_type": "code",
   "execution_count": 1,
   "id": "8586e783-40ff-4eef-9e43-9669486dec5d",
   "metadata": {},
   "outputs": [],
   "source": [
    "import shared.config as config\n",
    "import pymongo\n",
    "import gridfs\n",
    "import numpy as np\n",
    "import pandas as pd\n",
    "import json\n",
    "import re\n",
    "import simplejson\n",
    "from math import isnan\n",
    "import ast\n",
    "#import attributes\n",
    "\n",
    "\n",
    "import sqlalchemy as db\n",
    "from sqlalchemy.orm import sessionmaker\n",
    "from sqlalchemy import create_engine, inspect\n",
    "from sqlalchemy.engine import reflection\n",
    "from sqlalchemy.types import VARCHAR\n",
    "\n",
    "from pandas_profiling import ProfileReport\n",
    "from ipywidgets import interact, Dropdown\n",
    "\n",
    "from sqlalchemy import and_, or_\n",
    "\n",
    "from PIL import Image, ExifTags\n",
    "import magic\n",
    "import io\n",
    "import shared.image_util as iu\n",
    "import os\n"
   ]
  },
  {
   "cell_type": "code",
   "execution_count": 2,
   "id": "6b67989c-aecc-4684-ae4a-9710f7679e2d",
   "metadata": {},
   "outputs": [],
   "source": [
    "myclient = pymongo.MongoClient(config.MONGO_URI)\n",
    "stagingDb = myclient[config.DB_STAGING]\n",
    "analyseDb = myclient[config.DB_ANALYSE]\n",
    "stagingCol = stagingDb[config.COLL_PLAATJES]\n",
    "stagingOud = stagingDb[config.COLL_STAGING_OUD]\n",
    "stagingNieuw = stagingDb[config.COLL_STAGING_NIEUW]\n",
    "analyseCol = analyseDb[config.COLL_ANALYSE]\n",
    "analyseColClean = analyseDb[config.COLL_ANALYSE_CLEAN]\n",
    "metaCollection = stagingDb['Kolominformatie']"
   ]
  },
  {
   "cell_type": "code",
   "execution_count": 3,
   "id": "131eec35-162b-40e4-83c9-5bc1754c873b",
   "metadata": {},
   "outputs": [
    {
     "data": {
      "text/html": [
       "<div>\n",
       "<style scoped>\n",
       "    .dataframe tbody tr th:only-of-type {\n",
       "        vertical-align: middle;\n",
       "    }\n",
       "\n",
       "    .dataframe tbody tr th {\n",
       "        vertical-align: top;\n",
       "    }\n",
       "\n",
       "    .dataframe thead th {\n",
       "        text-align: right;\n",
       "    }\n",
       "</style>\n",
       "<table border=\"1\" class=\"dataframe\">\n",
       "  <thead>\n",
       "    <tr style=\"text-align: right;\">\n",
       "      <th></th>\n",
       "    </tr>\n",
       "  </thead>\n",
       "  <tbody>\n",
       "  </tbody>\n",
       "</table>\n",
       "</div>"
      ],
      "text/plain": [
       "Empty DataFrame\n",
       "Columns: []\n",
       "Index: []"
      ]
     },
     "execution_count": 3,
     "metadata": {},
     "output_type": "execute_result"
    }
   ],
   "source": [
    "#grp_aggr = [{\"$match\" : {'soort': 'Artefact', '_id': ObjectId('62aa1843288d4dfe4c78f511')}}]\n",
    "grp_aggr = [{\"$match\" : {'soort': 'Artefact', 'vondstID': {'$exists': True}}}]\n",
    "df_artf = pd.DataFrame(list(analyseCol.aggregate(grp_aggr)))\n",
    "#df_artf.loc[df_artf['brondata'].notnull() & df_artf.brondata.str.contains('VONDST', case=False)]\n",
    "#df_artf['brondata']\n",
    "df_artf"
   ]
  },
  {
   "cell_type": "code",
   "execution_count": 4,
   "id": "2a172ab0-97ee-4c64-9375-452ac6a1f94d",
   "metadata": {},
   "outputs": [],
   "source": [
    "myclient = pymongo.MongoClient(str(config.MONGO_URI))\n",
    "filesdb = myclient[str(config.DB_FILES)]\n",
    "fs = gridfs.GridFS(filesdb)\n",
    "\n"
   ]
  },
  {
   "cell_type": "code",
   "execution_count": 5,
   "id": "86757f8d-83ed-419b-8ac8-0e4a7c4f654d",
   "metadata": {},
   "outputs": [
    {
     "data": {
      "text/plain": [
       "ObjectId('62b7633e49fd2439b0966f08')"
      ]
     },
     "execution_count": 5,
     "metadata": {},
     "output_type": "execute_result"
    }
   ],
   "source": [
    "image = Image.open('a10fd8740268fcef460befe7a366bc49.jpg', 'r')\n",
    "iu.adjustAndSaveFile('a10fd8740268fcef460befe7a366bc49.jpg', fs, analyseCol)"
   ]
  },
  {
   "cell_type": "code",
   "execution_count": null,
   "id": "c67343fa-2026-481d-9f37-ca37c2d807b4",
   "metadata": {},
   "outputs": [],
   "source": [
    "fs.get('')"
   ]
  },
  {
   "cell_type": "code",
   "execution_count": 6,
   "id": "fa0f15b9-4be0-4a91-a6cc-54de118e0782",
   "metadata": {},
   "outputs": [
    {
     "ename": "NameError",
     "evalue": "name 'shrinkAndSaveImage' is not defined",
     "output_type": "error",
     "traceback": [
      "\u001b[0;31m---------------------------------------------------------------------------\u001b[0m",
      "\u001b[0;31mNameError\u001b[0m                                 Traceback (most recent call last)",
      "Input \u001b[0;32mIn [6]\u001b[0m, in \u001b[0;36m<cell line: 1>\u001b[0;34m()\u001b[0m\n\u001b[0;32m----> 1\u001b[0m \u001b[43mget_ipython\u001b[49m\u001b[43m(\u001b[49m\u001b[43m)\u001b[49m\u001b[38;5;241;43m.\u001b[39;49m\u001b[43mrun_line_magic\u001b[49m\u001b[43m(\u001b[49m\u001b[38;5;124;43m'\u001b[39;49m\u001b[38;5;124;43mtimeit\u001b[39;49m\u001b[38;5;124;43m'\u001b[39;49m\u001b[43m,\u001b[49m\u001b[43m \u001b[49m\u001b[38;5;124;43m\"\u001b[39;49m\u001b[38;5;124;43mshrinkAndSaveImage(\u001b[39;49m\u001b[38;5;124;43m'\u001b[39;49m\u001b[38;5;124;43ma10fd8740268fcef460befe7a366bc49.jpg\u001b[39;49m\u001b[38;5;124;43m'\u001b[39;49m\u001b[38;5;124;43m, config.IMAGE_SIZE_BIGGEST, fs)\u001b[39;49m\u001b[38;5;124;43m\"\u001b[39;49m\u001b[43m)\u001b[49m\n",
      "File \u001b[0;32m/opt/conda/lib/python3.9/site-packages/IPython/core/interactiveshell.py:2304\u001b[0m, in \u001b[0;36mInteractiveShell.run_line_magic\u001b[0;34m(self, magic_name, line, _stack_depth)\u001b[0m\n\u001b[1;32m   2302\u001b[0m     kwargs[\u001b[38;5;124m'\u001b[39m\u001b[38;5;124mlocal_ns\u001b[39m\u001b[38;5;124m'\u001b[39m] \u001b[38;5;241m=\u001b[39m \u001b[38;5;28mself\u001b[39m\u001b[38;5;241m.\u001b[39mget_local_scope(stack_depth)\n\u001b[1;32m   2303\u001b[0m \u001b[38;5;28;01mwith\u001b[39;00m \u001b[38;5;28mself\u001b[39m\u001b[38;5;241m.\u001b[39mbuiltin_trap:\n\u001b[0;32m-> 2304\u001b[0m     result \u001b[38;5;241m=\u001b[39m \u001b[43mfn\u001b[49m\u001b[43m(\u001b[49m\u001b[38;5;241;43m*\u001b[39;49m\u001b[43margs\u001b[49m\u001b[43m,\u001b[49m\u001b[43m \u001b[49m\u001b[38;5;241;43m*\u001b[39;49m\u001b[38;5;241;43m*\u001b[39;49m\u001b[43mkwargs\u001b[49m\u001b[43m)\u001b[49m\n\u001b[1;32m   2305\u001b[0m \u001b[38;5;28;01mreturn\u001b[39;00m result\n",
      "File \u001b[0;32m/opt/conda/lib/python3.9/site-packages/IPython/core/magics/execution.py:1162\u001b[0m, in \u001b[0;36mExecutionMagics.timeit\u001b[0;34m(self, line, cell, local_ns)\u001b[0m\n\u001b[1;32m   1160\u001b[0m \u001b[38;5;28;01mfor\u001b[39;00m index \u001b[38;5;129;01min\u001b[39;00m \u001b[38;5;28mrange\u001b[39m(\u001b[38;5;241m0\u001b[39m, \u001b[38;5;241m10\u001b[39m):\n\u001b[1;32m   1161\u001b[0m     number \u001b[38;5;241m=\u001b[39m \u001b[38;5;241m10\u001b[39m \u001b[38;5;241m*\u001b[39m\u001b[38;5;241m*\u001b[39m index\n\u001b[0;32m-> 1162\u001b[0m     time_number \u001b[38;5;241m=\u001b[39m \u001b[43mtimer\u001b[49m\u001b[38;5;241;43m.\u001b[39;49m\u001b[43mtimeit\u001b[49m\u001b[43m(\u001b[49m\u001b[43mnumber\u001b[49m\u001b[43m)\u001b[49m\n\u001b[1;32m   1163\u001b[0m     \u001b[38;5;28;01mif\u001b[39;00m time_number \u001b[38;5;241m>\u001b[39m\u001b[38;5;241m=\u001b[39m \u001b[38;5;241m0.2\u001b[39m:\n\u001b[1;32m   1164\u001b[0m         \u001b[38;5;28;01mbreak\u001b[39;00m\n",
      "File \u001b[0;32m/opt/conda/lib/python3.9/site-packages/IPython/core/magics/execution.py:156\u001b[0m, in \u001b[0;36mTimer.timeit\u001b[0;34m(self, number)\u001b[0m\n\u001b[1;32m    154\u001b[0m gc\u001b[38;5;241m.\u001b[39mdisable()\n\u001b[1;32m    155\u001b[0m \u001b[38;5;28;01mtry\u001b[39;00m:\n\u001b[0;32m--> 156\u001b[0m     timing \u001b[38;5;241m=\u001b[39m \u001b[38;5;28;43mself\u001b[39;49m\u001b[38;5;241;43m.\u001b[39;49m\u001b[43minner\u001b[49m\u001b[43m(\u001b[49m\u001b[43mit\u001b[49m\u001b[43m,\u001b[49m\u001b[43m \u001b[49m\u001b[38;5;28;43mself\u001b[39;49m\u001b[38;5;241;43m.\u001b[39;49m\u001b[43mtimer\u001b[49m\u001b[43m)\u001b[49m\n\u001b[1;32m    157\u001b[0m \u001b[38;5;28;01mfinally\u001b[39;00m:\n\u001b[1;32m    158\u001b[0m     \u001b[38;5;28;01mif\u001b[39;00m gcold:\n",
      "File \u001b[0;32m<magic-timeit>:1\u001b[0m, in \u001b[0;36minner\u001b[0;34m(_it, _timer)\u001b[0m\n",
      "\u001b[0;31mNameError\u001b[0m: name 'shrinkAndSaveImage' is not defined"
     ]
    }
   ],
   "source": [
    "%timeit shrinkAndSaveImage('a10fd8740268fcef460befe7a366bc49.jpg', config.IMAGE_SIZE_BIGGEST, fs)"
   ]
  },
  {
   "cell_type": "code",
   "execution_count": null,
   "id": "63bf9dd8-50b3-451a-87d9-eefe45864ea5",
   "metadata": {},
   "outputs": [],
   "source": [
    "def adjustAndSaveFile(fullfilename, fs, collection):\n",
    "    try:\n",
    "        # First read image and make 3 versions with different sizes. And put them in a list \n",
    "        image = Image.open(fullfilename, 'r')\n",
    "        mime_type = magic.from_file(fullfilename, mime=True)\n",
    "        filename, file_extension = os.path.splitext(fullfilename)\n",
    "        dir, filename = os.path.split(fullfilename)\n",
    "\n",
    "        lst_images = []\n",
    "        image_dict_big = {\n",
    "            'image': iu.adjustImage(image, config.IMAGE_SIZE_BIGGEST),\n",
    "            'size': config.IMAGE_SIZE_BIGGEST\n",
    "        }\n",
    "        lst_images.append(image_dict_big)\n",
    "        img_med = iu.adjustImage(image, config.IMAGE_SIZE_MIDDLE, postcard=True)\n",
    "        image_dict_med = {\n",
    "            'image': img_med,\n",
    "            'size': config.IMAGE_SIZE_MIDDLE\n",
    "        }\n",
    "        lst_images.append(image_dict_med)\n",
    "        img_sml = img_med.copy()\n",
    "        img_sml.thumbnail(config.IMAGE_SIZE_THUMB)\n",
    "        image_dict_sml = {\n",
    "            'image': img_sml,\n",
    "            'size': config.IMAGE_SIZE_THUMB\n",
    "        }\n",
    "        lst_images.append(image_dict_sml)\n",
    "\n",
    "        # Loop over all versions and store them in the filestore\n",
    "        for img in lst_images:\n",
    "            width = str(img['size'][0])\n",
    "            height = str(img['size'][1])\n",
    "        \n",
    "            b = io.BytesIO()\n",
    "            img['image'].save(b, \"JPEG\")\n",
    "            b.seek(0)\n",
    "\n",
    "            img['uuid'] = fs.put(b, content_type=mime_type, height=height, width=width, filename=filename)\n",
    "\n",
    "        # Insert a record with metadata\n",
    "        collection.insert_one({\n",
    "            'fileName': filename, 'imageUUID': str(image_dict_big['uuid']), 'imageMiddleUUID': str(image_dict_med['uuid']), 'imageThumbUUID': str(image_dict_sml['uuid']),\n",
    "            'fileType': file_extension.lower(), 'directory': dir, 'mime_type': mime_type \n",
    "            })  \n",
    "\n",
    "    except Exception as err:\n",
    "        msg = \"Onbekende fout bij het bewaren van image, met tekst: \" + str(err)\n",
    "        print(msg)    \n",
    "        raise Exception(msg) from err\n"
   ]
  },
  {
   "cell_type": "code",
   "execution_count": null,
   "id": "429c8c00-247b-4cb4-989d-a81bf8242811",
   "metadata": {},
   "outputs": [],
   "source": [
    "adjustAndSaveFile('a10fd8740268fcef460befe7a366bc49.jpg', fs, analyseCol)"
   ]
  },
  {
   "cell_type": "code",
   "execution_count": null,
   "id": "5b59b7d7-e5f8-454d-b5d6-6a1f842f06f7",
   "metadata": {},
   "outputs": [],
   "source": [
    "os.path.split('a10fd8740268fcef460befe7a366bc49.jpg')"
   ]
  },
  {
   "cell_type": "code",
   "execution_count": null,
   "id": "813e07fa-ffcb-405e-9a6c-858e8763e542",
   "metadata": {},
   "outputs": [],
   "source": []
  }
 ],
 "metadata": {
  "kernelspec": {
   "display_name": "Python 3 (ipykernel)",
   "language": "python",
   "name": "python3"
  },
  "language_info": {
   "codemirror_mode": {
    "name": "ipython",
    "version": 3
   },
   "file_extension": ".py",
   "mimetype": "text/x-python",
   "name": "python",
   "nbconvert_exporter": "python",
   "pygments_lexer": "ipython3",
   "version": "3.9.12"
  }
 },
 "nbformat": 4,
 "nbformat_minor": 5
}
