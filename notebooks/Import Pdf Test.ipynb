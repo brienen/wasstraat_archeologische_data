{
 "cells": [
  {
   "cell_type": "code",
   "execution_count": 27,
   "id": "a35446ca-6051-4d35-9b3f-41d3341b631d",
   "metadata": {},
   "outputs": [],
   "source": [
    "# Import the os module, for the os.walk function\n",
    "import pymongo\n",
    "from pymongo import UpdateOne, WriteConcern\n",
    "import re\n",
    "import pandas as pd\n",
    "import numpy as np\n",
    "#import wasstraat.meta as meta\n",
    "#import wasstraat.mongoUtils as mongoUtil\n",
    "import simplejson\n",
    "from IPython.display import IFrame\n",
    " \n",
    "# Import app code\n",
    "# Absolute imports for Hydrogen (Jupyter Kernel) compatibility\n",
    "import shared.config as config\n",
    "import shared.image_util as image_util\n",
    "import logging\n",
    "logger = logging.getLogger()\n"
   ]
  },
  {
   "cell_type": "code",
   "execution_count": 33,
   "id": "db12a013-bd20-48b3-bd1f-451a7ed383a6",
   "metadata": {},
   "outputs": [],
   "source": [
    "fullfilename = '/input/images/DB034_Koningsveld IV/I Correspondentie/natuursteen.pdf'\n",
    "\n",
    "myclient = pymongo.MongoClient(config.MONGO_URI)\n",
    "filesdb = myclient[config.DB_FILES]\n",
    "stagingdb = myclient[config.DB_STAGING]\n",
    "col = filesdb[config.COLL_FILENAMES]\n"
   ]
  },
  {
   "cell_type": "code",
   "execution_count": 34,
   "id": "c1f1ec0d-e3f6-4306-bc0a-4b3749c65b9d",
   "metadata": {},
   "outputs": [
    {
     "data": {
      "text/plain": [
       "ObjectId('63bdccf727c9dce78e7622ba')"
      ]
     },
     "execution_count": 34,
     "metadata": {},
     "output_type": "execute_result"
    }
   ],
   "source": [
    "image_util.adjustAndSaveFile(fullfilename, None, stagingdb['test'])"
   ]
  },
  {
   "cell_type": "code",
   "execution_count": 32,
   "id": "1125b310-1f66-4f74-a8bb-1c0623788313",
   "metadata": {},
   "outputs": [
    {
     "data": {
      "text/plain": [
       "'/input/images'"
      ]
     },
     "execution_count": 32,
     "metadata": {},
     "output_type": "execute_result"
    }
   ],
   "source": [
    "config.AIRFLOW_INPUT_IMAGES"
   ]
  },
  {
   "cell_type": "code",
   "execution_count": 35,
   "id": "0c97420b-f990-4849-b120-e63d17453dfb",
   "metadata": {},
   "outputs": [
    {
     "data": {
      "text/plain": [
       "'/output/archeomedia'"
      ]
     },
     "execution_count": 35,
     "metadata": {},
     "output_type": "execute_result"
    }
   ],
   "source": [
    "config.AIRFLOW_OUTPUT_MEDIA"
   ]
  },
  {
   "cell_type": "code",
   "execution_count": null,
   "id": "3a0635fb-e313-4002-a154-dfe3d84e284f",
   "metadata": {},
   "outputs": [],
   "source": []
  }
 ],
 "metadata": {
  "kernelspec": {
   "display_name": "Python 3 (ipykernel)",
   "language": "python",
   "name": "python3"
  },
  "language_info": {
   "codemirror_mode": {
    "name": "ipython",
    "version": 3
   },
   "file_extension": ".py",
   "mimetype": "text/x-python",
   "name": "python",
   "nbconvert_exporter": "python",
   "pygments_lexer": "ipython3",
   "version": "3.10.6"
  }
 },
 "nbformat": 4,
 "nbformat_minor": 5
}
