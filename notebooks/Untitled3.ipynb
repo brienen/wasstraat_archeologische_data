{
 "cells": [
  {
   "cell_type": "code",
   "execution_count": 4,
   "id": "b222e4ae-0517-441a-906d-bdc70e7e81d3",
   "metadata": {},
   "outputs": [],
   "source": [
    "import re"
   ]
  },
  {
   "cell_type": "code",
   "execution_count": 116,
   "id": "1179c560-4414-47dc-a76d-263751f2ec14",
   "metadata": {},
   "outputs": [],
   "source": [
    "regex_object = r'^([a-zA-Z0-9]+)(_B?P(\\d+))?_H([a-zA-Z0-9]+)(_([a-zA-Z0-9]+))?_(\\d+)\\.[a-z]{3}$'\n",
    "regex_tekening = r'^([a-zA-Z0-9]+)_([ABCDEPT])([a-zA-Z0-9]+)(_LZW)?\\.[a-z]{3}$'\n",
    "regeex_projectfoto = r'^([a-zA-Z0-9]+)_([FG])([a-zA-Z0-9]+).*\\.[a-z]{3}$'"
   ]
  },
  {
   "cell_type": "code",
   "execution_count": 120,
   "id": "425a69b1-1a0b-4488-a852-d03472c4a41d",
   "metadata": {},
   "outputs": [
    {
     "data": {
      "text/plain": [
       "'DC215_P02_H0008_721_.jpg'"
      ]
     },
     "execution_count": 120,
     "metadata": {},
     "output_type": "execute_result"
    }
   ],
   "source": [
    "str = \"DC215_P02_H0008_721_.jpg\"\n",
    "#str = \"DC22_P02_HXXXX_701_1.JPG\"\n",
    "#str = \"DC26_P02_H(monster)0235_X_2.JPG\"\n",
    "#str = \"DB033_T011_LZW.tif\"\n",
    "#str = \"DB033_T005.jpg\"\n",
    "#str = \"DC100_P01_HXXXX_1099+1155_1.jpg\"\n",
    "\n",
    "str = str.strip('_') \n",
    "\n",
    "#re.match(regex_object, str, re.M|re.I)\n",
    "str"
   ]
  },
  {
   "cell_type": "code",
   "execution_count": 118,
   "id": "fbf5af30-771a-46cf-9ecc-6fb0dfd77d5d",
   "metadata": {},
   "outputs": [],
   "source": [
    "re.match(regex_tekening, str, re.M|re.I)\n"
   ]
  },
  {
   "cell_type": "code",
   "execution_count": 119,
   "id": "70163d6e-8e47-4938-a6a5-dde35f3501e8",
   "metadata": {},
   "outputs": [],
   "source": [
    "re.match(regeex_projectfoto, str, re.M|re.I)"
   ]
  },
  {
   "cell_type": "code",
   "execution_count": null,
   "id": "ac8affbd-d33c-4aa8-826a-45fc75874da3",
   "metadata": {},
   "outputs": [],
   "source": []
  },
  {
   "cell_type": "code",
   "execution_count": null,
   "id": "d3f6847d-224a-4bb9-b898-9966d74139ee",
   "metadata": {},
   "outputs": [],
   "source": []
  }
 ],
 "metadata": {
  "kernelspec": {
   "display_name": "Python 3 (ipykernel)",
   "language": "python",
   "name": "python3"
  },
  "language_info": {
   "codemirror_mode": {
    "name": "ipython",
    "version": 3
   },
   "file_extension": ".py",
   "mimetype": "text/x-python",
   "name": "python",
   "nbconvert_exporter": "python",
   "pygments_lexer": "ipython3",
   "version": "3.10.8"
  }
 },
 "nbformat": 4,
 "nbformat_minor": 5
}
