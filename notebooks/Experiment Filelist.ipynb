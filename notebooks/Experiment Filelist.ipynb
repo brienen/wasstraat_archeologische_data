{
 "cells": [
  {
   "cell_type": "code",
   "execution_count": 4,
   "id": "aca630d5-7d6b-4c7b-92e0-d35c3b6f3dd8",
   "metadata": {},
   "outputs": [],
   "source": [
    "# Import the os module, for the os.walk function\n",
    "import pymongo\n",
    "from pymongo import UpdateOne, WriteConcern\n",
    "import re\n",
    "import pandas as pd\n",
    "import numpy as np\n",
    "#import wasstraat.meta as meta\n",
    "#import wasstraat.mongoUtils as mongoUtil\n",
    "import simplejson\n",
    " \n",
    "# Import app code\n",
    "# Absolute imports for Hydrogen (Jupyter Kernel) compatibility\n",
    "import shared.config as config\n",
    "import logging\n",
    "logger = logging.getLogger()\n",
    "\n",
    "\n",
    "fullfilename = '/input/images/DC014_Doelenstraat/L Fotos/Hout/DC14_P00_H0000_701_2.JPG'\n",
    "dir = '/output/tijdelijk/'"
   ]
  },
  {
   "cell_type": "code",
   "execution_count": 7,
   "id": "8d17872c-c654-4b6a-82e3-24a89010ae1f",
   "metadata": {},
   "outputs": [],
   "source": [
    "def getAnalyseCollection():   \n",
    "    myclient = pymongo.MongoClient(str(config.MONGO_URI))\n",
    "    analyseDb = myclient[str(config.DB_ANALYSE)]\n",
    "    return analyseDb[config.COLL_ANALYSE]\n",
    "\n",
    "def getAnalyseCleanCollection():   \n",
    "    myclient = pymongo.MongoClient(str(config.MONGO_URI))\n",
    "    analyseDb = myclient[str(config.DB_ANALYSE)]\n",
    "    return analyseDb[config.COLL_ANALYSE_CLEAN]\n",
    "\n",
    "\n",
    "def setReferences(soort, col='analyse', key='key', refkey=None):\n",
    "    try:\n",
    "        if (col == 'analyse'):\n",
    "            collection = getAnalyseCollection()\n",
    "        elif (col == 'analyseclean'):\n",
    "            collection = getAnalyseCleanCollection()\n",
    "        else:\n",
    "            raise ValueError('Error: Herkent de collectie niet met naam ' + col)\n",
    "\n",
    "        soort_lw = soort.lower()\n",
    "        \n",
    "        # Find all main entries for type soort\n",
    "        soort_query = {'soort': soort}\n",
    "        if soort == 'Tekening':\n",
    "            soort_query = {'soort': 'Foto', 'tekeningcd': {'$exists': True}}\n",
    "\n",
    "        df_soort = pd.DataFrame(list(collection.find(soort_query, projection={key:1, 'ID':1})))\n",
    "        df_soort = df_soort.rename(columns={'_id': soort_lw+'UUID', 'index':soort_lw+'ID', key:'key_'+soort_lw})\n",
    "        if df_soort.size < 1:\n",
    "            logger.warning(\"Er zjn geen documents gevonden van het type \" +soort)\n",
    "            return\n",
    "\n",
    "        if not 'key_'+soort_lw in df_soort.columns:\n",
    "            logger.warning(\"Kan geen referenties maken voor \" +soort + \". Geen Key-veld aanwezig.\")\n",
    "            return\n",
    "\n",
    "        # Find all references to type soort\n",
    "        if refkey:\n",
    "            df_ref = pd.DataFrame(list(collection.find({refkey: {\"$exists\": True}}, projection={refkey:1})))\n",
    "            df_ref = df_ref.rename(columns={refkey: 'key_'+soort_lw})\n",
    "        else:\n",
    "            df_ref = pd.DataFrame(list(collection.find({\"key_\"+soort_lw: {\"$exists\": True}}, projection={'key_'+soort_lw:1})))\n",
    "        if df_ref.size < 1:\n",
    "            logger.warning(\"Er zjn geen referentie met key_\"+soort_lw+\" gevonden naar documents van het type \" +soort )\n",
    "            return\n",
    "            \n",
    "        # Merge dataframes to connect ID's en UUID's to referencing docs\n",
    "        df_merge = pd.merge(df_ref, df_soort, how='left', on='key_'+soort_lw).rename(columns={'ID': soort_lw + 'ID'})\n",
    "        \n",
    "        # Update soort documents \n",
    "        updates=[ UpdateOne({'_id':x['_id']}, {'$set':x}) for x in [v.dropna().to_dict() for k,v in df_merge.iterrows()]] # \n",
    "        result = collection.bulk_write(updates)\n",
    "\n",
    "        return result.bulk_api_result\n",
    "        \n",
    "    except Exception as err:\n",
    "        msg = \"Onbekende fout bij het aanroepen van een aggregation met melding: \" + str(err)\n",
    "        logger.error(msg)   \n",
    "        raise Exception(msg) from err\n",
    " \n",
    "    finally:\n",
    "        collection.database.client.close()\n"
   ]
  },
  {
   "cell_type": "code",
   "execution_count": 9,
   "id": "332e5811-0fcb-45a0-9fec-52b9ea41f5c9",
   "metadata": {},
   "outputs": [
    {
     "data": {
      "text/plain": [
       "{'writeErrors': [],\n",
       " 'writeConcernErrors': [],\n",
       " 'nInserted': 0,\n",
       " 'nUpserted': 0,\n",
       " 'nMatched': 110094,\n",
       " 'nModified': 110094,\n",
       " 'nRemoved': 0,\n",
       " 'upserted': []}"
      ]
     },
     "execution_count": 9,
     "metadata": {},
     "output_type": "execute_result"
    }
   ],
   "source": [
    "setReferences('ABR', col='analyseclean', refkey='key_abr_materiaal')"
   ]
  },
  {
   "cell_type": "code",
   "execution_count": null,
   "id": "95984380-20d7-4f56-bd30-6d387803e43c",
   "metadata": {},
   "outputs": [],
   "source": []
  }
 ],
 "metadata": {
  "kernelspec": {
   "display_name": "Python 3 (ipykernel)",
   "language": "python",
   "name": "python3"
  },
  "language_info": {
   "codemirror_mode": {
    "name": "ipython",
    "version": 3
   },
   "file_extension": ".py",
   "mimetype": "text/x-python",
   "name": "python",
   "nbconvert_exporter": "python",
   "pygments_lexer": "ipython3",
   "version": "3.10.6"
  }
 },
 "nbformat": 4,
 "nbformat_minor": 5
}
