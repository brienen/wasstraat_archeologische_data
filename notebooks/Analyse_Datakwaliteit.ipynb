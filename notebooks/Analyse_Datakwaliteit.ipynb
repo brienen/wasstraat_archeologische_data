{
 "cells": [
  {
   "cell_type": "code",
   "execution_count": 1,
   "metadata": {},
   "outputs": [],
   "source": [
    "import config\n",
    "import pymongo\n",
    "import numpy as np\n",
    "import pandas as pd\n",
    "import json\n",
    "import re\n",
    "\n",
    "from pandas_profiling import ProfileReport\n",
    "from ipywidgets import interact, Dropdown"
   ]
  },
  {
   "cell_type": "code",
   "execution_count": 2,
   "metadata": {},
   "outputs": [],
   "source": [
    "myclient = pymongo.MongoClient(str(config.MONGO_URI))\n",
    "stagingDb = myclient[str(config.DB_STAGING)]\n",
    "analyseDb = myclient[str(config.DB_ANALYSE)]\n",
    "stagingCol = stagingDb[config.COLL_PLAATJES]\n",
    "stagingOud = stagingDb[config.COLL_STAGING_OUD]\n",
    "stagingNieuw = stagingDb[config.COLL_STAGING_NIEUW]\n",
    "analyseCol = analyseDb[config.COLL_ANALYSE]\n",
    "analyseColClean = analyseDb[config.COLL_ANALYSE_CLEAN]\n",
    "metaCollection = stagingDb['Kolominformatie']"
   ]
  },
  {
   "cell_type": "code",
   "execution_count": 3,
   "metadata": {},
   "outputs": [
    {
     "data": {
      "application/vnd.jupyter.widget-view+json": {
       "model_id": "74e14267699c41e88bf047b81c9fdcff",
       "version_major": 2,
       "version_minor": 0
      },
      "text/plain": [
       "interactive(children=(Dropdown(description='col', options=('SingleStore', 'SingleStoreClean'), value='SingleSt…"
      ]
     },
     "metadata": {},
     "output_type": "display_data"
    }
   ],
   "source": [
    "colW = Dropdown(options = ['SingleStore', 'SingleStoreClean'])\n",
    "objW = Dropdown()\n",
    "\n",
    "lst = list(analyseColClean.distinct(\"soort\"))\n",
    "Objecten_lst = Dropdown(options = sorted(lst))\n",
    "\n",
    "@interact(col = colW, obj = objW)\n",
    "def print_city(col, obj):\n",
    "    ds = analyseColClean if col == 'SingleStoreClean' else analyseCol \n",
    "    objW.options = list(ds.distinct(\"soort\"))\n",
    "    \n",
    "    df = pd.DataFrame(list(ds.find({\"soort\": obj})))\n",
    "    profile = ProfileReport(df, title=\"Pandas Profiling Report\", explorative=True)\n",
    "    profile.to_notebook_iframe()\n"
   ]
  },
  {
   "cell_type": "code",
   "execution_count": null,
   "metadata": {},
   "outputs": [],
   "source": []
  }
 ],
 "metadata": {
  "kernelspec": {
   "display_name": "Python 3",
   "language": "python",
   "name": "python3"
  },
  "language_info": {
   "codemirror_mode": {
    "name": "ipython",
    "version": 3
   },
   "file_extension": ".py",
   "mimetype": "text/x-python",
   "name": "python",
   "nbconvert_exporter": "python",
   "pygments_lexer": "ipython3",
   "version": "3.8.6"
  }
 },
 "nbformat": 4,
 "nbformat_minor": 4
}
