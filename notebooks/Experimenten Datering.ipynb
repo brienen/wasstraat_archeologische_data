{
 "cells": [
  {
   "cell_type": "code",
   "execution_count": 19,
   "metadata": {},
   "outputs": [],
   "source": [
    "import shared.config as config\n",
    "import pymongo\n",
    "import numpy as np\n",
    "import pandas as pd\n",
    "import json\n",
    "import re\n",
    "import simplejson\n",
    "from math import isnan\n",
    "import ast\n",
    "import sys\n",
    "import roman\n",
    "#import attributes\n",
    "\n",
    "import sqlalchemy as db\n",
    "from sqlalchemy.orm import sessionmaker\n",
    "from sqlalchemy import create_engine, inspect\n",
    "from sqlalchemy.engine import reflection\n",
    "from sqlalchemy.types import VARCHAR\n",
    "\n",
    "from pandas_profiling import ProfileReport\n",
    "from ipywidgets import interact, Dropdown\n",
    "\n",
    "import timeperiod2daterange\n",
    "#import attributes\n",
    "\n",
    "from bson.objectid import ObjectId"
   ]
  },
  {
   "cell_type": "code",
   "execution_count": 20,
   "metadata": {},
   "outputs": [],
   "source": [
    "myclient = pymongo.MongoClient(config.MONGO_URI)\n",
    "stagingDb = myclient[config.DB_STAGING]\n",
    "analyseDb = myclient[config.DB_ANALYSE]\n",
    "stagingCol = stagingDb[config.COLL_PLAATJES]\n",
    "stagingOud = stagingDb[config.COLL_STAGING_OUD]\n",
    "stagingNieuw = stagingDb[config.COLL_STAGING_NIEUW]\n",
    "analyseCol = analyseDb[config.COLL_ANALYSE]\n",
    "analyseColClean = analyseDb[config.COLL_ANALYSE_CLEAN]\n",
    "metaCollection = stagingDb['Kolominformatie']\n"
   ]
  },
  {
   "cell_type": "code",
   "execution_count": 27,
   "metadata": {},
   "outputs": [
    {
     "data": {
      "text/html": [
       "<div>\n",
       "<style scoped>\n",
       "    .dataframe tbody tr th:only-of-type {\n",
       "        vertical-align: middle;\n",
       "    }\n",
       "\n",
       "    .dataframe tbody tr th {\n",
       "        vertical-align: top;\n",
       "    }\n",
       "\n",
       "    .dataframe thead th {\n",
       "        text-align: right;\n",
       "    }\n",
       "</style>\n",
       "<table border=\"1\" class=\"dataframe\">\n",
       "  <thead>\n",
       "    <tr style=\"text-align: right;\">\n",
       "      <th></th>\n",
       "    </tr>\n",
       "  </thead>\n",
       "  <tbody>\n",
       "  </tbody>\n",
       "</table>\n",
       "</div>"
      ],
      "text/plain": [
       "Empty DataFrame\n",
       "Columns: []\n",
       "Index: []"
      ]
     },
     "execution_count": 27,
     "metadata": {},
     "output_type": "execute_result"
    }
   ],
   "source": [
    "#grp_aggr = [{\"$match\" : {'soort': 'Artefact', '_id': ObjectId('62aa1843288d4dfe4c78f511')}}]\n",
    "grp_aggr = [{\"$match\" : {'soort': 'Artefact', 'vondstID': {'$exists': True}}}]\n",
    "df_artf = pd.DataFrame(list(analyseCol.aggregate(grp_aggr)))\n",
    "#df_artf.loc[df_artf['brondata'].notnull() & df_artf.brondata.str.contains('VONDST', case=False)]\n",
    "#df_artf['brondata']\n",
    "df_artf"
   ]
  },
  {
   "cell_type": "code",
   "execution_count": 7,
   "metadata": {},
   "outputs": [
    {
     "name": "stdout",
     "output_type": "stream",
     "text": [
      "Fout bij omzetten romeinse waarde naar getal: <> met melding: string index out of range\n",
      "Fout bij omzetten romeinse waarde naar getal: <> met melding: string index out of range\n",
      "Fout bij omzetten romeinse waarde naar getal: <> met melding: string index out of range\n",
      "Fout bij omzetten romeinse waarde naar getal: <> met melding: string index out of range\n",
      "Fout bij omzetten romeinse waarde naar getal: <> met melding: string index out of range\n",
      "Fout bij omzetten romeinse waarde naar getal: <> met melding: string index out of range\n",
      "Fout bij omzetten romeinse waarde naar getal: <> met melding: string index out of range\n",
      "Fout bij omzetten romeinse waarde naar getal: <> met melding: string index out of range\n",
      "Fout bij omzetten romeinse waarde naar getal: <> met melding: string index out of range\n",
      "Fout bij omzetten romeinse waarde naar getal: <> met melding: string index out of range\n",
      "Fout bij omzetten romeinse waarde naar getal: <> met melding: string index out of range\n",
      "Fout bij omzetten romeinse waarde naar getal: <> met melding: string index out of range\n",
      "Fout bij omzetten romeinse waarde naar getal: <> met melding: string index out of range\n",
      "Fout bij omzetten romeinse waarde naar getal: <> met melding: string index out of range\n",
      "Fout bij omzetten romeinse waarde naar getal: <> met melding: string index out of range\n"
     ]
    },
    {
     "data": {
      "text/html": [
       "<div>\n",
       "<style scoped>\n",
       "    .dataframe tbody tr th:only-of-type {\n",
       "        vertical-align: middle;\n",
       "    }\n",
       "\n",
       "    .dataframe tbody tr th {\n",
       "        vertical-align: top;\n",
       "    }\n",
       "\n",
       "    .dataframe thead tr th {\n",
       "        text-align: left;\n",
       "    }\n",
       "</style>\n",
       "<table border=\"1\" class=\"dataframe\">\n",
       "  <thead>\n",
       "    <tr>\n",
       "      <th></th>\n",
       "      <th>datering_origineel</th>\n",
       "      <th>nieuw</th>\n",
       "      <th>datering_origineel</th>\n",
       "    </tr>\n",
       "    <tr>\n",
       "      <th></th>\n",
       "      <th></th>\n",
       "      <th></th>\n",
       "      <th>count</th>\n",
       "    </tr>\n",
       "  </thead>\n",
       "  <tbody>\n",
       "    <tr>\n",
       "      <th>0</th>\n",
       "      <td>1</td>\n",
       "      <td>(100, 100)</td>\n",
       "      <td>12</td>\n",
       "    </tr>\n",
       "    <tr>\n",
       "      <th>1</th>\n",
       "      <td>2</td>\n",
       "      <td>(200, 200)</td>\n",
       "      <td>12</td>\n",
       "    </tr>\n",
       "    <tr>\n",
       "      <th>2</th>\n",
       "      <td>3</td>\n",
       "      <td>(300, 300)</td>\n",
       "      <td>12</td>\n",
       "    </tr>\n",
       "    <tr>\n",
       "      <th>3</th>\n",
       "      <td>4</td>\n",
       "      <td>(400, 400)</td>\n",
       "      <td>12</td>\n",
       "    </tr>\n",
       "    <tr>\n",
       "      <th>4</th>\n",
       "      <td>5</td>\n",
       "      <td>(500, 500)</td>\n",
       "      <td>12</td>\n",
       "    </tr>\n",
       "    <tr>\n",
       "      <th>...</th>\n",
       "      <td>...</td>\n",
       "      <td>...</td>\n",
       "      <td>...</td>\n",
       "    </tr>\n",
       "    <tr>\n",
       "      <th>497</th>\n",
       "      <td>voor 1525</td>\n",
       "      <td>(1525, 1525)</td>\n",
       "      <td>3</td>\n",
       "    </tr>\n",
       "    <tr>\n",
       "      <th>498</th>\n",
       "      <td>voor 1600</td>\n",
       "      <td>(1600, 1600)</td>\n",
       "      <td>3</td>\n",
       "    </tr>\n",
       "    <tr>\n",
       "      <th>499</th>\n",
       "      <td>waarschijnlijk XIII-XIV</td>\n",
       "      <td>(1400, 1400)</td>\n",
       "      <td>2</td>\n",
       "    </tr>\n",
       "    <tr>\n",
       "      <th>500</th>\n",
       "      <td>xxxx-xxxx</td>\n",
       "      <td>False</td>\n",
       "      <td>10</td>\n",
       "    </tr>\n",
       "    <tr>\n",
       "      <th>501</th>\n",
       "      <td>± 1400</td>\n",
       "      <td>(1400, 1400)</td>\n",
       "      <td>5</td>\n",
       "    </tr>\n",
       "  </tbody>\n",
       "</table>\n",
       "<p>502 rows × 3 columns</p>\n",
       "</div>"
      ],
      "text/plain": [
       "          datering_origineel         nieuw datering_origineel\n",
       "                                                        count\n",
       "0                          1    (100, 100)                 12\n",
       "1                          2    (200, 200)                 12\n",
       "2                          3    (300, 300)                 12\n",
       "3                          4    (400, 400)                 12\n",
       "4                          5    (500, 500)                 12\n",
       "..                       ...           ...                ...\n",
       "497                voor 1525  (1525, 1525)                  3\n",
       "498                voor 1600  (1600, 1600)                  3\n",
       "499  waarschijnlijk XIII-XIV  (1400, 1400)                  2\n",
       "500                xxxx-xxxx         False                 10\n",
       "501                   ± 1400  (1400, 1400)                  5\n",
       "\n",
       "[502 rows x 3 columns]"
      ]
     },
     "execution_count": 7,
     "metadata": {},
     "output_type": "execute_result"
    }
   ],
   "source": [
    "df = pd.concat([df_vondst[['datering_origineel', 'nieuw']].copy(), df_spoor[['datering_origineel', 'nieuw']].copy(), df_artf[['datering_origineel', 'nieuw']].copy()])\n",
    "df['nieuw'] = df.apply(lambda x: str(fixDatering(x['datering_origineel'])), axis=1)\n",
    "\n",
    "grp_df = df.groupby(['datering_origineel', 'nieuw']).agg({'datering_origineel': ['count']}).reset_index()\n",
    "grp_df\n"
   ]
  },
  {
   "cell_type": "code",
   "execution_count": 8,
   "metadata": {},
   "outputs": [],
   "source": [
    "grp_df.to_excel('datering.xlsx')"
   ]
  },
  {
   "cell_type": "code",
   "execution_count": 9,
   "metadata": {},
   "outputs": [
    {
     "data": {
      "text/plain": [
       "(1500, 1500)"
      ]
     },
     "execution_count": 9,
     "metadata": {},
     "output_type": "execute_result"
    }
   ],
   "source": [
    "fixDatering('15th century')"
   ]
  },
  {
   "cell_type": "code",
   "execution_count": 10,
   "metadata": {},
   "outputs": [
    {
     "data": {
      "text/plain": [
       "[1600, 1699]"
      ]
     },
     "execution_count": 10,
     "metadata": {},
     "output_type": "execute_result"
    }
   ],
   "source": [
    "timeperiod2daterange.detection2daterange('17e eeuw')"
   ]
  },
  {
   "cell_type": "code",
   "execution_count": null,
   "metadata": {},
   "outputs": [],
   "source": []
  }
 ],
 "metadata": {
  "kernelspec": {
   "display_name": "Python 3 (ipykernel)",
   "language": "python",
   "name": "python3"
  },
  "language_info": {
   "codemirror_mode": {
    "name": "ipython",
    "version": 3
   },
   "file_extension": ".py",
   "mimetype": "text/x-python",
   "name": "python",
   "nbconvert_exporter": "python",
   "pygments_lexer": "ipython3",
   "version": "3.10.6"
  }
 },
 "nbformat": 4,
 "nbformat_minor": 4
}
