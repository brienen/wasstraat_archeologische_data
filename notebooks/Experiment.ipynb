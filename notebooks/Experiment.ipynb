{
 "cells": [
  {
   "cell_type": "code",
   "execution_count": 1,
   "metadata": {},
   "outputs": [],
   "source": [
    "import config\n",
    "import pymongo\n",
    "import numpy as np\n",
    "import pandas as pd\n",
    "import json\n",
    "import re\n",
    "\n",
    "from pandas_profiling import ProfileReport\n",
    "from ipywidgets import interact, Dropdown"
   ]
  },
  {
   "cell_type": "code",
   "execution_count": 2,
   "metadata": {},
   "outputs": [],
   "source": [
    "myclient = pymongo.MongoClient(str(config.MONGO_URI))\n",
    "stagingDb = myclient[str(config.DB_STAGING)]\n",
    "analyseDb = myclient[str(config.DB_ANALYSE)]\n",
    "stagingCol = stagingDb[config.COLL_PLAATJES]\n",
    "stagingOud = stagingDb[config.COLL_STAGING_OUD]\n",
    "stagingNieuw = stagingDb[config.COLL_STAGING_NIEUW]\n",
    "analyseCol = analyseDb[config.COLL_ANALYSE]\n",
    "analyseColClean = analyseDb[config.COLL_ANALYSE_CLEAN]\n",
    "metaCollection = stagingDb['Kolominformatie']"
   ]
  },
  {
   "cell_type": "code",
   "execution_count": 6,
   "metadata": {},
   "outputs": [
    {
     "data": {
      "text/plain": [
       "[]"
      ]
     },
     "execution_count": 6,
     "metadata": {},
     "output_type": "execute_result"
    }
   ],
   "source": [
    "from pathlib import Path\n",
    "result = list(Path(\"./basefiles\").rglob(\"*.[tjJ][pP][gG]\"))\n",
    "result"
   ]
  },
  {
   "cell_type": "code",
   "execution_count": 29,
   "metadata": {},
   "outputs": [
    {
     "data": {
      "text/plain": [
       "array([\"./basefiles/DC72 H (Objectfoto's)/Aardewerk/DC72_P01_H0001_52_1.jpg\",\n",
       "       \"./basefiles/DC72 H (Objectfoto's)/Aardewerk/DC72_P01_H0001_52_2.jpg\",\n",
       "       \"./basefiles/DC72 H (Objectfoto's)/Aardewerk/DC72_P01_H0001_53_1.jpg\",\n",
       "       \"./basefiles/DC72 H (Objectfoto's)/Aardewerk/DC72_P01_H0001_53_2.jpg\",\n",
       "       \"./basefiles/DC72 H (Objectfoto's)/Aardewerk/DC72_P01_H0001_53_4.jpg\",\n",
       "       \"./basefiles/DC72 H (Objectfoto's)/Aardewerk/DC72_P01_H0001_53_5.jpg\",\n",
       "       \"./basefiles/DC72 H (Objectfoto's)/Aardewerk/DC72_P01_H0001_56_1.jpg\",\n",
       "       \"./basefiles/DC72 H (Objectfoto's)/Aardewerk/DC72_P01_H0001_57_1.jpg\",\n",
       "       \"./basefiles/DC72 H (Objectfoto's)/Aardewerk/DC72_P01_H0001_57_2.jpg\",\n",
       "       \"./basefiles/DC72 H (Objectfoto's)/Aardewerk/DC72_P01_H0001_58_1.jpg\",\n",
       "       \"./basefiles/DC72 H (Objectfoto's)/Aardewerk/DC72_P01_H0001_58_2.jpg\",\n",
       "       \"./basefiles/DC72 H (Objectfoto's)/Aardewerk/DC72_P01_H0001_58_3.jpg\",\n",
       "       \"./basefiles/DC72 H (Objectfoto's)/Aardewerk/DC72_P01_H0001_58_4.jpg\",\n",
       "       \"./basefiles/DC72 H (Objectfoto's)/Aardewerk/DC72_P01_H0001_58_5.jpg\",\n",
       "       \"./basefiles/DC72 H (Objectfoto's)/Aardewerk/DC72_P01_H0001_59_1.jpg\",\n",
       "       \"./basefiles/DC72 H (Objectfoto's)/Aardewerk/DC72_P01_H0001_59_2.jpg\",\n",
       "       \"./basefiles/DC72 H (Objectfoto's)/Aardewerk/DC72_P01_H0001_60_1.jpg\",\n",
       "       \"./basefiles/DC72 H (Objectfoto's)/Aardewerk/DC72_P01_H0001_60_2.jpg\",\n",
       "       \"./basefiles/DC72 H (Objectfoto's)/Aardewerk/DC72_P01_H0001_61_1.jpg\",\n",
       "       \"./basefiles/DC72 H (Objectfoto's)/Aardewerk/DC72_P01_H0001_61_2.jpg\",\n",
       "       \"./basefiles/DC72 H (Objectfoto's)/Aardewerk/DC72_P01_H0001_62_1.jpg\",\n",
       "       \"./basefiles/DC72 H (Objectfoto's)/Aardewerk/DC72_P01_H0001_62_2.jpg\",\n",
       "       \"./basefiles/DC72 H (Objectfoto's)/Aardewerk/DC72_P01_H0001_62_3.jpg\",\n",
       "       \"./basefiles/DC72 H (Objectfoto's)/Aardewerk/DC72_P01_H0001_62_4.jpg\",\n",
       "       \"./basefiles/DC72 H (Objectfoto's)/Aardewerk/DC72_P01_H0001_63_1.jpg\",\n",
       "       \"./basefiles/DC72 H (Objectfoto's)/Aardewerk/DC72_P01_H0001_63_2.jpg\",\n",
       "       \"./basefiles/DC72 H (Objectfoto's)/Aardewerk/DC72_P01_H0001_63_3.jpg\",\n",
       "       \"./basefiles/DC72 H (Objectfoto's)/Aardewerk/DC72_P01_H0001_65_1.jpg\",\n",
       "       \"./basefiles/DC72 H (Objectfoto's)/Aardewerk/DC72_P01_H0001_65_2.jpg\",\n",
       "       \"./basefiles/DC72 H (Objectfoto's)/Aardewerk/DC72_P01_H0001_69_1.jpg\",\n",
       "       \"./basefiles/DC72 H (Objectfoto's)/Aardewerk/DC72_P01_H0001_69_2.jpg\",\n",
       "       \"./basefiles/DC72 H (Objectfoto's)/Aardewerk/DC72_P01_H0001_70_1.jpg\",\n",
       "       \"./basefiles/DC72 H (Objectfoto's)/Aardewerk/DC72_P01_H0001_71_1.jpg\",\n",
       "       \"./basefiles/DC72 H (Objectfoto's)/Aardewerk/DC72_P01_H0001_71_2.jpg\",\n",
       "       \"./basefiles/DC72 H (Objectfoto's)/Aardewerk/DC72_P01_H0001_71_3.jpg\",\n",
       "       \"./basefiles/DC72 H (Objectfoto's)/Aardewerk/DC72_P01_H0001_71_4.jpg\",\n",
       "       \"./basefiles/DC72 H (Objectfoto's)/Aardewerk/DC72_P01_H0001_75_1.jpg\",\n",
       "       \"./basefiles/DC72 H (Objectfoto's)/Glas/DC72_PXX_HXXXX_X_1.jpg\",\n",
       "       \"./basefiles/DC72 H (Objectfoto's)/Glas/DC72_PXX_HXXXX_X_2.jpg\",\n",
       "       './basefiles/fotos/DC11_H0000_0_1.jpg',\n",
       "       './basefiles/fotos/DC11_H0000_0_2.jpg',\n",
       "       './basefiles/fotos/DC11_H0000_0_3.jpg',\n",
       "       './basefiles/fotos/DC11_H0000_0_4.jpg',\n",
       "       './basefiles/fotos/DC11_H0051_00_1.jpg',\n",
       "       './basefiles/fotos/DC11_P01_H0000_701_1.JPG',\n",
       "       \"./basefiles/fotos/DB34 H (Objectfoto's)/DB34 H (Objectfoto's)/Aardewerk/DB34_P10_H0113_X_1.jpg\",\n",
       "       \"./basefiles/fotos/DB34 H (Objectfoto's)/DB34 H (Objectfoto's)/Aardewerk/DB34_P10_H0113_X_3.jpg\",\n",
       "       \"./basefiles/fotos/DB34 H (Objectfoto's)/DB34 H (Objectfoto's)/Aardewerk/DB34_P10_H0127_25_1.jpg\",\n",
       "       \"./basefiles/fotos/DB34 H (Objectfoto's)/DB34 H (Objectfoto's)/Aardewerk/DB34_P10_H0230_214_1.jpg\",\n",
       "       \"./basefiles/fotos/DB34 H (Objectfoto's)/DB34 H (Objectfoto's)/Aardewerk/DB34_P10_H0230_214_2.jpg\",\n",
       "       \"./basefiles/fotos/DB34 H (Objectfoto's)/DB34 H (Objectfoto's)/Aardewerk/DB34_P10_H0230_214_4.jpg\",\n",
       "       \"./basefiles/fotos/DB34 H (Objectfoto's)/DB34 H (Objectfoto's)/Aardewerk/DB34_P10_H0230_216_2.jpg\",\n",
       "       \"./basefiles/fotos/DB34 H (Objectfoto's)/DB34 H (Objectfoto's)/Aardewerk/DB34_P10_H0230_216_3.jpg\",\n",
       "       \"./basefiles/fotos/DB34 H (Objectfoto's)/DB34 H (Objectfoto's)/Aardewerk/DB34_P10_H0230_216_4.jpg\",\n",
       "       \"./basefiles/fotos/DB34 H (Objectfoto's)/DB34 H (Objectfoto's)/Aardewerk/DB34_P10_H0385_213_1.jpg\",\n",
       "       \"./basefiles/fotos/DB34 H (Objectfoto's)/DB34 H (Objectfoto's)/Aardewerk/DB34_P10_H0385_213_2.jpg\",\n",
       "       \"./basefiles/fotos/DB34 H (Objectfoto's)/DB34 H (Objectfoto's)/Aardewerk/DB34_P10_H0418_249_1.jpg\",\n",
       "       \"./basefiles/fotos/DB34 H (Objectfoto's)/DB34 H (Objectfoto's)/Aardewerk/DB34_P10_H0418_249_2.jpg\",\n",
       "       \"./basefiles/fotos/DB34 H (Objectfoto's)/DB34 H (Objectfoto's)/Aardewerk/DB34_P10_H0418_249_3.jpg\",\n",
       "       \"./basefiles/fotos/DB34 H (Objectfoto's)/DB34 H (Objectfoto's)/Aardewerk/DB34_P10_H0418_249_5.jpg\",\n",
       "       \"./basefiles/fotos/DB34 H (Objectfoto's)/DB34 H (Objectfoto's)/Aardewerk/DB34_P10_H0418_249_6.jpg\",\n",
       "       \"./basefiles/fotos/DB34 H (Objectfoto's)/DB34 H (Objectfoto's)/Aardewerk/DB34_P10_H0418_249_7.jpg\",\n",
       "       \"./basefiles/fotos/DB34 H (Objectfoto's)/DB34 H (Objectfoto's)/Aardewerk/DB34_P10_H0418_249_8.jpg\",\n",
       "       \"./basefiles/fotos/DB34 H (Objectfoto's)/DB34 H (Objectfoto's)/Aardewerk/DB34_P10_H0420_111_1.jpg\",\n",
       "       \"./basefiles/fotos/DB34 H (Objectfoto's)/DB34 H (Objectfoto's)/Aardewerk/DB34_P10_H0420_111_2.jpg\",\n",
       "       \"./basefiles/fotos/DB34 H (Objectfoto's)/DB34 H (Objectfoto's)/Aardewerk/DB34_P10_H0420_111_3.jpg\",\n",
       "       \"./basefiles/fotos/DB34 H (Objectfoto's)/DB34 H (Objectfoto's)/Aardewerk/DB34_P10_H0420_111_4.jpg\",\n",
       "       \"./basefiles/fotos/DB34 H (Objectfoto's)/DB34 H (Objectfoto's)/Aardewerk/DB34_P10_H0420_21_1.jpg\",\n",
       "       \"./basefiles/fotos/DB34 H (Objectfoto's)/DB34 H (Objectfoto's)/Aardewerk/DB34_P10_H0420_247_1.jpg\",\n",
       "       \"./basefiles/fotos/DB34 H (Objectfoto's)/DB34 H (Objectfoto's)/Aardewerk/DB34_P10_H0420_247_2.jpg\",\n",
       "       \"./basefiles/fotos/DB34 H (Objectfoto's)/DB34 H (Objectfoto's)/Aardewerk/DB34_P10_H0420_247_4.jpg\",\n",
       "       \"./basefiles/fotos/DB34 H (Objectfoto's)/DB34 H (Objectfoto's)/Aardewerk/DB34_P10_H0420_27_1.jpg\",\n",
       "       \"./basefiles/fotos/DB34 H (Objectfoto's)/DB34 H (Objectfoto's)/Aardewerk/DB34_P10_H0421_153_1.jpg\"],\n",
       "      dtype='<U99')"
      ]
     },
     "execution_count": 29,
     "metadata": {},
     "output_type": "execute_result"
    }
   ],
   "source": [
    "import os\n",
    "result = [os.path.join(dp, f) for dp, dn, filenames in os.walk(\"./basefiles\") for f in filenames if os.path.splitext(f)[1].lower() in [\".jpg\",\".gif\",\".png\",\".tga\"]]\n",
    "result\n",
    "\n",
    "import numpy as np\n",
    "arrs = np.array_split(result, 20)\n",
    "arrs[0]\n",
    "\n"
   ]
  },
  {
   "cell_type": "code",
   "execution_count": 30,
   "metadata": {},
   "outputs": [
    {
     "data": {
      "text/plain": [
       "(\"./basefiles/DC72 H (Objectfoto's)/Aardewerk/DC72_P01_H0001_52_1\", '.jpg')"
      ]
     },
     "execution_count": 30,
     "metadata": {},
     "output_type": "execute_result"
    }
   ],
   "source": [
    "os.path.splitext(\"./basefiles/DC72 H (Objectfoto's)/Aardewerk/DC72_P01_H0001_52_1.jpg\")"
   ]
  },
  {
   "cell_type": "code",
   "execution_count": 32,
   "metadata": {},
   "outputs": [
    {
     "data": {
      "text/plain": [
       "\"./basefiles/DC72 H (Objectfoto's)/Aardewerk\""
      ]
     },
     "execution_count": 32,
     "metadata": {},
     "output_type": "execute_result"
    }
   ],
   "source": [
    "os.path.dirname(\"./basefiles/DC72 H (Objectfoto's)/Aardewerk/DC72_P01_H0001_52_1.jpg\")"
   ]
  },
  {
   "cell_type": "code",
   "execution_count": 38,
   "metadata": {},
   "outputs": [
    {
     "name": "stdout",
     "output_type": "stream",
     "text": [
      "./basefiles/fotos/DB34 H (Objectfoto's)/DB34 H (Objectfoto's)/Aardewerk\n",
      "./basefiles/fotos/DB34 H (Objectfoto's)/DB34 H (Objectfoto's)/Bot (Dierlijk)\n",
      "./basefiles/fotos/DB34 H (Objectfoto's)/DB34 H (Objectfoto's)/Bot (Menselijk)\n",
      "./basefiles/fotos/DB34 H (Objectfoto's)/DB34 H (Objectfoto's)/Bot (Vis)\n",
      "./basefiles/fotos/DB34 H (Objectfoto's)/DB34 H (Objectfoto's)/Glas\n",
      "./basefiles/fotos/DB34 H (Objectfoto's)/DB34 H (Objectfoto's)/Hout\n",
      "./basefiles/fotos/DB34 H (Objectfoto's)/DB34 H (Objectfoto's)/Leer\n",
      "./basefiles/fotos/DB34 H (Objectfoto's)/DB34 H (Objectfoto's)/Natuursteen\n",
      "./basefiles/fotos/DB34 H (Objectfoto's)/DB34 H (Objectfoto's)/Pijpaarden Beeldjes\n",
      "./basefiles/fotos/DB34 H (Objectfoto's)/DB34 H (Objectfoto's)/Pijpen\n",
      "./basefiles/fotos/DB34 H (Objectfoto's)/DB34 H (Objectfoto's)/Schelp\n",
      "./basefiles/fotos/DB34 H (Objectfoto's)/DB34 H (Objectfoto's)/Textiel\n",
      "./basefiles/fotos/DB34 H (Objectfoto's)/DB34 H (Objectfoto's)/Varia\n",
      "./basefiles/fotos/DB34 H (Objectfoto's)/DB34 H (Objectfoto's)\n",
      "./basefiles/fotos/DB34 H (Objectfoto's)\n",
      "./basefiles/fotos/DC181 L Foto's/F Sfeer\n",
      "./basefiles/fotos/DC181 L Foto's/G Veldwerk\n",
      "./basefiles/fotos/DC181 L Foto's/H Object/Aardewerk\n",
      "./basefiles/fotos/DC181 L Foto's/H Object/Bot (dierlijk)\n",
      "./basefiles/fotos/DC181 L Foto's/H Object/Bot (menselijk)\n",
      "./basefiles/fotos/DC181 L Foto's/H Object/Glas\n",
      "./basefiles/fotos/DC181 L Foto's/H Object/Hout\n",
      "./basefiles/fotos/DC181 L Foto's/H Object/Leer\n",
      "./basefiles/fotos/DC181 L Foto's/H Object/Metaal\n",
      "./basefiles/fotos/DC181 L Foto's/H Object/Natuursteen\n",
      "./basefiles/fotos/DC181 L Foto's/H Object/Pijpaarden beeldjes\n",
      "./basefiles/fotos/DC181 L Foto's/H Object/Pijpen\n",
      "./basefiles/fotos/DC181 L Foto's/H Object/Schelp\n",
      "./basefiles/fotos/DC181 L Foto's/H Object/Textiel\n",
      "./basefiles/fotos/DC181 L Foto's/H Object/Varia\n",
      "./basefiles/fotos/DC181 L Foto's/H Object\n",
      "./basefiles/fotos/DC181 L Foto's/Prullenbak\n",
      "./basefiles/fotos/DC181 L Foto's\n",
      "./basefiles/fotos/DC72 H (Objectfoto's)/Aardewerk\n",
      "./basefiles/fotos/DC72 H (Objectfoto's)/Bot (Dierlijk)\n",
      "./basefiles/fotos/DC72 H (Objectfoto's)/Bot (Menselijk)\n",
      "./basefiles/fotos/DC72 H (Objectfoto's)/Bot (Vis)\n",
      "./basefiles/fotos/DC72 H (Objectfoto's)/Glas\n",
      "./basefiles/fotos/DC72 H (Objectfoto's)/Hout\n",
      "./basefiles/fotos/DC72 H (Objectfoto's)/Leer\n",
      "./basefiles/fotos/DC72 H (Objectfoto's)/Metaal\n",
      "./basefiles/fotos/DC72 H (Objectfoto's)/Natuursteen\n",
      "./basefiles/fotos/DC72 H (Objectfoto's)/Pijpaarden Beeldjes\n",
      "./basefiles/fotos/DC72 H (Objectfoto's)/Pijpen\n",
      "./basefiles/fotos/DC72 H (Objectfoto's)/Schelp\n",
      "./basefiles/fotos/DC72 H (Objectfoto's)/Textiel\n",
      "./basefiles/fotos/DC72 H (Objectfoto's)/Varia\n",
      "./basefiles/fotos/DC72 H (Objectfoto's)\n",
      "./basefiles/fotos/DC93/B Arcview\n",
      "./basefiles/fotos/DC93/L Fotos/F (Sfeerfoto's)\n",
      "./basefiles/fotos/DC93/L Fotos/G (Opgravingsfoto's)\n",
      "./basefiles/fotos/DC93/L Fotos/H (Objectfoto's)/Bot (Dierlijk)\n",
      "./basefiles/fotos/DC93/L Fotos/H (Objectfoto's)/Natuursteen\n",
      "./basefiles/fotos/DC93/L Fotos/H (Objectfoto's)\n",
      "./basefiles/fotos/DC93/L Fotos\n",
      "./basefiles/fotos/DC93\n",
      "./basefiles/fotos/DC97/B Arcview\n",
      "./basefiles/fotos/DC97/L Fotos/F (Sfeerfoto's)\n",
      "./basefiles/fotos/DC97/L Fotos/G (Opgravingsfoto's)\n",
      "./basefiles/fotos/DC97/L Fotos/H (Objectfoto's)/Aardewerk\n",
      "./basefiles/fotos/DC97/L Fotos/H (Objectfoto's)/Glas\n",
      "./basefiles/fotos/DC97/L Fotos/H (Objectfoto's)/Hout\n",
      "./basefiles/fotos/DC97/L Fotos/H (Objectfoto's)/Leer\n",
      "./basefiles/fotos/DC97/L Fotos/H (Objectfoto's)/Metaal\n",
      "./basefiles/fotos/DC97/L Fotos/H (Objectfoto's)/Natuursteen\n",
      "./basefiles/fotos/DC97/L Fotos/H (Objectfoto's)/Pijpaarden Beeldjes/vnr nog opzoeken\n",
      "./basefiles/fotos/DC97/L Fotos/H (Objectfoto's)/Pijpaarden Beeldjes\n",
      "./basefiles/fotos/DC97/L Fotos/H (Objectfoto's)\n",
      "./basefiles/fotos/DC97/L Fotos\n",
      "./basefiles/fotos/DC97\n",
      "./basefiles/fotos/Digifoto's Projecten MET HYPERLINKS\n",
      "./basefiles/fotos/H (Objectfoto's)/Aardewerk\n",
      "./basefiles/fotos/H (Objectfoto's)/Bot (Dierlijk)\n",
      "./basefiles/fotos/H (Objectfoto's)/Bot (Menselijk)\n",
      "./basefiles/fotos/H (Objectfoto's)/Bot (Vis)\n",
      "./basefiles/fotos/H (Objectfoto's)/Glas\n",
      "./basefiles/fotos/H (Objectfoto's)/Hout\n",
      "./basefiles/fotos/H (Objectfoto's)/Leer\n",
      "./basefiles/fotos/H (Objectfoto's)/Metaal\n",
      "./basefiles/fotos/H (Objectfoto's)/Natuursteen\n",
      "./basefiles/fotos/H (Objectfoto's)/Pijpaarden Beeldjes\n",
      "./basefiles/fotos/H (Objectfoto's)/Pijpen\n",
      "./basefiles/fotos/H (Objectfoto's)/Schelp\n",
      "./basefiles/fotos/H (Objectfoto's)/Textiel\n",
      "./basefiles/fotos/H (Objectfoto's)/Varia\n",
      "./basefiles/fotos/H (Objectfoto's)\n",
      "./basefiles/fotos/\n"
     ]
    }
   ],
   "source": [
    "for root, dirs, files in os.walk(\"./basefiles/fotos/\", topdown=False):\n",
    "    print(root)"
   ]
  },
  {
   "cell_type": "code",
   "execution_count": null,
   "metadata": {},
   "outputs": [],
   "source": []
  }
 ],
 "metadata": {
  "kernelspec": {
   "display_name": "Python 3",
   "language": "python",
   "name": "python3"
  },
  "language_info": {
   "codemirror_mode": {
    "name": "ipython",
    "version": 3
   },
   "file_extension": ".py",
   "mimetype": "text/x-python",
   "name": "python",
   "nbconvert_exporter": "python",
   "pygments_lexer": "ipython3",
   "version": "3.8.6"
  }
 },
 "nbformat": 4,
 "nbformat_minor": 4
}
