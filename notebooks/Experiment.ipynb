{
 "cells": [
  {
   "cell_type": "code",
   "execution_count": 5,
   "metadata": {},
   "outputs": [],
   "source": [
    "import config\n",
    "import pymongo\n",
    "import numpy as np\n",
    "import pandas as pd\n",
    "import json\n",
    "import re\n",
    "import simplejson\n",
    "from math import isnan\n",
    "\n",
    "from pandas_profiling import ProfileReport\n",
    "from ipywidgets import interact, Dropdown"
   ]
  },
  {
   "cell_type": "code",
   "execution_count": 6,
   "metadata": {},
   "outputs": [],
   "source": [
    "myclient = pymongo.MongoClient(str(config.MONGO_URI))\n",
    "stagingDb = myclient[str(config.DB_STAGING)]\n",
    "analyseDb = myclient[str(config.DB_ANALYSE)]\n",
    "stagingCol = stagingDb[config.COLL_PLAATJES]\n",
    "stagingOud = stagingDb[config.COLL_STAGING_OUD]\n",
    "stagingNieuw = stagingDb[config.COLL_STAGING_NIEUW]\n",
    "analyseCol = analyseDb[config.COLL_ANALYSE]\n",
    "analyseColClean = analyseDb[config.COLL_ANALYSE_CLEAN]\n",
    "metaCollection = stagingDb['Kolominformatie']"
   ]
  },
  {
   "cell_type": "code",
   "execution_count": 13,
   "metadata": {},
   "outputs": [
    {
     "data": {
      "text/plain": [
       "['DB34']"
      ]
     },
     "execution_count": 13,
     "metadata": {},
     "output_type": "execute_result"
    }
   ],
   "source": [
    "aggr = [{\"$match\" : {\"soort\" : \"Vondst\"}},\n",
    "        {\"$group\" : {\"_id\" : {\"projectcd\" : \"$projectcd\",\"vondstnr\" : \"$vondstnr\"}, \"putnrs\" : {\"$addToSet\" : \"$putnr\"}}},\n",
    "        {\"$replaceRoot\" : {\"newRoot\" : {\"_id\" : 0,\"projectcd\" : \"$_id.projectcd\",\"aantal_put\" : {\"$size\" : \"$putnrs\"}}}},\n",
    "        {\"$match\" : {\"aantal_put\" : {\"$gt\" : 1.0}}},\n",
    "        {\"$group\" : {\"_id\" : \"$projectcd\"}},\n",
    "        {\"$replaceRoot\" : {\"newRoot\" : {\"projectcd\" : \"$_id\"}}}]\n",
    "\n",
    "\n",
    "list(pd.DataFrame(list(analyseCol.aggregate(aggr)))['projectcd'])"
   ]
  },
  {
   "cell_type": "code",
   "execution_count": 16,
   "metadata": {},
   "outputs": [],
   "source": [
    "aggr_vondstnr_not_unique = [{\"$match\" : {\"soort\" : \"Vondst\"}},\n",
    "        {\"$group\" : {\"_id\" : {\"projectcd\" : \"$projectcd\",\"vondstnr\" : \"$vondstnr\"}, \"putnrs\" : {\"$addToSet\" : \"$putnr\"}}},\n",
    "        {\"$replaceRoot\" : {\"newRoot\" : {\"_id\" : 0,\"projectcd\" : \"$_id.projectcd\",\"aantal_put\" : {\"$size\" : \"$putnrs\"}}}},\n",
    "        {\"$match\" : {\"aantal_put\" : {\"$gt\" : 1.0}}},\n",
    "        {\"$group\" : {\"_id\" : \"$projectcd\"}},\n",
    "        {\"$replaceRoot\" : {\"newRoot\" : {\"projectcd\" : \"$_id\"}}}]\n",
    "\n",
    "def setAndVondstUniqueInProject(col='analyse'):\n",
    "    try:        \n",
    "        if (col == 'analyse'):\n",
    "            collection = analyseCol\n",
    "        elif (col == 'analyseclean'):\n",
    "            collection = analyseColClean\n",
    "        else:\n",
    "            raise ValueError('Error: Herkent de collectie niet met naam ' + col)\n",
    "\n",
    "        lst_project = list(col.find({'soort': 'Artefact'}).distinct('projectcd'))\n",
    "        for proj in lst_project:\n",
    "            try:\n",
    "                df_art = pd.DataFrame(list(col.find({'soort': 'Artefact', 'projectcd': proj}, projection={'artefactnr':1}))).dropna()\n",
    "                unique = df_art['artefactnr'].is_unique\n",
    "                \n",
    "                project = col.find_one({ 'soort': \"project\", 'projectcd': proj })\n",
    "                project['artefactnrs_unique'] = unique\n",
    "                col.replace_one({'_id': project['_id']}, project)\n",
    "\n",
    "            except Exception as exp2:\n",
    "                logger.error(f'Error while determining whether artefactnr are unique for project {proj} with message: {str(exp2)} ')\n",
    "\n",
    "\n",
    "        lst_project = list(col.find({'soort': 'Project'}))\n",
    "        lst_vondst_in_multi_putten = list(pd.DataFrame(list(analyseCol.aggregate(aggr)))['projectcd'])\n",
    "        for project in lst_project:\n",
    "            try:\n",
    "                project['vondstnr_unique'] = False if project['projectcd'] in lst_vondst_in_multi_putten else True\n",
    "                col.replace_one({'_id': project['_id']}, project)\n",
    "\n",
    "            except Exception as exp2:\n",
    "                logger.error(f'Error while determining whether artefactnr and vondstnr are unique for project {proj} with message: {str(exp2)} ')\n",
    "    except Exception as exp1:\n",
    "        logger.error(f'Severe rrror while determining whether artefactnr and vondstnr are unique with message: {str(exp1)} ')\n"
   ]
  },
  {
   "cell_type": "code",
   "execution_count": null,
   "metadata": {},
   "outputs": [],
   "source": []
  }
 ],
 "metadata": {
  "kernelspec": {
   "display_name": "Python 3",
   "language": "python",
   "name": "python3"
  },
  "language_info": {
   "codemirror_mode": {
    "name": "ipython",
    "version": 3
   },
   "file_extension": ".py",
   "mimetype": "text/x-python",
   "name": "python",
   "nbconvert_exporter": "python",
   "pygments_lexer": "ipython3",
   "version": "3.8.6"
  }
 },
 "nbformat": 4,
 "nbformat_minor": 4
}
