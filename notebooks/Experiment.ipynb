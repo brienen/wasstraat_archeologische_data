{
 "cells": [
  {
   "cell_type": "code",
   "execution_count": 25,
   "metadata": {},
   "outputs": [],
   "source": [
    "import config\n",
    "\n",
    "HARMONIZE_PIPELINES = \"HARMONIZE_PIPELINES\"\n",
    "SET_REFERENCES_PIPELINES = \"SET_REFERENCES_PIPELINES\"\n",
    "EXTRA_FIELDS = 'extra_fields'"
   ]
  },
  {
   "cell_type": "code",
   "execution_count": 26,
   "metadata": {},
   "outputs": [],
   "source": [
    "def getHarmonizer(soort):\n",
    "    if soort == 'Spoor':\n",
    "         return  [\n",
    "            {\"$match\" : {\"table\" : {\"$in\" : [\"SPOOR\",\"SPOREN\"]}}}, \n",
    "            {\"$replaceRoot\" : {\"newRoot\" : {\"_id\" : \"$_id\", \"brondata\" : \"$$ROOT\"}}}, \n",
    "            {\"$addFields\" : { \n",
    "                \"soort\" : \"Spoor\", \n",
    "                \"projectcd\" : \"$brondata.project\"\n",
    "            }}]\n",
    "    elif soort == 'Put':\n",
    "         return  [\n",
    "            {\"$match\" : {\"table\" : {\"$in\" : [\"PUT\",\"PUTTEN\"]}}}, \n",
    "            {\"$replaceRoot\" : {\"newRoot\" : {\"_id\" : \"$_id\", \"brondata\" : \"$$ROOT\"}}}, \n",
    "            {\"$addFields\" : { \n",
    "                \"soort\" : \"Put\", \n",
    "                \"projectcd\" : \"$brondata.project\"\n",
    "            }}]\n",
    "    else:\n",
    "        return []\n",
    "    \n",
    "lst = [{\"Hallo\": \"Halo\"}, getHarmonizer(\"Spoor\")]"
   ]
  },
  {
   "cell_type": "code",
   "execution_count": 27,
   "metadata": {},
   "outputs": [
    {
     "data": {
      "text/plain": [
       "[{'$match': {'table': {'$in': ['SPOOR', 'SPOREN']}}},\n",
       " {'$replaceRoot': {'newRoot': {'_id': '$_id', 'brondata': '$$ROOT'}}},\n",
       " {'$addFields': {'soort': 'Spoor', 'projectcd': '$brondata.project'}}]"
      ]
     },
     "execution_count": 27,
     "metadata": {},
     "output_type": "execute_result"
    }
   ],
   "source": [
    "lst[1]"
   ]
  },
  {
   "cell_type": "code",
   "execution_count": 28,
   "metadata": {},
   "outputs": [
    {
     "data": {
      "text/plain": [
       "True"
      ]
     },
     "execution_count": 28,
     "metadata": {},
     "output_type": "execute_result"
    }
   ],
   "source": [
    "isinstance(lst[1], list)"
   ]
  },
  {
   "cell_type": "code",
   "execution_count": 31,
   "metadata": {},
   "outputs": [],
   "source": [
    "wasstraat_model = {\n",
    "  \"Put\": {\n",
    "        HARMONIZE_PIPELINES: [getHarmonizer('Put')],\n",
    "        SET_REFERENCES_PIPELINES: [[ \n",
    "            { '$match': { '$and': [{'putnr': { '$exists': True }}, {'projectcd': { '$exists': True }}]}},\n",
    "            { '$group':{'_id': {\"projectcd\" : \"$projectcd\", 'putnr': \"$putnr\"}}},\n",
    "            { '$unwind': \"$_id\"},\n",
    "            { '$project': {'_id': 0, 'projectcd': \"$_id.projectcd\", 'putnr': \"$_id.putnr\"}},\n",
    "            { '$addFields': {'key': { '$concat': [ \"P\", \"$projectcd\", \"P\", {'$toString': \"$putnr\"}] }}},  \t\t\n",
    "            { '$addFields': {'key_project': { '$concat': [ \"P\", \"$projectcd\"]}}},\n",
    "            { '$addFields': {'soort': 'Put'}}\t\n",
    "            #, { '$merge': {'into': config.COLL_ANALYSE_CLEAN}}\n",
    "        ]]\n",
    "  },\n",
    "  \"Vlak\": {\n",
    "        HARMONIZE_PIPELINES: [[]],\n",
    "        SET_REFERENCES_PIPELINES: [[ \n",
    "            { '$match': {'vlaknr': { '$exists': True }}},\n",
    "            { '$group':{'_id': {\"projectcd\" : \"$projectcd\", 'putnr': \"$putnr\", 'vlaknr': \"$vlaknr\"}}},\n",
    "            { '$unwind': \"$_id\"},\n",
    "            { '$project': {'_id': 0, 'projectcd': \"$_id.projectcd\", 'putnr': \"$_id.putnr\", 'vlaknr': \"$_id.vlaknr\"}},\n",
    "            { '$addFields': {'key': { '$concat': [ \"P\", \"$projectcd\", {'$ifNull': [{'$concat': [\"P\", {'$toString': \"$putnr\" }]}, \"\"]}, \"V\", {'$toString': \"$vlaknr\"}] }}},  \t\t\n",
    "            { '$addFields': {'key_project': { '$concat': [ \"P\", \"$projectcd\"]}}},\n",
    "            { '$addFields': {'key_put': { '$concat': [ \"P\", \"$projectcd\", {'$ifNull': [{'$concat': [\"P\", {'$toString': \"$putnr\" }]}, \"\"]}] }, 'soort': 'Vlak'}}\t\n",
    "            #, { '$merge': {'into': config.COLL_ANALYSE_CLEAN}}\n",
    "        ]]\n",
    "  },\n",
    "  \"Spoor\": {\n",
    "        HARMONIZE_PIPELINES: [getHarmonizer('Spoor')],\n",
    "        SET_REFERENCES_PIPELINES: [[ \n",
    "            {'$match': {'spoornr': { '$exists': True }}},\n",
    "            { '$group':{'_id': {'projectcd':\"$projectcd\", 'putnr':\"$putnr\", 'spoornr':\"$spoornr\", 'vlaknr':\"$vlaknr\"}, 'aard': {'$max': \"$aard\"}}},  \n",
    "            { '$unwind': \"$_id\"},\n",
    "            { '$project': {'_id': 0, 'projectcd': \"$_id.projectcd\", 'putnr': \"$_id.putnr\", 'spoornr': \"$_id.spoornr\", 'vlaknr': \"$_id.vlaknr\"}},\n",
    "            { '$addFields': {'key': { '$concat': [ \"P\", \"$projectcd\", \n",
    "                {'$ifNull': [{'$concat': [\"P\", {'$toString': \"$putnr\" }]}, \"\"]},\n",
    "                {'$ifNull': [{'$concat': [\"V\", {'$toString': \"$vlaknr\"}]}, \"\"]}, \"S\", {'$toString': \"$spoornr\"}] }}},  \t\t\n",
    "            { '$addFields': {'key_vlak': { '$concat': [ \"P\", \"$projectcd\", \n",
    "                {'$ifNull': [{'$concat': [\"P\", {'$toString': \"$putnr\" }]}, \"\"]},\n",
    "                {'$ifNull': [{'$concat': [\"V\", {'$toString': \"$vlaknr\"}]}, \"\"]}] }}},  \t\n",
    "            { '$addFields': {'key_project': { '$concat': [ \"P\", \"$projectcd\"]}}},\n",
    "            { '$addFields': {'soort': 'Spoor'}}\t\n",
    "            #, { '$merge': config.COLL_ANALYSE_CLEAN}\n",
    "        ]]\n",
    "  }}"
   ]
  },
  {
   "cell_type": "code",
   "execution_count": 32,
   "metadata": {},
   "outputs": [],
   "source": [
    "def getHarmonizePipeline(soort):\n",
    "    if soort in wasstraat_model.keys():\n",
    "        return wasstraat_model[soort][HARMONIZE_PIPELINES][0]\n",
    "    else:\n",
    "        raise Exception(f'Fout bij het opvragen van metadata. {soort} is een onbekend metadatasoort.')\n",
    "\n",
    "def getHarmonizePipelines(soort):\n",
    "    if soort in wasstraat_model.keys():\n",
    "        return wasstraat_model[soort][HARMONIZE_PIPELINES]\n",
    "    else:\n",
    "        raise Exception(f'Fout bij het opvragen van metadata. {soort} is een onbekend metadatasoort.')\n"
   ]
  },
  {
   "cell_type": "code",
   "execution_count": 35,
   "metadata": {},
   "outputs": [
    {
     "data": {
      "text/plain": [
       "[[{'$match': {'table': {'$in': ['PUT', 'PUTTEN']}}},\n",
       "  {'$replaceRoot': {'newRoot': {'_id': '$_id', 'brondata': '$$ROOT'}}},\n",
       "  {'$addFields': {'soort': 'Put', 'projectcd': '$brondata.project'}}]]"
      ]
     },
     "execution_count": 35,
     "metadata": {},
     "output_type": "execute_result"
    }
   ],
   "source": [
    "getHarmonizePipeline(\"Put\")"
   ]
  },
  {
   "cell_type": "code",
   "execution_count": 8,
   "metadata": {},
   "outputs": [
    {
     "ename": "TypeError",
     "evalue": "list indices must be integers or slices, not str",
     "output_type": "error",
     "traceback": [
      "\u001b[0;31m---------------------------------------------------------------------------\u001b[0m",
      "\u001b[0;31mTypeError\u001b[0m                                 Traceback (most recent call last)",
      "\u001b[0;32m<ipython-input-8-4c73a79d38b4>\u001b[0m in \u001b[0;36m<module>\u001b[0;34m\u001b[0m\n\u001b[1;32m      1\u001b[0m \u001b[0md\u001b[0m \u001b[0;34m=\u001b[0m \u001b[0;34m[\u001b[0m\u001b[0;34m{\u001b[0m\u001b[0;34m\"Hallo\"\u001b[0m\u001b[0;34m:\u001b[0m \u001b[0;34m\"Hallo\"\u001b[0m\u001b[0;34m}\u001b[0m\u001b[0;34m,\u001b[0m \u001b[0;34m{\u001b[0m\u001b[0;34m\"Hallo2\"\u001b[0m\u001b[0;34m:\u001b[0m \u001b[0;34m\"Hallo2\"\u001b[0m\u001b[0;34m}\u001b[0m\u001b[0;34m]\u001b[0m\u001b[0;34m\u001b[0m\u001b[0;34m\u001b[0m\u001b[0m\n\u001b[0;32m----> 2\u001b[0;31m \u001b[0md\u001b[0m\u001b[0;34m[\u001b[0m\u001b[0;34m'Hallo'\u001b[0m\u001b[0;34m]\u001b[0m\u001b[0;34m\u001b[0m\u001b[0;34m\u001b[0m\u001b[0m\n\u001b[0m",
      "\u001b[0;31mTypeError\u001b[0m: list indices must be integers or slices, not str"
     ]
    }
   ],
   "source": [
    "d = [{\"Hallo\": \"Hallo\"}, {\"Hallo2\": \"Hallo2\"}]\n",
    "d['Hallo']"
   ]
  },
  {
   "cell_type": "code",
   "execution_count": null,
   "metadata": {},
   "outputs": [],
   "source": []
  },
  {
   "cell_type": "code",
   "execution_count": null,
   "metadata": {},
   "outputs": [],
   "source": []
  },
  {
   "cell_type": "code",
   "execution_count": null,
   "metadata": {},
   "outputs": [],
   "source": []
  },
  {
   "cell_type": "code",
   "execution_count": null,
   "metadata": {},
   "outputs": [],
   "source": []
  }
 ],
 "metadata": {
  "kernelspec": {
   "display_name": "Python 3",
   "language": "python",
   "name": "python3"
  },
  "language_info": {
   "codemirror_mode": {
    "name": "ipython",
    "version": 3
   },
   "file_extension": ".py",
   "mimetype": "text/x-python",
   "name": "python",
   "nbconvert_exporter": "python",
   "pygments_lexer": "ipython3",
   "version": "3.8.6"
  }
 },
 "nbformat": 4,
 "nbformat_minor": 4
}
